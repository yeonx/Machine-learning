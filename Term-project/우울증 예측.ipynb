{
 "cells": [
  {
   "cell_type": "markdown",
   "id": "trained-scottish",
   "metadata": {
    "papermill": {
     "duration": 0.043342,
     "end_time": "2021-06-06T09:46:38.798502",
     "exception": false,
     "start_time": "2021-06-06T09:46:38.755160",
     "status": "completed"
    },
    "tags": []
   },
   "source": [
    "# 반드시 처음부터 끝까지 스켈레톤 코드를 살펴보고 구현하기 시작하길 바란다\n",
    "\n",
    "## 1. 스켈레톤 코드를 [복사 및 편집] 하여 사용한다.\n",
    "## 2. 아래의 [Empty Module 3개]를 직접 구현한다.\n"
   ]
  },
  {
   "cell_type": "code",
   "execution_count": 1,
   "id": "recognized-broadcast",
   "metadata": {
    "execution": {
     "iopub.execute_input": "2021-06-06T09:46:38.883282Z",
     "iopub.status.busy": "2021-06-06T09:46:38.882660Z",
     "iopub.status.idle": "2021-06-06T09:46:38.936880Z",
     "shell.execute_reply": "2021-06-06T09:46:38.936083Z",
     "shell.execute_reply.started": "2021-06-06T09:03:15.095156Z"
    },
    "papermill": {
     "duration": 0.099281,
     "end_time": "2021-06-06T09:46:38.937057",
     "exception": false,
     "start_time": "2021-06-06T09:46:38.837776",
     "status": "completed"
    },
    "tags": []
   },
   "outputs": [
    {
     "name": "stdout",
     "output_type": "stream",
     "text": [
      "/kaggle/input/2021-ml-tp8/train_Y.csv\n",
      "/kaggle/input/2021-ml-tp8/sample_submit.csv\n",
      "/kaggle/input/2021-ml-tp8/StduentLife_EMA/EMA/EMA_definition.json\n",
      "/kaggle/input/2021-ml-tp8/StduentLife_EMA/EMA/response/Stress/Stress_u31.json\n",
      "/kaggle/input/2021-ml-tp8/StduentLife_EMA/EMA/response/Stress/Stress_u36.json\n",
      "/kaggle/input/2021-ml-tp8/StduentLife_EMA/EMA/response/Stress/Stress_u20.json\n",
      "/kaggle/input/2021-ml-tp8/StduentLife_EMA/EMA/response/Stress/Stress_u22.json\n",
      "/kaggle/input/2021-ml-tp8/StduentLife_EMA/EMA/response/Stress/Stress_u07.json\n",
      "/kaggle/input/2021-ml-tp8/StduentLife_EMA/EMA/response/Stress/Stress_u05.json\n",
      "/kaggle/input/2021-ml-tp8/StduentLife_EMA/EMA/response/Stress/Stress_u51.json\n",
      "/kaggle/input/2021-ml-tp8/StduentLife_EMA/EMA/response/Stress/Stress_u27.json\n",
      "/kaggle/input/2021-ml-tp8/StduentLife_EMA/EMA/response/Stress/Stress_u56.json\n",
      "/kaggle/input/2021-ml-tp8/StduentLife_EMA/EMA/response/Stress/Stress_u23.json\n",
      "/kaggle/input/2021-ml-tp8/StduentLife_EMA/EMA/response/Stress/Stress_u09.json\n",
      "/kaggle/input/2021-ml-tp8/StduentLife_EMA/EMA/response/Stress/Stress_u54.json\n",
      "/kaggle/input/2021-ml-tp8/StduentLife_EMA/EMA/response/Stress/Stress_u15.json\n",
      "/kaggle/input/2021-ml-tp8/StduentLife_EMA/EMA/response/Stress/Stress_u34.json\n",
      "/kaggle/input/2021-ml-tp8/StduentLife_EMA/EMA/response/Stress/Stress_u42.json\n",
      "/kaggle/input/2021-ml-tp8/StduentLife_EMA/EMA/response/Stress/Stress_u30.json\n",
      "/kaggle/input/2021-ml-tp8/StduentLife_EMA/EMA/response/Stress/Stress_u02.json\n",
      "/kaggle/input/2021-ml-tp8/StduentLife_EMA/EMA/response/Stress/Stress_u16.json\n",
      "/kaggle/input/2021-ml-tp8/StduentLife_EMA/EMA/response/Stress/Stress_u46.json\n",
      "/kaggle/input/2021-ml-tp8/StduentLife_EMA/EMA/response/Stress/Stress_u58.json\n",
      "/kaggle/input/2021-ml-tp8/StduentLife_EMA/EMA/response/Stress/Stress_u44.json\n",
      "/kaggle/input/2021-ml-tp8/StduentLife_EMA/EMA/response/Stress/Stress_u47.json\n",
      "/kaggle/input/2021-ml-tp8/StduentLife_EMA/EMA/response/Stress/Stress_u03.json\n",
      "/kaggle/input/2021-ml-tp8/StduentLife_EMA/EMA/response/Stress/Stress_u19.json\n",
      "/kaggle/input/2021-ml-tp8/StduentLife_EMA/EMA/response/Stress/Stress_u00.json\n",
      "/kaggle/input/2021-ml-tp8/StduentLife_EMA/EMA/response/Stress/Stress_u32.json\n",
      "/kaggle/input/2021-ml-tp8/StduentLife_EMA/EMA/response/Stress/Stress_u01.json\n",
      "/kaggle/input/2021-ml-tp8/StduentLife_EMA/EMA/response/Stress/Stress_u49.json\n",
      "/kaggle/input/2021-ml-tp8/StduentLife_EMA/EMA/response/Stress/Stress_u12.json\n",
      "/kaggle/input/2021-ml-tp8/StduentLife_EMA/EMA/response/Stress/Stress_u24.json\n",
      "/kaggle/input/2021-ml-tp8/StduentLife_EMA/EMA/response/Stress/Stress_u50.json\n",
      "/kaggle/input/2021-ml-tp8/StduentLife_EMA/EMA/response/Stress/Stress_u17.json\n",
      "/kaggle/input/2021-ml-tp8/StduentLife_EMA/EMA/response/Stress/Stress_u33.json\n",
      "/kaggle/input/2021-ml-tp8/StduentLife_EMA/EMA/response/Stress/Stress_u45.json\n",
      "/kaggle/input/2021-ml-tp8/StduentLife_EMA/EMA/response/Stress/Stress_u25.json\n",
      "/kaggle/input/2021-ml-tp8/StduentLife_EMA/EMA/response/Stress/Stress_u08.json\n",
      "/kaggle/input/2021-ml-tp8/StduentLife_EMA/EMA/response/Stress/Stress_u53.json\n",
      "/kaggle/input/2021-ml-tp8/StduentLife_EMA/EMA/response/Stress/Stress_u43.json\n",
      "/kaggle/input/2021-ml-tp8/StduentLife_EMA/EMA/response/Stress/Stress_u52.json\n",
      "/kaggle/input/2021-ml-tp8/StduentLife_EMA/EMA/response/Stress/Stress_u57.json\n",
      "/kaggle/input/2021-ml-tp8/StduentLife_EMA/EMA/response/Stress/Stress_u10.json\n",
      "/kaggle/input/2021-ml-tp8/StduentLife_EMA/EMA/response/Stress/Stress_u39.json\n",
      "/kaggle/input/2021-ml-tp8/StduentLife_EMA/EMA/response/Stress/Stress_u14.json\n",
      "/kaggle/input/2021-ml-tp8/StduentLife_EMA/EMA/response/Stress/Stress_u59.json\n",
      "/kaggle/input/2021-ml-tp8/StduentLife_EMA/EMA/response/Stress/Stress_u13.json\n",
      "/kaggle/input/2021-ml-tp8/StduentLife_EMA/EMA/response/Stress/Stress_u18.json\n",
      "/kaggle/input/2021-ml-tp8/StduentLife_EMA/EMA/response/Stress/Stress_u04.json\n",
      "/kaggle/input/2021-ml-tp8/StduentLife_EMA/EMA/response/Stress/Stress_u41.json\n",
      "/kaggle/input/2021-ml-tp8/StduentLife_EMA/EMA/response/Stress/Stress_u35.json\n",
      "/kaggle/input/2021-ml-tp8/StduentLife_EMA/EMA/response/Exercise/Exercise_u53.json\n",
      "/kaggle/input/2021-ml-tp8/StduentLife_EMA/EMA/response/Exercise/Exercise_u19.json\n",
      "/kaggle/input/2021-ml-tp8/StduentLife_EMA/EMA/response/Exercise/Exercise_u08.json\n",
      "/kaggle/input/2021-ml-tp8/StduentLife_EMA/EMA/response/Exercise/Exercise_u31.json\n",
      "/kaggle/input/2021-ml-tp8/StduentLife_EMA/EMA/response/Exercise/Exercise_u22.json\n",
      "/kaggle/input/2021-ml-tp8/StduentLife_EMA/EMA/response/Exercise/Exercise_u16.json\n",
      "/kaggle/input/2021-ml-tp8/StduentLife_EMA/EMA/response/Exercise/Exercise_u18.json\n",
      "/kaggle/input/2021-ml-tp8/StduentLife_EMA/EMA/response/Exercise/Exercise_u32.json\n",
      "/kaggle/input/2021-ml-tp8/StduentLife_EMA/EMA/response/Exercise/Exercise_u09.json\n",
      "/kaggle/input/2021-ml-tp8/StduentLife_EMA/EMA/response/Exercise/Exercise_u17.json\n",
      "/kaggle/input/2021-ml-tp8/StduentLife_EMA/EMA/response/Exercise/Exercise_u20.json\n",
      "/kaggle/input/2021-ml-tp8/StduentLife_EMA/EMA/response/Exercise/Exercise_u52.json\n",
      "/kaggle/input/2021-ml-tp8/StduentLife_EMA/EMA/response/Exercise/Exercise_u13.json\n",
      "/kaggle/input/2021-ml-tp8/StduentLife_EMA/EMA/response/Exercise/Exercise_u34.json\n",
      "/kaggle/input/2021-ml-tp8/StduentLife_EMA/EMA/response/Exercise/Exercise_u00.json\n",
      "/kaggle/input/2021-ml-tp8/StduentLife_EMA/EMA/response/Exercise/Exercise_u12.json\n",
      "/kaggle/input/2021-ml-tp8/StduentLife_EMA/EMA/response/Exercise/Exercise_u02.json\n",
      "/kaggle/input/2021-ml-tp8/StduentLife_EMA/EMA/response/Exercise/Exercise_u41.json\n",
      "/kaggle/input/2021-ml-tp8/StduentLife_EMA/EMA/response/Exercise/Exercise_u36.json\n",
      "/kaggle/input/2021-ml-tp8/StduentLife_EMA/EMA/response/Exercise/Exercise_u51.json\n",
      "/kaggle/input/2021-ml-tp8/StduentLife_EMA/EMA/response/Exercise/Exercise_u59.json\n",
      "/kaggle/input/2021-ml-tp8/StduentLife_EMA/EMA/response/Exercise/Exercise_u25.json\n",
      "/kaggle/input/2021-ml-tp8/StduentLife_EMA/EMA/response/Exercise/Exercise_u42.json\n",
      "/kaggle/input/2021-ml-tp8/StduentLife_EMA/EMA/response/Exercise/Exercise_u15.json\n",
      "/kaggle/input/2021-ml-tp8/StduentLife_EMA/EMA/response/Exercise/Exercise_u27.json\n",
      "/kaggle/input/2021-ml-tp8/StduentLife_EMA/EMA/response/Exercise/Exercise_u33.json\n",
      "/kaggle/input/2021-ml-tp8/StduentLife_EMA/EMA/response/Exercise/Exercise_u07.json\n",
      "/kaggle/input/2021-ml-tp8/StduentLife_EMA/EMA/response/Exercise/Exercise_u03.json\n",
      "/kaggle/input/2021-ml-tp8/StduentLife_EMA/EMA/response/Exercise/Exercise_u46.json\n",
      "/kaggle/input/2021-ml-tp8/StduentLife_EMA/EMA/response/Exercise/Exercise_u50.json\n",
      "/kaggle/input/2021-ml-tp8/StduentLife_EMA/EMA/response/Exercise/Exercise_u14.json\n",
      "/kaggle/input/2021-ml-tp8/StduentLife_EMA/EMA/response/Exercise/Exercise_u10.json\n",
      "/kaggle/input/2021-ml-tp8/StduentLife_EMA/EMA/response/Exercise/Exercise_u56.json\n",
      "/kaggle/input/2021-ml-tp8/StduentLife_EMA/EMA/response/Exercise/Exercise_u39.json\n",
      "/kaggle/input/2021-ml-tp8/StduentLife_EMA/EMA/response/Exercise/Exercise_u58.json\n",
      "/kaggle/input/2021-ml-tp8/StduentLife_EMA/EMA/response/Exercise/Exercise_u23.json\n",
      "/kaggle/input/2021-ml-tp8/StduentLife_EMA/EMA/response/Exercise/Exercise_u44.json\n",
      "/kaggle/input/2021-ml-tp8/StduentLife_EMA/EMA/response/Exercise/Exercise_u04.json\n",
      "/kaggle/input/2021-ml-tp8/StduentLife_EMA/EMA/response/Exercise/Exercise_u45.json\n",
      "/kaggle/input/2021-ml-tp8/StduentLife_EMA/EMA/response/Exercise/Exercise_u54.json\n",
      "/kaggle/input/2021-ml-tp8/StduentLife_EMA/EMA/response/Exercise/Exercise_u24.json\n",
      "/kaggle/input/2021-ml-tp8/StduentLife_EMA/EMA/response/Exercise/Exercise_u49.json\n",
      "/kaggle/input/2021-ml-tp8/StduentLife_EMA/EMA/response/Exercise/Exercise_u30.json\n",
      "/kaggle/input/2021-ml-tp8/StduentLife_EMA/EMA/response/Exercise/Exercise_u01.json\n",
      "/kaggle/input/2021-ml-tp8/StduentLife_EMA/EMA/response/Exercise/Exercise_u05.json\n",
      "/kaggle/input/2021-ml-tp8/StduentLife_EMA/EMA/response/Exercise/Exercise_u47.json\n",
      "/kaggle/input/2021-ml-tp8/StduentLife_EMA/EMA/response/Exercise/Exercise_u43.json\n",
      "/kaggle/input/2021-ml-tp8/StduentLife_EMA/EMA/response/Exercise/Exercise_u35.json\n",
      "/kaggle/input/2021-ml-tp8/StduentLife_EMA/EMA/response/Exercise/Exercise_u57.json\n",
      "/kaggle/input/2021-ml-tp8/StduentLife_EMA/EMA/response/Social/Social_u24.json\n",
      "/kaggle/input/2021-ml-tp8/StduentLife_EMA/EMA/response/Social/Social_u31.json\n",
      "/kaggle/input/2021-ml-tp8/StduentLife_EMA/EMA/response/Social/Social_u44.json\n",
      "/kaggle/input/2021-ml-tp8/StduentLife_EMA/EMA/response/Social/Social_u45.json\n",
      "/kaggle/input/2021-ml-tp8/StduentLife_EMA/EMA/response/Social/Social_u36.json\n",
      "/kaggle/input/2021-ml-tp8/StduentLife_EMA/EMA/response/Social/Social_u22.json\n",
      "/kaggle/input/2021-ml-tp8/StduentLife_EMA/EMA/response/Social/Social_u53.json\n",
      "/kaggle/input/2021-ml-tp8/StduentLife_EMA/EMA/response/Social/Social_u13.json\n",
      "/kaggle/input/2021-ml-tp8/StduentLife_EMA/EMA/response/Social/Social_u19.json\n",
      "/kaggle/input/2021-ml-tp8/StduentLife_EMA/EMA/response/Social/Social_u20.json\n",
      "/kaggle/input/2021-ml-tp8/StduentLife_EMA/EMA/response/Social/Social_u04.json\n",
      "/kaggle/input/2021-ml-tp8/StduentLife_EMA/EMA/response/Social/Social_u56.json\n",
      "/kaggle/input/2021-ml-tp8/StduentLife_EMA/EMA/response/Social/Social_u05.json\n",
      "/kaggle/input/2021-ml-tp8/StduentLife_EMA/EMA/response/Social/Social_u00.json\n",
      "/kaggle/input/2021-ml-tp8/StduentLife_EMA/EMA/response/Social/Social_u34.json\n",
      "/kaggle/input/2021-ml-tp8/StduentLife_EMA/EMA/response/Social/Social_u02.json\n",
      "/kaggle/input/2021-ml-tp8/StduentLife_EMA/EMA/response/Social/Social_u39.json\n",
      "/kaggle/input/2021-ml-tp8/StduentLife_EMA/EMA/response/Social/Social_u01.json\n",
      "/kaggle/input/2021-ml-tp8/StduentLife_EMA/EMA/response/Social/Social_u52.json\n",
      "/kaggle/input/2021-ml-tp8/StduentLife_EMA/EMA/response/Social/Social_u54.json\n",
      "/kaggle/input/2021-ml-tp8/StduentLife_EMA/EMA/response/Social/Social_u30.json\n",
      "/kaggle/input/2021-ml-tp8/StduentLife_EMA/EMA/response/Social/Social_u17.json\n",
      "/kaggle/input/2021-ml-tp8/StduentLife_EMA/EMA/response/Social/Social_u12.json\n",
      "/kaggle/input/2021-ml-tp8/StduentLife_EMA/EMA/response/Social/Social_u46.json\n",
      "/kaggle/input/2021-ml-tp8/StduentLife_EMA/EMA/response/Social/Social_u25.json\n",
      "/kaggle/input/2021-ml-tp8/StduentLife_EMA/EMA/response/Social/Social_u51.json\n",
      "/kaggle/input/2021-ml-tp8/StduentLife_EMA/EMA/response/Social/Social_u09.json\n",
      "/kaggle/input/2021-ml-tp8/StduentLife_EMA/EMA/response/Social/Social_u58.json\n",
      "/kaggle/input/2021-ml-tp8/StduentLife_EMA/EMA/response/Social/Social_u27.json\n",
      "/kaggle/input/2021-ml-tp8/StduentLife_EMA/EMA/response/Social/Social_u47.json\n",
      "/kaggle/input/2021-ml-tp8/StduentLife_EMA/EMA/response/Social/Social_u59.json\n",
      "/kaggle/input/2021-ml-tp8/StduentLife_EMA/EMA/response/Social/Social_u14.json\n",
      "/kaggle/input/2021-ml-tp8/StduentLife_EMA/EMA/response/Social/Social_u32.json\n",
      "/kaggle/input/2021-ml-tp8/StduentLife_EMA/EMA/response/Social/Social_u03.json\n",
      "/kaggle/input/2021-ml-tp8/StduentLife_EMA/EMA/response/Social/Social_u42.json\n",
      "/kaggle/input/2021-ml-tp8/StduentLife_EMA/EMA/response/Social/Social_u10.json\n",
      "/kaggle/input/2021-ml-tp8/StduentLife_EMA/EMA/response/Social/Social_u33.json\n",
      "/kaggle/input/2021-ml-tp8/StduentLife_EMA/EMA/response/Social/Social_u18.json\n",
      "/kaggle/input/2021-ml-tp8/StduentLife_EMA/EMA/response/Social/Social_u15.json\n",
      "/kaggle/input/2021-ml-tp8/StduentLife_EMA/EMA/response/Social/Social_u23.json\n",
      "/kaggle/input/2021-ml-tp8/StduentLife_EMA/EMA/response/Social/Social_u35.json\n",
      "/kaggle/input/2021-ml-tp8/StduentLife_EMA/EMA/response/Social/Social_u57.json\n",
      "/kaggle/input/2021-ml-tp8/StduentLife_EMA/EMA/response/Social/Social_u43.json\n",
      "/kaggle/input/2021-ml-tp8/StduentLife_EMA/EMA/response/Social/Social_u07.json\n",
      "/kaggle/input/2021-ml-tp8/StduentLife_EMA/EMA/response/Social/Social_u08.json\n",
      "/kaggle/input/2021-ml-tp8/StduentLife_EMA/EMA/response/Social/Social_u49.json\n",
      "/kaggle/input/2021-ml-tp8/StduentLife_EMA/EMA/response/Social/Social_u50.json\n",
      "/kaggle/input/2021-ml-tp8/StduentLife_EMA/EMA/response/Social/Social_u41.json\n",
      "/kaggle/input/2021-ml-tp8/StduentLife_EMA/EMA/response/Social/Social_u16.json\n",
      "/kaggle/input/2021-ml-tp8/StduentLife_EMA/EMA/response/Sleep/Sleep_u01.json\n",
      "/kaggle/input/2021-ml-tp8/StduentLife_EMA/EMA/response/Sleep/Sleep_u56.json\n",
      "/kaggle/input/2021-ml-tp8/StduentLife_EMA/EMA/response/Sleep/Sleep_u58.json\n",
      "/kaggle/input/2021-ml-tp8/StduentLife_EMA/EMA/response/Sleep/Sleep_u03.json\n",
      "/kaggle/input/2021-ml-tp8/StduentLife_EMA/EMA/response/Sleep/Sleep_u20.json\n",
      "/kaggle/input/2021-ml-tp8/StduentLife_EMA/EMA/response/Sleep/Sleep_u31.json\n",
      "/kaggle/input/2021-ml-tp8/StduentLife_EMA/EMA/response/Sleep/Sleep_u54.json\n",
      "/kaggle/input/2021-ml-tp8/StduentLife_EMA/EMA/response/Sleep/Sleep_u13.json\n",
      "/kaggle/input/2021-ml-tp8/StduentLife_EMA/EMA/response/Sleep/Sleep_u04.json\n",
      "/kaggle/input/2021-ml-tp8/StduentLife_EMA/EMA/response/Sleep/Sleep_u18.json\n",
      "/kaggle/input/2021-ml-tp8/StduentLife_EMA/EMA/response/Sleep/Sleep_u08.json\n",
      "/kaggle/input/2021-ml-tp8/StduentLife_EMA/EMA/response/Sleep/Sleep_u17.json\n",
      "/kaggle/input/2021-ml-tp8/StduentLife_EMA/EMA/response/Sleep/Sleep_u02.json\n",
      "/kaggle/input/2021-ml-tp8/StduentLife_EMA/EMA/response/Sleep/Sleep_u25.json\n",
      "/kaggle/input/2021-ml-tp8/StduentLife_EMA/EMA/response/Sleep/Sleep_u36.json\n",
      "/kaggle/input/2021-ml-tp8/StduentLife_EMA/EMA/response/Sleep/Sleep_u00.json\n",
      "/kaggle/input/2021-ml-tp8/StduentLife_EMA/EMA/response/Sleep/Sleep_u19.json\n",
      "/kaggle/input/2021-ml-tp8/StduentLife_EMA/EMA/response/Sleep/Sleep_u44.json\n",
      "/kaggle/input/2021-ml-tp8/StduentLife_EMA/EMA/response/Sleep/Sleep_u45.json\n",
      "/kaggle/input/2021-ml-tp8/StduentLife_EMA/EMA/response/Sleep/Sleep_u43.json\n",
      "/kaggle/input/2021-ml-tp8/StduentLife_EMA/EMA/response/Sleep/Sleep_u57.json\n",
      "/kaggle/input/2021-ml-tp8/StduentLife_EMA/EMA/response/Sleep/Sleep_u07.json\n",
      "/kaggle/input/2021-ml-tp8/StduentLife_EMA/EMA/response/Sleep/Sleep_u32.json\n",
      "/kaggle/input/2021-ml-tp8/StduentLife_EMA/EMA/response/Sleep/Sleep_u49.json\n",
      "/kaggle/input/2021-ml-tp8/StduentLife_EMA/EMA/response/Sleep/Sleep_u42.json\n",
      "/kaggle/input/2021-ml-tp8/StduentLife_EMA/EMA/response/Sleep/Sleep_u33.json\n",
      "/kaggle/input/2021-ml-tp8/StduentLife_EMA/EMA/response/Sleep/Sleep_u10.json\n",
      "/kaggle/input/2021-ml-tp8/StduentLife_EMA/EMA/response/Sleep/Sleep_u30.json\n",
      "/kaggle/input/2021-ml-tp8/StduentLife_EMA/EMA/response/Sleep/Sleep_u52.json\n",
      "/kaggle/input/2021-ml-tp8/StduentLife_EMA/EMA/response/Sleep/Sleep_u39.json\n",
      "/kaggle/input/2021-ml-tp8/StduentLife_EMA/EMA/response/Sleep/Sleep_u15.json\n",
      "/kaggle/input/2021-ml-tp8/StduentLife_EMA/EMA/response/Sleep/Sleep_u35.json\n",
      "/kaggle/input/2021-ml-tp8/StduentLife_EMA/EMA/response/Sleep/Sleep_u34.json\n",
      "/kaggle/input/2021-ml-tp8/StduentLife_EMA/EMA/response/Sleep/Sleep_u14.json\n",
      "/kaggle/input/2021-ml-tp8/StduentLife_EMA/EMA/response/Sleep/Sleep_u46.json\n",
      "/kaggle/input/2021-ml-tp8/StduentLife_EMA/EMA/response/Sleep/Sleep_u50.json\n",
      "/kaggle/input/2021-ml-tp8/StduentLife_EMA/EMA/response/Sleep/Sleep_u05.json\n",
      "/kaggle/input/2021-ml-tp8/StduentLife_EMA/EMA/response/Sleep/Sleep_u23.json\n",
      "/kaggle/input/2021-ml-tp8/StduentLife_EMA/EMA/response/Sleep/Sleep_u09.json\n",
      "/kaggle/input/2021-ml-tp8/StduentLife_EMA/EMA/response/Sleep/Sleep_u24.json\n",
      "/kaggle/input/2021-ml-tp8/StduentLife_EMA/EMA/response/Sleep/Sleep_u53.json\n",
      "/kaggle/input/2021-ml-tp8/StduentLife_EMA/EMA/response/Sleep/Sleep_u27.json\n",
      "/kaggle/input/2021-ml-tp8/StduentLife_EMA/EMA/response/Sleep/Sleep_u16.json\n",
      "/kaggle/input/2021-ml-tp8/StduentLife_EMA/EMA/response/Sleep/Sleep_u51.json\n",
      "/kaggle/input/2021-ml-tp8/StduentLife_EMA/EMA/response/Sleep/Sleep_u41.json\n",
      "/kaggle/input/2021-ml-tp8/StduentLife_EMA/EMA/response/Sleep/Sleep_u59.json\n",
      "/kaggle/input/2021-ml-tp8/StduentLife_EMA/EMA/response/Sleep/Sleep_u12.json\n",
      "/kaggle/input/2021-ml-tp8/StduentLife_EMA/EMA/response/Sleep/Sleep_u22.json\n",
      "/kaggle/input/2021-ml-tp8/StduentLife_EMA/EMA/response/Sleep/Sleep_u47.json\n",
      "/kaggle/input/2021-ml-tp8/StduentLife_EMA/EMA/response/Activity/Activity_u23.json\n",
      "/kaggle/input/2021-ml-tp8/StduentLife_EMA/EMA/response/Activity/Activity_u57.json\n",
      "/kaggle/input/2021-ml-tp8/StduentLife_EMA/EMA/response/Activity/Activity_u53.json\n",
      "/kaggle/input/2021-ml-tp8/StduentLife_EMA/EMA/response/Activity/Activity_u35.json\n",
      "/kaggle/input/2021-ml-tp8/StduentLife_EMA/EMA/response/Activity/Activity_u09.json\n",
      "/kaggle/input/2021-ml-tp8/StduentLife_EMA/EMA/response/Activity/Activity_u50.json\n",
      "/kaggle/input/2021-ml-tp8/StduentLife_EMA/EMA/response/Activity/Activity_u59.json\n",
      "/kaggle/input/2021-ml-tp8/StduentLife_EMA/EMA/response/Activity/Activity_u22.json\n",
      "/kaggle/input/2021-ml-tp8/StduentLife_EMA/EMA/response/Activity/Activity_u03.json\n",
      "/kaggle/input/2021-ml-tp8/StduentLife_EMA/EMA/response/Activity/Activity_u39.json\n",
      "/kaggle/input/2021-ml-tp8/StduentLife_EMA/EMA/response/Activity/Activity_u25.json\n",
      "/kaggle/input/2021-ml-tp8/StduentLife_EMA/EMA/response/Activity/Activity_u54.json\n",
      "/kaggle/input/2021-ml-tp8/StduentLife_EMA/EMA/response/Activity/Activity_u49.json\n",
      "/kaggle/input/2021-ml-tp8/StduentLife_EMA/EMA/response/Activity/Activity_u34.json\n",
      "/kaggle/input/2021-ml-tp8/StduentLife_EMA/EMA/response/Activity/Activity_u43.json\n",
      "/kaggle/input/2021-ml-tp8/StduentLife_EMA/EMA/response/Activity/Activity_u18.json\n",
      "/kaggle/input/2021-ml-tp8/StduentLife_EMA/EMA/response/Activity/Activity_u20.json\n",
      "/kaggle/input/2021-ml-tp8/StduentLife_EMA/EMA/response/Activity/Activity_u31.json\n",
      "/kaggle/input/2021-ml-tp8/StduentLife_EMA/EMA/response/Activity/Activity_u00.json\n",
      "/kaggle/input/2021-ml-tp8/StduentLife_EMA/EMA/response/Activity/Activity_u33.json\n",
      "/kaggle/input/2021-ml-tp8/StduentLife_EMA/EMA/response/Activity/Activity_u47.json\n",
      "/kaggle/input/2021-ml-tp8/StduentLife_EMA/EMA/response/Activity/Activity_u51.json\n",
      "/kaggle/input/2021-ml-tp8/StduentLife_EMA/EMA/response/Activity/Activity_u12.json\n",
      "/kaggle/input/2021-ml-tp8/StduentLife_EMA/EMA/response/Activity/Activity_u52.json\n",
      "/kaggle/input/2021-ml-tp8/StduentLife_EMA/EMA/response/Activity/Activity_u46.json\n",
      "/kaggle/input/2021-ml-tp8/StduentLife_EMA/EMA/response/Activity/Activity_u56.json\n",
      "/kaggle/input/2021-ml-tp8/StduentLife_EMA/EMA/response/Activity/Activity_u27.json\n",
      "/kaggle/input/2021-ml-tp8/StduentLife_EMA/EMA/response/Activity/Activity_u17.json\n",
      "/kaggle/input/2021-ml-tp8/StduentLife_EMA/EMA/response/Activity/Activity_u58.json\n",
      "/kaggle/input/2021-ml-tp8/StduentLife_EMA/EMA/response/Activity/Activity_u08.json\n",
      "/kaggle/input/2021-ml-tp8/StduentLife_EMA/EMA/response/Activity/Activity_u07.json\n",
      "/kaggle/input/2021-ml-tp8/StduentLife_EMA/EMA/response/Activity/Activity_u19.json\n",
      "/kaggle/input/2021-ml-tp8/StduentLife_EMA/EMA/response/Activity/Activity_u30.json\n",
      "/kaggle/input/2021-ml-tp8/StduentLife_EMA/EMA/response/Activity/Activity_u36.json\n",
      "/kaggle/input/2021-ml-tp8/StduentLife_EMA/EMA/response/Activity/Activity_u15.json\n",
      "/kaggle/input/2021-ml-tp8/StduentLife_EMA/EMA/response/Activity/Activity_u14.json\n",
      "/kaggle/input/2021-ml-tp8/StduentLife_EMA/EMA/response/Activity/Activity_u41.json\n",
      "/kaggle/input/2021-ml-tp8/StduentLife_EMA/EMA/response/Activity/Activity_u24.json\n",
      "/kaggle/input/2021-ml-tp8/StduentLife_EMA/EMA/response/Activity/Activity_u02.json\n",
      "/kaggle/input/2021-ml-tp8/StduentLife_EMA/EMA/response/Activity/Activity_u10.json\n",
      "/kaggle/input/2021-ml-tp8/StduentLife_EMA/EMA/response/Activity/Activity_u05.json\n",
      "/kaggle/input/2021-ml-tp8/StduentLife_EMA/EMA/response/Activity/Activity_u32.json\n",
      "/kaggle/input/2021-ml-tp8/StduentLife_EMA/EMA/response/Activity/Activity_u01.json\n",
      "/kaggle/input/2021-ml-tp8/StduentLife_EMA/EMA/response/Activity/Activity_u42.json\n",
      "/kaggle/input/2021-ml-tp8/StduentLife_EMA/EMA/response/Activity/Activity_u45.json\n",
      "/kaggle/input/2021-ml-tp8/StduentLife_EMA/EMA/response/Activity/Activity_u13.json\n",
      "/kaggle/input/2021-ml-tp8/StduentLife_EMA/EMA/response/Activity/Activity_u16.json\n",
      "/kaggle/input/2021-ml-tp8/StduentLife_EMA/EMA/response/Activity/Activity_u44.json\n",
      "/kaggle/input/2021-ml-tp8/StduentLife_EMA/EMA/response/Activity/Activity_u04.json\n"
     ]
    }
   ],
   "source": [
    "# This Python 3 environment comes with many helpful analytics libraries installed\n",
    "# It is defined by the kaggle/python Docker image: https://github.com/kaggle/docker-python\n",
    "# For example, here's several helpful packages to load\n",
    "\n",
    "import numpy as np # linear algebra\n",
    "import pandas as pd # data processing, CSV file I/O (e.g. pd.read_csv)\n",
    "\n",
    "# Input data files are available in the read-only \"../input/\" directory\n",
    "# For example, running this (by clicking run or pressing Shift+Enter) will list all files under the input directory\n",
    "\n",
    "import os\n",
    "for dirname, _, filenames in os.walk('/kaggle/input'):\n",
    "    for filename in filenames:\n",
    "        print(os.path.join(dirname, filename))\n",
    "\n",
    "# You can write up to 20GB to the current directory (/kaggle/working/) that gets preserved as output when you create a version using \"Save & Run All\" \n",
    "# You can also write temporary files to /kaggle/temp/, but they won't be saved outside of the current session"
   ]
  },
  {
   "cell_type": "code",
   "execution_count": 2,
   "id": "muslim-acoustic",
   "metadata": {
    "execution": {
     "iopub.execute_input": "2021-06-06T09:46:39.023944Z",
     "iopub.status.busy": "2021-06-06T09:46:39.023284Z",
     "iopub.status.idle": "2021-06-06T09:46:39.026181Z",
     "shell.execute_reply": "2021-06-06T09:46:39.025642Z",
     "shell.execute_reply.started": "2021-06-06T09:03:15.193546Z"
    },
    "papermill": {
     "duration": 0.048016,
     "end_time": "2021-06-06T09:46:39.026317",
     "exception": false,
     "start_time": "2021-06-06T09:46:38.978301",
     "status": "completed"
    },
    "tags": []
   },
   "outputs": [],
   "source": [
    "#인자로 받은 패턴과 이름이 일치하는 모든 파일과 디렉터리의 리스트를 반환해주는 라이브러리\n",
    "from glob import glob\n",
    "#진행률 표시 해주는 라이브러리\n",
    "from tqdm import tqdm\n",
    "#json파일을 위해\n",
    "import json\n",
    "#pyplot을 이용해서 어떤 값들을 간단하게 시각화할 수 있다.\n",
    "from matplotlib import pyplot as plt"
   ]
  },
  {
   "cell_type": "code",
   "execution_count": 3,
   "id": "collectible-error",
   "metadata": {
    "execution": {
     "iopub.execute_input": "2021-06-06T09:46:39.113378Z",
     "iopub.status.busy": "2021-06-06T09:46:39.112756Z",
     "iopub.status.idle": "2021-06-06T09:46:39.137644Z",
     "shell.execute_reply": "2021-06-06T09:46:39.137064Z",
     "shell.execute_reply.started": "2021-06-06T09:03:15.203470Z"
    },
    "papermill": {
     "duration": 0.070857,
     "end_time": "2021-06-06T09:46:39.137786",
     "exception": false,
     "start_time": "2021-06-06T09:46:39.066929",
     "status": "completed"
    },
    "tags": []
   },
   "outputs": [],
   "source": [
    "#데이터 불러오기\n",
    "train = pd.read_csv('/kaggle/input/2021-ml-tp8/train_Y.csv')\n",
    "submit = pd.read_csv('/kaggle/input/2021-ml-tp8/sample_submit.csv')"
   ]
  },
  {
   "cell_type": "code",
   "execution_count": 4,
   "id": "satisfactory-parish",
   "metadata": {
    "execution": {
     "iopub.execute_input": "2021-06-06T09:46:39.232880Z",
     "iopub.status.busy": "2021-06-06T09:46:39.232231Z",
     "iopub.status.idle": "2021-06-06T09:46:39.235424Z",
     "shell.execute_reply": "2021-06-06T09:46:39.234935Z",
     "shell.execute_reply.started": "2021-06-06T09:03:15.239270Z"
    },
    "papermill": {
     "duration": 0.057602,
     "end_time": "2021-06-06T09:46:39.235596",
     "exception": false,
     "start_time": "2021-06-06T09:46:39.177994",
     "status": "completed"
    },
    "tags": []
   },
   "outputs": [],
   "source": [
    "#데이터 저장하기\n",
    "train_user = train['user']\n",
    "test_user = submit['user']\n",
    "y_train = train['label'].to_numpy()"
   ]
  },
  {
   "cell_type": "code",
   "execution_count": 5,
   "id": "banned-jacket",
   "metadata": {
    "execution": {
     "iopub.execute_input": "2021-06-06T09:46:39.324296Z",
     "iopub.status.busy": "2021-06-06T09:46:39.323666Z",
     "iopub.status.idle": "2021-06-06T09:46:39.326886Z",
     "shell.execute_reply": "2021-06-06T09:46:39.326249Z",
     "shell.execute_reply.started": "2021-06-06T09:03:15.260887Z"
    },
    "papermill": {
     "duration": 0.051219,
     "end_time": "2021-06-06T09:46:39.327037",
     "exception": false,
     "start_time": "2021-06-06T09:46:39.275818",
     "status": "completed"
    },
    "tags": []
   },
   "outputs": [],
   "source": [
    "#train과 test를 합한 total user\n",
    "total_user = pd.concat([train_user, test_user])\n",
    "total_user = total_user.sort_values().reset_index(drop=True)"
   ]
  },
  {
   "cell_type": "markdown",
   "id": "wanted-connecticut",
   "metadata": {
    "papermill": {
     "duration": 0.040764,
     "end_time": "2021-06-06T09:46:39.408053",
     "exception": false,
     "start_time": "2021-06-06T09:46:39.367289",
     "status": "completed"
    },
    "tags": []
   },
   "source": [
    "- Sleep, Social, Activity와 관련된 EMA 데이터 불러오기\n",
    "- 이때, user id에 대응되는 EMA 데이터만 로드한다."
   ]
  },
  {
   "cell_type": "code",
   "execution_count": 6,
   "id": "numerical-velvet",
   "metadata": {
    "execution": {
     "iopub.execute_input": "2021-06-06T09:46:39.494599Z",
     "iopub.status.busy": "2021-06-06T09:46:39.493896Z",
     "iopub.status.idle": "2021-06-06T09:46:39.499111Z",
     "shell.execute_reply": "2021-06-06T09:46:39.498486Z",
     "shell.execute_reply.started": "2021-06-06T09:03:15.277765Z"
    },
    "papermill": {
     "duration": 0.050036,
     "end_time": "2021-06-06T09:46:39.499246",
     "exception": false,
     "start_time": "2021-06-06T09:46:39.449210",
     "status": "completed"
    },
    "tags": []
   },
   "outputs": [],
   "source": [
    "#json 데이터 불러오기 \n",
    "sleep = sorted(glob('/kaggle/input/2021-ml-tp8/StduentLife_EMA/EMA/response/Sleep/*.json'))\n",
    "social = sorted(glob('/kaggle/input/2021-ml-tp8/StduentLife_EMA/EMA/response/Social/*.json'))\n",
    "activity = sorted(glob('/kaggle/input/2021-ml-tp8/StduentLife_EMA/EMA/response/Activity/*.json'))"
   ]
  },
  {
   "cell_type": "code",
   "execution_count": 7,
   "id": "necessary-league",
   "metadata": {
    "execution": {
     "iopub.execute_input": "2021-06-06T09:46:39.585054Z",
     "iopub.status.busy": "2021-06-06T09:46:39.584326Z",
     "iopub.status.idle": "2021-06-06T09:46:39.589034Z",
     "shell.execute_reply": "2021-06-06T09:46:39.588446Z",
     "shell.execute_reply.started": "2021-06-06T09:03:15.297493Z"
    },
    "papermill": {
     "duration": 0.049218,
     "end_time": "2021-06-06T09:46:39.589171",
     "exception": false,
     "start_time": "2021-06-06T09:46:39.539953",
     "status": "completed"
    },
    "tags": []
   },
   "outputs": [],
   "source": [
    "#추가적인 실험을 위해 stress와 exercise데이터도 불러왔음\n",
    "stress=sorted(glob('/kaggle/input/2021-ml-tp8/StduentLife_EMA/EMA/response/Stress/*.json'))\n",
    "exercise=sorted(glob('/kaggle/input/2021-ml-tp8/StduentLife_EMA/EMA/response/Exercise/*.json'))"
   ]
  },
  {
   "cell_type": "code",
   "execution_count": 8,
   "id": "funded-commerce",
   "metadata": {
    "execution": {
     "iopub.execute_input": "2021-06-06T09:46:39.681668Z",
     "iopub.status.busy": "2021-06-06T09:46:39.680968Z",
     "iopub.status.idle": "2021-06-06T09:46:39.714706Z",
     "shell.execute_reply": "2021-06-06T09:46:39.715158Z",
     "shell.execute_reply.started": "2021-06-06T09:03:15.314874Z"
    },
    "papermill": {
     "duration": 0.085607,
     "end_time": "2021-06-06T09:46:39.715336",
     "exception": false,
     "start_time": "2021-06-06T09:46:39.629729",
     "status": "completed"
    },
    "tags": []
   },
   "outputs": [],
   "source": [
    "#각 sleep, social, activity 데이터를 np.array로 저장\n",
    "\n",
    "tmp = list()\n",
    "\n",
    "for i in range(len(sleep)) :\n",
    "  for k in range(len(total_user)) : \n",
    "    if total_user[k] in sleep[i] :\n",
    "      tmp.append(sleep[i])\n",
    "\n",
    "sleep = np.array(tmp)\n",
    "\n",
    "tmp = list()\n",
    "\n",
    "for i in range(len(social)) :\n",
    "  for k in range(len(total_user)) : \n",
    "    if total_user[k] in social[i] :\n",
    "      tmp.append(social[i])\n",
    "\n",
    "social = np.array(tmp)\n",
    "\n",
    "tmp = list()\n",
    "\n",
    "for i in range(len(activity)) :\n",
    "  for k in range(len(total_user)) : \n",
    "    if total_user[k] in activity[i] :\n",
    "      tmp.append(activity[i])\n",
    "\n",
    "activity = np.array(tmp)"
   ]
  },
  {
   "cell_type": "code",
   "execution_count": 9,
   "id": "federal-chassis",
   "metadata": {
    "execution": {
     "iopub.execute_input": "2021-06-06T09:46:39.800406Z",
     "iopub.status.busy": "2021-06-06T09:46:39.799718Z",
     "iopub.status.idle": "2021-06-06T09:46:39.829289Z",
     "shell.execute_reply": "2021-06-06T09:46:39.828618Z",
     "shell.execute_reply.started": "2021-06-06T09:03:15.356235Z"
    },
    "papermill": {
     "duration": 0.073327,
     "end_time": "2021-06-06T09:46:39.829429",
     "exception": false,
     "start_time": "2021-06-06T09:46:39.756102",
     "status": "completed"
    },
    "tags": []
   },
   "outputs": [],
   "source": [
    "# 추가적인 실험을 위해 stress, exercise도 array로 저장\n",
    "tmp = list()\n",
    "\n",
    "for i in range(len(stress)) :\n",
    "  for k in range(len(total_user)) : \n",
    "    if total_user[k] in stress[i] :\n",
    "      tmp.append(stress[i])\n",
    "\n",
    "stress = np.array(tmp)\n",
    "tmp = list()\n",
    "\n",
    "for i in range(len(exercise)) :\n",
    "  for k in range(len(total_user)) : \n",
    "    if total_user[k] in exercise[i] :\n",
    "      tmp.append(exercise[i])\n",
    "\n",
    "exercise = np.array(tmp)"
   ]
  },
  {
   "cell_type": "markdown",
   "id": "historical-logging",
   "metadata": {
    "papermill": {
     "duration": 0.041021,
     "end_time": "2021-06-06T09:46:39.911116",
     "exception": false,
     "start_time": "2021-06-06T09:46:39.870095",
     "status": "completed"
    },
    "tags": []
   },
   "source": [
    "# [Empty Module #1-1] EMA데이터 파싱 - Sleep  \n",
    "\n",
    "목표: 아래 설문항목에 응답한 user의 EAM 결과를 적절한 인덱스에 대응되는 데이터를 파싱한다.\n",
    "\n",
    "```\n",
    "[input]\n",
    "--------------\n",
    "- json : User의 EMA 응답 결과(Index)가 담긴 json파일\n",
    "\n",
    "[output]\n",
    "--------------\n",
    "- raw data : 대응되는 Index의 값을 추출한 데이터\n",
    "    \n",
    "```"
   ]
  },
  {
   "attachments": {
    "e208253b-9c94-4a22-8926-5c17efef42cc.png": {
     "image/png": "[encoded data removed]"
    }
   },
   "cell_type": "markdown",
   "id": "generic-wells",
   "metadata": {
    "papermill": {
     "duration": 0.0407,
     "end_time": "2021-06-06T09:46:39.992215",
     "exception": false,
     "start_time": "2021-06-06T09:46:39.951515",
     "status": "completed"
    },
    "tags": []
   },
   "source": [
    "![image.png](attachment:e208253b-9c94-4a22-8926-5c17efef42cc.png)"
   ]
  },
  {
   "cell_type": "code",
   "execution_count": 10,
   "id": "humanitarian-flesh",
   "metadata": {
    "execution": {
     "iopub.execute_input": "2021-06-06T09:46:40.094130Z",
     "iopub.status.busy": "2021-06-06T09:46:40.093393Z",
     "iopub.status.idle": "2021-06-06T09:46:40.407646Z",
     "shell.execute_reply": "2021-06-06T09:46:40.408389Z",
     "shell.execute_reply.started": "2021-06-06T09:03:15.379698Z"
    },
    "papermill": {
     "duration": 0.375455,
     "end_time": "2021-06-06T09:46:40.408641",
     "exception": false,
     "start_time": "2021-06-06T09:46:40.033186",
     "status": "completed"
    },
    "tags": []
   },
   "outputs": [
    {
     "name": "stderr",
     "output_type": "stream",
     "text": [
      "100%|██████████| 46/46 [00:00<00:00, 159.49it/s]\n"
     ]
    }
   ],
   "source": [
    "# 아래 설명을 기반으로 Sleep EMA 데이터 추출을 위한 코드를 작성하세요.\n",
    "\n",
    "################################################################\n",
    "\n",
    "# 1. json load를 통해서 sleep에 저장된 파일을 하나씩 로드한다.\n",
    "# 2. 유저의 응답 중 'question_id'가 'hour','rate'인 데이터를 파싱한다.\n",
    "# 3. 이때, 각 응답은 인덱스 값이므로 해당 인덱스에 대응되는 실제 값으로 변환한다.\n",
    "\n",
    "# Hint1) 응답결과가 없으면 NaN이 된다. 해당 데이터는 추후 Imputer를 통해 처리한다.\n",
    "\n",
    "# Hint2) How many hours did you sleep last night?\n",
    "# [1] -> 3, [2]->3.5, [3]->4.0, [4]->4.5 , ... , [18]->11.5, [19]->12\n",
    "\n",
    "# Hint3) Sleep_rate\n",
    "# [1] -> 4, [2]->3, [3]->2, [4]->1\n",
    "\n",
    "# Hint4) 만약 대응되는 인덱스가 없거나 대응되는 답변이 없다면 해당 데이터는 'NaN'으로 설정한다.\n",
    "\n",
    "################################################################\n",
    "\n",
    "# Hint5) 아래 예시코드를 활용하여 작성할 수 있다.\n",
    "\n",
    "#sleep의 데이터인 hour, rate, social(추가적인 실험을 위해 포함함)의 리스트 만듦\n",
    "people_hour = list()  #사람들의 숙면시간을 담은 리스트\n",
    "people_rate = list() \n",
    "people_social = list()\n",
    "\n",
    "for sp in tqdm(sleep) : \n",
    "    \n",
    "  person_hour = list()\n",
    "  person_rate = list()\n",
    "  person_social = list()\n",
    "    \n",
    "  with open(sp) as json_file:\n",
    "    sleep_data = json.load(json_file)\n",
    "    \n",
    "  for res in sleep_data :\n",
    "    \n",
    "    if 'hour' in res : # 시간에 해당하는 인덱스가 가리키는 값을 넣어줌\n",
    "    ##############################################\n",
    "    # 해당 부분을 채우시오.\n",
    "        if res['hour'] == '1': #인덱스가 1인것은\n",
    "            person_hour.append(3) #3시간\n",
    "        elif res['hour'] == '2': #인덱스가 2인 것은\n",
    "            person_hour.append(3.5) #3.5시간\n",
    "        elif res['hour'] == '3': #인덱스가 3인 것은\n",
    "            person_hour.append(4) #4시간\n",
    "        elif res['hour'] == '4': #인덱스가 4인 것은\n",
    "            person_hour.append(4.5) #4.5시간\n",
    "        elif res['hour'] == '5':\n",
    "            person_hour.append(5) #개인의 리스트에 저장해줌\n",
    "        elif res['hour'] == '6':\n",
    "            person_hour.append(5.5)\n",
    "        elif res['hour'] == '7':\n",
    "            person_hour.append(6)\n",
    "        elif res['hour'] == '8':\n",
    "            person_hour.append(6.5)\n",
    "        elif res['hour'] == '9':\n",
    "            person_hour.append(7)\n",
    "        elif res['hour'] == '10':\n",
    "            person_hour.append(7.5)\n",
    "        elif res['hour'] == '11':\n",
    "            person_hour.append(8)\n",
    "        elif res['hour'] == '12':\n",
    "            person_hour.append(8.5)\n",
    "        elif res['hour'] == '13':\n",
    "            person_hour.append(9)\n",
    "        elif res['hour'] == '14':\n",
    "            person_hour.append(9.5)\n",
    "        elif res['hour'] == '15':\n",
    "            person_hour.append(10)\n",
    "        elif res['hour'] == '16':\n",
    "            person_hour.append(10.5)\n",
    "        elif res['hour'] == '17':\n",
    "            person_hour.append(11)\n",
    "        elif res['hour'] == '18':\n",
    "            person_hour.append(11.5)\n",
    "        elif res['hour'] == '19':\n",
    "            person_hour.append(12)\n",
    "        else: #인덱스가 적절하지 않은 경우 \n",
    "            person_hour.append('NaN') #'NaN'을 저장\n",
    "    ##############################################\n",
    "    if 'rate' in res : #rate의 인덱스가 가리키는 수를 저장\n",
    "    ##############################################\n",
    "    # 해당 부분을 채우시오.\n",
    "        if res['rate'] == '1': #인덱스가 1이면\n",
    "            person_rate.append(4) # 4저장\n",
    "        elif res['rate'] == '2':\n",
    "            person_rate.append(3)\n",
    "        elif res['rate'] == '3':\n",
    "            person_rate.append(2)\n",
    "        elif res['rate'] == '4':\n",
    "            person_rate.append(1)\n",
    "        else:#인덱스가 적절하지 않은 경우 \n",
    "            person_rate.append('NaN')#'NaN'을 저장\n",
    "    ##############################################\n",
    "    \n",
    "    if 'social' in res : # (추가적으로 더해준 코드) -> 성능에 영향이 없었다\n",
    "        if res['social'] == '1': #얼마나 사회생활을 하는데 힘든가\n",
    "            person_social.append(0)\n",
    "        elif res['social'] == '2':\n",
    "            person_social.append(1)\n",
    "        elif res['social'] == '3':\n",
    "            person_social.append(2)\n",
    "        elif res['social'] == '4': #인덱스가 커질 수록 사회생활을 하는데에 힘들지 않은 것임\n",
    "            person_social.append(3)\n",
    "        else:#인덱스가 적절하지 않은 경우 \n",
    "            person_social.append('NaN')#'NaN'을 저장\n",
    "\n",
    "  people_hour.append(person_hour) #개인의 리스트에 저장했던 것을 사람들의 리스트에 넣음\n",
    "  people_rate.append(person_rate)\n",
    "  people_social.append(person_social)"
   ]
  },
  {
   "cell_type": "markdown",
   "id": "laughing-weekend",
   "metadata": {
    "papermill": {
     "duration": 0.042062,
     "end_time": "2021-06-06T09:46:40.497387",
     "exception": false,
     "start_time": "2021-06-06T09:46:40.455325",
     "status": "completed"
    },
    "tags": []
   },
   "source": [
    "# [Empty Module #1-2] EMA데이터 파싱 - Social  \n",
    "\n",
    "목표: 아래 설문항목에 응답한 user의 EAM 결과를 적절한 인덱스에 대응되는 데이터를 파싱한다.\n",
    "\n",
    "```\n",
    "[input]\n",
    "--------------\n",
    "- json : User의 EMA 응답 결과(Index)가 담긴 json파일\n",
    "\n",
    "[output]\n",
    "--------------\n",
    "- raw data : 대응되는 Index의 값을 추출한 데이터\n",
    "    \n",
    "```"
   ]
  },
  {
   "attachments": {
    "94cff2d3-d2e0-4658-bd4f-fc071505e81d.png": {
     "image/png": "[encoded data removed]"
    }
   },
   "cell_type": "markdown",
   "id": "stopped-physiology",
   "metadata": {
    "papermill": {
     "duration": 0.041542,
     "end_time": "2021-06-06T09:46:40.581253",
     "exception": false,
     "start_time": "2021-06-06T09:46:40.539711",
     "status": "completed"
    },
    "tags": []
   },
   "source": [
    "![image.png](attachment:94cff2d3-d2e0-4658-bd4f-fc071505e81d.png)"
   ]
  },
  {
   "cell_type": "code",
   "execution_count": 11,
   "id": "pediatric-theta",
   "metadata": {
    "execution": {
     "iopub.execute_input": "2021-06-06T09:46:40.675682Z",
     "iopub.status.busy": "2021-06-06T09:46:40.674619Z",
     "iopub.status.idle": "2021-06-06T09:46:40.948470Z",
     "shell.execute_reply": "2021-06-06T09:46:40.949228Z",
     "shell.execute_reply.started": "2021-06-06T09:03:15.714574Z"
    },
    "papermill": {
     "duration": 0.326168,
     "end_time": "2021-06-06T09:46:40.949486",
     "exception": false,
     "start_time": "2021-06-06T09:46:40.623318",
     "status": "completed"
    },
    "tags": []
   },
   "outputs": [
    {
     "name": "stderr",
     "output_type": "stream",
     "text": [
      "100%|██████████| 46/46 [00:00<00:00, 171.79it/s]\n"
     ]
    }
   ],
   "source": [
    "# 아래 설명을 기반으로 Social EMA 데이터 추출을 위한 코드를 작성하세요.\n",
    "\n",
    "################################################################\n",
    "\n",
    "# 1. json load를 통해서 sleep에 저장된 파일을 하나씩 로드한다.\n",
    "# 2. 유저의 응답 중 'question_id'가 'number'인 데이터를 파싱한다.\n",
    "# 3. 이때, 각 응답은 인덱스 값이므로 해당 인덱스에 대응되는 실제 값으로 변환한다.\n",
    "\n",
    "# Hint1) 응답결과가 없으면 NaN이 된다. 해당 데이터는 추후 Imputer를 통해 처리한다.\n",
    "\n",
    "# Hint2) Social\n",
    "# [1]->0, [2]->5, [3]->10, [4]->20, [5]->50, [6]->100\n",
    "\n",
    "# Hint3) 만약 대응되는 인덱스가 없거나 대응되는 답변이 없다면 해당 데이터는 'NaN'으로 설정한다.\n",
    "\n",
    "################################################################\n",
    "\n",
    "# Hint4) 아래 예시코드를 활용하여 작성할 수 있다.\n",
    "\n",
    "people_contact = list() #social영역에 있는 데이터\n",
    "\n",
    "for soc in tqdm(social) :\n",
    "  person_contact = list()\n",
    "  with open(soc) as json_file:\n",
    "    social_data = json.load(json_file)\n",
    "  for res in social_data :\n",
    "    if 'number' in res : #인덱스가 가리키는 값을 저장해줌\n",
    "    ##############################################\n",
    "    # 해당 부분을 채우시오.\n",
    "        if res['number'] == '1': #인덱스가 1이면\n",
    "            person_contact.append(0) #0명의 사람을 만난 것으로 \n",
    "        elif res['number'] == '2': #인덱스가 2이면\n",
    "            person_contact.append(5) #5명의 사람을 만난 것으로\n",
    "        elif res['number'] == '3': #인덱스가 3이면\n",
    "            person_contact.append(10) #10명의 사람을 만난 것으로 --- 저장\n",
    "        elif res['number'] == '4':\n",
    "            person_contact.append(20) #개인의 배열에 저장\n",
    "        elif res['number'] == '5':\n",
    "            person_contact.append(50)\n",
    "        elif res['number'] == '6': #인덱스가 커질수록 여러 사람과 접촉\n",
    "            person_contact.append(100)\n",
    "        else:\n",
    "            person_contact.append('NaN')\n",
    "    ##############################################\n",
    "\n",
    "  people_contact.append(person_contact) #개인의 리스트에 저장했던 것을 사람들의 리스트에 넣음"
   ]
  },
  {
   "cell_type": "markdown",
   "id": "mobile-parker",
   "metadata": {
    "papermill": {
     "duration": 0.043496,
     "end_time": "2021-06-06T09:46:41.036876",
     "exception": false,
     "start_time": "2021-06-06T09:46:40.993380",
     "status": "completed"
    },
    "tags": []
   },
   "source": [
    "# [Empty Module #1-3] EMA데이터 파싱 - Activity  \n",
    "\n",
    "목표: 아래 설문항목에 응답한 user의 EAM 결과를 적절한 인덱스에 대응되는 데이터를 파싱한다.\n",
    "\n",
    "```\n",
    "[input]\n",
    "--------------\n",
    "- json : User의 EMA 응답 결과(Index)가 담긴 json파일\n",
    "\n",
    "[output]\n",
    "--------------\n",
    "- raw data : 대응되는 Index의 값을 추출한 데이터\n",
    "    \n",
    "```"
   ]
  },
  {
   "attachments": {
    "ccc06de3-3669-43ab-8dd3-7ab57dffd69d.png": {
     "image/png": "[encoded data removed]"
    }
   },
   "cell_type": "markdown",
   "id": "unable-career",
   "metadata": {
    "papermill": {
     "duration": 0.044538,
     "end_time": "2021-06-06T09:46:41.125666",
     "exception": false,
     "start_time": "2021-06-06T09:46:41.081128",
     "status": "completed"
    },
    "tags": []
   },
   "source": [
    "![image.png](attachment:ccc06de3-3669-43ab-8dd3-7ab57dffd69d.png)"
   ]
  },
  {
   "cell_type": "code",
   "execution_count": 12,
   "id": "decreased-headquarters",
   "metadata": {
    "execution": {
     "iopub.execute_input": "2021-06-06T09:46:41.232295Z",
     "iopub.status.busy": "2021-06-06T09:46:41.231385Z",
     "iopub.status.idle": "2021-06-06T09:46:41.504981Z",
     "shell.execute_reply": "2021-06-06T09:46:41.504226Z",
     "shell.execute_reply.started": "2021-06-06T09:03:15.981136Z"
    },
    "papermill": {
     "duration": 0.335195,
     "end_time": "2021-06-06T09:46:41.505172",
     "exception": false,
     "start_time": "2021-06-06T09:46:41.169977",
     "status": "completed"
    },
    "tags": []
   },
   "outputs": [
    {
     "name": "stderr",
     "output_type": "stream",
     "text": [
      "100%|██████████| 46/46 [00:00<00:00, 173.53it/s]\n"
     ]
    }
   ],
   "source": [
    "# 아래 설명을 기반으로 Activity EMA 데이터 추출을 위한 코드를 작성하세요.\n",
    "\n",
    "################################################################\n",
    "\n",
    "# 1. json load를 통해서 sleep에 저장된 파일을 하나씩 로드한다.\n",
    "# 2. 유저의 응답 중 'question_id'가 'other_relaxing','other_working',\n",
    "#                                 'relaxing','working'인 데이터를 파싱한다.\n",
    "# 3. 이때, 각 응답은 인덱스 값이므로 해당 인덱스에 대응되는 실제 값으로 변환한다.\n",
    "\n",
    "# Hint1) 응답결과가 없으면 NaN이 된다. 해당 데이터는 추후 Imputer를 통해 처리한다.\n",
    "\n",
    "# Hint2) Activity\n",
    "# [1]->0, [2]->0.11, [3]->0.26, [4]->0.51, [5]->0.76\n",
    "\n",
    "# Hint3) 만약 대응되는 인덱스가 없거나 대응되는 답변이 없다면 해당 데이터는 'NaN'으로 설정한다.\n",
    "\n",
    "################################################################\n",
    "\n",
    "# Hint4) 아래 예시코드를 활용하여 작성할 수 있다.\n",
    "\n",
    "people_work_alone = list() \n",
    "people_work_other = list()\n",
    "people_relaxing_alone = list() \n",
    "people_relaxing_other = list()\n",
    "\n",
    "for act in tqdm(activity) :\n",
    "\n",
    "  person_work_alone = list() \n",
    "  person_work_other = list()\n",
    "  person_relaxing_alone = list() \n",
    "  person_relaxing_other = list()\n",
    "\n",
    "  with open(act) as json_file:\n",
    "    activity_data = json.load(json_file)\n",
    "\n",
    "  for res in activity_data : #여기의 인덱스에 해당하는 값을 저장해준다. activity부분은 비율로 지정되어 있다.\n",
    "    \n",
    "    if 'other_relaxing' in res :\n",
    "    ##############################################\n",
    "    # 해당 부분을 채우시오.\n",
    "        if res['other_relaxing']=='1': #인덱스의 값이 1이면\n",
    "            person_relaxing_other.append(0) #0%라고 저장\n",
    "        elif res['other_relaxing']=='2': #인덱스의 값이 2이면\n",
    "            person_relaxing_other.append(0.11) #0.11%라고 저장\n",
    "        elif res['other_relaxing']=='3':\n",
    "            person_relaxing_other.append(0.26)\n",
    "        elif res['other_relaxing']=='4':\n",
    "            person_relaxing_other.append(0.51)\n",
    "        elif res['other_relaxing']=='5':\n",
    "            person_relaxing_other.append(0.76)\n",
    "        else:\n",
    "            person_relaxing_other.append('NaN')\n",
    "    ##############################################\n",
    "\n",
    "    if 'other_working' in res :\n",
    "    ##############################################\n",
    "    # 해당 부분을 채우시오.\n",
    "        if res['other_working']=='1':\n",
    "            person_work_other.append(0)\n",
    "        elif res['other_working']=='2':\n",
    "            person_work_other.append(0.11)\n",
    "        elif res['other_working']=='3':\n",
    "            person_work_other.append(0.26)\n",
    "        elif res['other_working']=='4':\n",
    "            person_work_other.append(0.51)\n",
    "        elif res['other_working']=='5':\n",
    "            person_work_other.append(0.76)\n",
    "        else:\n",
    "            person_work_other.append('NaN')\n",
    "    ##############################################\n",
    "\n",
    "    if 'relaxing' in res :\n",
    "    ##############################################\n",
    "    # 해당 부분을 채우시오.\n",
    "        if res['relaxing']=='1':\n",
    "            person_relaxing_alone.append(0)\n",
    "        elif res['relaxing']=='2':\n",
    "            person_relaxing_alone.append(0.11)\n",
    "        elif res['relaxing']=='3':\n",
    "            person_relaxing_alone.append(0.26)\n",
    "        elif res['relaxing']=='4':\n",
    "            person_relaxing_alone.append(0.51)\n",
    "        elif res['relaxing']=='5':\n",
    "            person_relaxing_alone.append(0.76)\n",
    "        else:\n",
    "            person_relaxing_alone.append('NaN')\n",
    "    ##############################################\n",
    "\n",
    "    if 'working' in res :\n",
    "    ##############################################\n",
    "    # 해당 부분을 채우시오.\n",
    "        if res['working']=='1':\n",
    "            person_work_alone.append(0)\n",
    "        elif res['working']=='2':\n",
    "            person_work_alone.append(0.11)\n",
    "        elif res['working']=='3':\n",
    "            person_work_alone.append(0.26)\n",
    "        elif res['working']=='4':\n",
    "            person_work_alone.append(0.51)\n",
    "        elif res['working']=='5':\n",
    "            person_work_alone.append(0.76)\n",
    "        else:\n",
    "            person_work_alone.append('NaN')\n",
    "    ##############################################\n",
    "\n",
    "  people_relaxing_other.append(person_relaxing_other)\n",
    "  people_work_other.append(person_work_other)\n",
    "  people_relaxing_alone.append(person_relaxing_alone)\n",
    "  people_work_alone.append(person_work_alone)"
   ]
  },
  {
   "cell_type": "code",
   "execution_count": 13,
   "id": "encouraging-respondent",
   "metadata": {
    "execution": {
     "iopub.execute_input": "2021-06-06T09:46:41.604864Z",
     "iopub.status.busy": "2021-06-06T09:46:41.604133Z",
     "iopub.status.idle": "2021-06-06T09:46:41.869886Z",
     "shell.execute_reply": "2021-06-06T09:46:41.869036Z",
     "shell.execute_reply.started": "2021-06-06T09:03:16.259434Z"
    },
    "papermill": {
     "duration": 0.31896,
     "end_time": "2021-06-06T09:46:41.870087",
     "exception": false,
     "start_time": "2021-06-06T09:46:41.551127",
     "status": "completed"
    },
    "tags": []
   },
   "outputs": [
    {
     "name": "stderr",
     "output_type": "stream",
     "text": [
      "100%|██████████| 46/46 [00:00<00:00, 176.93it/s]\n"
     ]
    }
   ],
   "source": [
    "people_stress = list() #추가적인 실험의 stress 레벨을 추가하는 함수\n",
    "\n",
    "for soc in tqdm(stress) : #하지만 이 것은 성능을 올리는 데에 쓰이진 못했다. \n",
    "  person_stress = list()\n",
    "  with open(soc) as json_file:\n",
    "    stress_data = json.load(json_file)\n",
    "  for res in stress_data :\n",
    "    if 'level' in res :\n",
    "        if res['level']=='1':\n",
    "            person_stress.append(0)\n",
    "        elif res['level']=='2':\n",
    "            person_stress.append(1)\n",
    "        elif res['level']=='3':\n",
    "            person_stress.append(2)\n",
    "        elif res['level']=='4':\n",
    "            person_stress.append(3)\n",
    "        elif res['level']=='5':\n",
    "            person_stress.append(4)\n",
    "        else:\n",
    "            person_stress.append('NaN')\n",
    "  \n",
    "  people_stress.append(person_stress)"
   ]
  },
  {
   "cell_type": "code",
   "execution_count": 14,
   "id": "fantastic-documentary",
   "metadata": {
    "execution": {
     "iopub.execute_input": "2021-06-06T09:46:41.974646Z",
     "iopub.status.busy": "2021-06-06T09:46:41.973918Z",
     "iopub.status.idle": "2021-06-06T09:46:42.234914Z",
     "shell.execute_reply": "2021-06-06T09:46:42.234289Z",
     "shell.execute_reply.started": "2021-06-06T09:03:16.533599Z"
    },
    "papermill": {
     "duration": 0.31619,
     "end_time": "2021-06-06T09:46:42.235062",
     "exception": false,
     "start_time": "2021-06-06T09:46:41.918872",
     "status": "completed"
    },
    "tags": []
   },
   "outputs": [
    {
     "name": "stderr",
     "output_type": "stream",
     "text": [
      "100%|██████████| 46/46 [00:00<00:00, 181.81it/s]\n"
     ]
    }
   ],
   "source": [
    "\n",
    "people_exercise = list()\n",
    "\n",
    "\n",
    "for sp in tqdm(exercise) :  #추가적인 실험을 위한 운동 데이터 \n",
    "    \n",
    "\n",
    "  person_exercise = list()\n",
    "\n",
    "    \n",
    "  with open(sp) as json_file:\n",
    "    exercise_data = json.load(json_file)\n",
    "    \n",
    "  for res in exercise_data :\n",
    "    \n",
    "\n",
    "    \n",
    "    if 'exercise' in res : #운동 시간에 따라 인덱스 속에 값이 있었다. (-> 성능 높이기엔 쓰이지 못했음)\n",
    "        if res['exercise']=='1':\n",
    "            person_exercise.append(0)\n",
    "        elif res['exercise']=='2':\n",
    "            person_exercise.append(15)\n",
    "        elif res['exercise']=='3':\n",
    "            person_exercise.append(45)\n",
    "        elif res['exercise']=='4':\n",
    "            person_exercise.append(75)\n",
    "        elif res['exercise']=='5':\n",
    "            person_exercise.append(105)\n",
    "        else:\n",
    "            person_exercise.append('NaN')\n",
    "        \n",
    "\n",
    "  people_exercise.append(person_exercise)"
   ]
  },
  {
   "cell_type": "markdown",
   "id": "complimentary-medicaid",
   "metadata": {
    "papermill": {
     "duration": 0.047644,
     "end_time": "2021-06-06T09:46:42.330808",
     "exception": false,
     "start_time": "2021-06-06T09:46:42.283164",
     "status": "completed"
    },
    "tags": []
   },
   "source": []
  },
  {
   "cell_type": "markdown",
   "id": "alternate-closing",
   "metadata": {
    "papermill": {
     "duration": 0.053978,
     "end_time": "2021-06-06T09:46:42.432353",
     "exception": false,
     "start_time": "2021-06-06T09:46:42.378375",
     "status": "completed"
    },
    "tags": []
   },
   "source": [
    "- 앞서 알맞게 데이터를 파싱했다면 아래 부분은 해당 데이터를 기반으로 Feature를 추출하기 위한 준비단계이다.\n",
    "- 가장먼저 데이터의 type을 float형으로 변경하고, 판다스의 DataFrame으로 변경한다. 그리고 train/test 데이터셋 파싱을 위해서 가장 첫번째 column에 user id를 추가한다."
   ]
  },
  {
   "cell_type": "code",
   "execution_count": 15,
   "id": "classified-angola",
   "metadata": {
    "execution": {
     "iopub.execute_input": "2021-06-06T09:46:42.573840Z",
     "iopub.status.busy": "2021-06-06T09:46:42.566419Z",
     "iopub.status.idle": "2021-06-06T09:46:42.610499Z",
     "shell.execute_reply": "2021-06-06T09:46:42.610976Z",
     "shell.execute_reply.started": "2021-06-06T09:03:16.784599Z"
    },
    "papermill": {
     "duration": 0.121096,
     "end_time": "2021-06-06T09:46:42.611157",
     "exception": false,
     "start_time": "2021-06-06T09:46:42.490061",
     "status": "completed"
    },
    "tags": []
   },
   "outputs": [],
   "source": [
    "student_sleep = pd.DataFrame(people_hour).astype('float64') #type을 float64로 변경해준다.\n",
    "student_sleep_rate = pd.DataFrame(people_rate).astype('float64') #DataFrame 생성\n",
    "student_contact = pd.DataFrame(people_contact).astype('float64') #DataFrame을 생성할 데이터 소스는 앞에서 만들어준 people들의 정보 담은 리스트\n",
    "student_working_alone = pd.DataFrame(people_work_alone).astype('float64')\n",
    "student_working_other = pd.DataFrame(people_work_other).astype('float64')\n",
    "student_relaxing_alone = pd.DataFrame(people_relaxing_alone).astype('float64')\n",
    "student_relaxing_other = pd.DataFrame(people_relaxing_other).astype('float64')\n",
    "\n",
    "student_sleep['uid'] = total_user # train + test id가 들어있음\n",
    "student_sleep_rate['uid'] = total_user # 나중에 알맞게 데이터 추출을 해주어야함\n",
    "student_contact['uid'] = total_user\n",
    "student_working_alone['uid'] = total_user\n",
    "student_working_other['uid'] = total_user\n",
    "student_relaxing_alone['uid'] = total_user\n",
    "student_relaxing_other['uid'] = total_user\n",
    "\n",
    "student_sleep = student_sleep[(['uid']+list(range(0,student_sleep.shape[1]-1)))] #첫 열에 id를 추가해준다. -> 데이터 추출을 위함\n",
    "student_sleep_rate = student_sleep_rate[(['uid']+list(range(0,student_sleep_rate.shape[1]-1)))]\n",
    "student_contact = student_contact[(['uid']+list(range(0,student_contact.shape[1]-1)))]\n",
    "student_working_alone = student_working_alone[(['uid']+list(range(0,student_working_alone.shape[1]-1)))]\n",
    "student_working_other = student_working_other[(['uid']+list(range(0,student_working_other.shape[1]-1)))]\n",
    "student_relaxing_alone = student_relaxing_alone[(['uid']+list(range(0,student_relaxing_alone.shape[1]-1)))]\n",
    "student_relaxing_other = student_relaxing_other[(['uid']+list(range(0,student_relaxing_other.shape[1]-1)))]"
   ]
  },
  {
   "cell_type": "code",
   "execution_count": 16,
   "id": "hungarian-isolation",
   "metadata": {
    "execution": {
     "iopub.execute_input": "2021-06-06T09:46:42.710997Z",
     "iopub.status.busy": "2021-06-06T09:46:42.710041Z",
     "iopub.status.idle": "2021-06-06T09:46:42.750655Z",
     "shell.execute_reply": "2021-06-06T09:46:42.751181Z",
     "shell.execute_reply.started": "2021-06-06T09:03:16.831762Z"
    },
    "papermill": {
     "duration": 0.091715,
     "end_time": "2021-06-06T09:46:42.751376",
     "exception": false,
     "start_time": "2021-06-06T09:46:42.659661",
     "status": "completed"
    },
    "tags": []
   },
   "outputs": [],
   "source": [
    "# 추가적인 실험을 위한 코드에도 같은 작업을 해준다.\n",
    "student_sleep_social = pd.DataFrame(people_social).astype('float64')\n",
    "student_sleep_social['uid']=total_user\n",
    "student_sleep_social = student_sleep_social[(['uid']+list(range(0,student_sleep_social.shape[1]-1)))]\n",
    "\n",
    "student_stress=pd.DataFrame(people_stress).astype('float64')\n",
    "student_stress['uid']=total_user\n",
    "student_stress = student_stress[(['uid']+list(range(0,student_stress.shape[1]-1)))]\n",
    "\n",
    "student_exercise=pd.DataFrame(people_exercise).astype('float64')\n",
    "student_exercise['uid']=total_user\n",
    "student_exercise = student_exercise[(['uid']+list(range(0,student_exercise.shape[1]-1)))]\n"
   ]
  },
  {
   "attachments": {
    "1a9594ae-34f2-4ee9-b87e-8c94ac11a727.png": {
     "image/png": "[encoded data removed]"
    }
   },
   "cell_type": "markdown",
   "id": "representative-oxford",
   "metadata": {
    "papermill": {
     "duration": 0.047553,
     "end_time": "2021-06-06T09:46:42.846334",
     "exception": false,
     "start_time": "2021-06-06T09:46:42.798781",
     "status": "completed"
    },
    "tags": []
   },
   "source": [
    "# [Empty Module #2-1] Feature extract\n",
    "\n",
    "목표: 앞서 파싱한 EMA 응답 데이터에서 통계적 feature를 추출한다. \n",
    "\n",
    "- 앞서 추가한 ueser id(uid)를 기준으로 trian/test 유저에 데이터를 나눈다. 그리고 해당 유저의 데이터를 pandas에서 제공하는 describe 함수를 이용해 통계적 feature를 추출한다. \n",
    "- 통계적 feature는 총 7차원이며 각 구성은 아래 추가설명과 같다. (describe함수의 가장 첫번째 column인 count는 제거한다.)\n",
    "\n",
    "[추가설명]\n",
    "\n",
    "이때, pandas의 describe 함수는 다음과 같이 구성된다. ([설명링크](https://www.javatpoint.com/pandas-dataframe-describe))\n",
    "\n",
    "![image.png](attachment:1a9594ae-34f2-4ee9-b87e-8c94ac11a727.png)"
   ]
  },
  {
   "cell_type": "code",
   "execution_count": 17,
   "id": "enclosed-crystal",
   "metadata": {
    "execution": {
     "iopub.execute_input": "2021-06-06T09:46:42.959165Z",
     "iopub.status.busy": "2021-06-06T09:46:42.954243Z",
     "iopub.status.idle": "2021-06-06T09:46:43.335750Z",
     "shell.execute_reply": "2021-06-06T09:46:43.335056Z",
     "shell.execute_reply.started": "2021-06-06T09:03:16.865124Z"
    },
    "papermill": {
     "duration": 0.440789,
     "end_time": "2021-06-06T09:46:43.335906",
     "exception": false,
     "start_time": "2021-06-06T09:46:42.895117",
     "status": "completed"
    },
    "tags": []
   },
   "outputs": [],
   "source": [
    "# train셋에 대한 feature를 추출하시오.\n",
    "\n",
    "################################################################\n",
    "\n",
    "# 1. train_user에 해당하는 데이터만 파싱한다. \n",
    "# 2. pandas의 describe 함수를 이용해 feature를 추출한다.\n",
    "    \n",
    "################################################################\n",
    "\n",
    "# Hint 1) \n",
    "# A[A['uid'].isin(train_user)]\n",
    "# Hint 2)\n",
    "# A.T.describe().to_numpy()\n",
    "\n",
    "\n",
    "train_features_student_sleep = student_sleep[student_sleep['uid'].isin(train_user)] # id에 해당하는 값을 찾은 후\n",
    "train_features_student_sleep = train_features_student_sleep.drop(['uid'],axis=1) #id를 drop해주고 \n",
    "train_features_student_sleep = train_features_student_sleep.T.describe().to_numpy() #행렬의 축을 바꾼 후에 요약-> 데이터 추출\n",
    "\n",
    "train_features_student_sleep_rate = student_sleep_rate[student_sleep_rate['uid'].isin(train_user)]\n",
    "train_features_student_sleep_rate=train_features_student_sleep_rate.drop(['uid'],axis=1)\n",
    "train_features_student_sleep_rate=train_features_student_sleep_rate.T.describe().to_numpy()\n",
    "\n",
    "train_features_student_contact = student_contact[student_contact['uid'].isin(train_user)]\n",
    "train_features_student_contact=train_features_student_contact.drop(['uid'],axis=1)\n",
    "train_features_student_contact=train_features_student_contact.T.describe().to_numpy()\n",
    "\n",
    "train_features_student_working_alone = student_working_alone[student_working_alone['uid'].isin(train_user)]\n",
    "train_features_student_working_alone=train_features_student_working_alone.drop(['uid'],axis=1)\n",
    "train_features_student_working_alone=train_features_student_working_alone.T.describe().to_numpy()\n",
    "\n",
    "train_features_student_working_other = student_working_other[student_working_other['uid'].isin(train_user)]\n",
    "train_features_student_working_other=train_features_student_working_other.drop(['uid'],axis=1)\n",
    "train_features_student_working_other=train_features_student_working_other.T.describe().to_numpy()\n",
    "\n",
    "train_features_student_relaxing_alone =student_relaxing_alone[student_relaxing_alone['uid'].isin(train_user)]\n",
    "train_features_student_relaxing_alone=train_features_student_relaxing_alone.drop(['uid'],axis=1)\n",
    "train_features_student_relaxing_alone=train_features_student_relaxing_alone.T.describe().to_numpy()\n",
    "\n",
    "train_features_student_relaxing_other =student_relaxing_other[student_relaxing_other['uid'].isin(train_user)]\n",
    "train_features_student_relaxing_other=train_features_student_relaxing_other.drop(['uid'],axis=1)\n",
    "train_features_student_relaxing_other=train_features_student_relaxing_other.T.describe().to_numpy()\n"
   ]
  },
  {
   "cell_type": "code",
   "execution_count": 18,
   "id": "secondary-teaching",
   "metadata": {
    "execution": {
     "iopub.execute_input": "2021-06-06T09:46:43.454281Z",
     "iopub.status.busy": "2021-06-06T09:46:43.450431Z",
     "iopub.status.idle": "2021-06-06T09:46:43.606831Z",
     "shell.execute_reply": "2021-06-06T09:46:43.607332Z",
     "shell.execute_reply.started": "2021-06-06T09:03:17.160688Z"
    },
    "papermill": {
     "duration": 0.219538,
     "end_time": "2021-06-06T09:46:43.607521",
     "exception": false,
     "start_time": "2021-06-06T09:46:43.387983",
     "status": "completed"
    },
    "tags": []
   },
   "outputs": [],
   "source": [
    "# 추가 해준 데이터에도 같은 작업을 해준다.\n",
    "train_features_student_sleep_social = student_sleep_social[student_sleep_social['uid'].isin(train_user)]\n",
    "train_features_student_sleep_social = train_features_student_sleep_social.drop(['uid'],axis=1)\n",
    "train_features_student_sleep_social = train_features_student_sleep_social.T.describe().to_numpy()\n",
    "\n",
    "train_features_student_stress = student_stress[student_stress['uid'].isin(train_user)]\n",
    "train_features_student_stress=train_features_student_stress.drop(['uid'],axis=1)\n",
    "train_features_student_stress=train_features_student_stress.T.describe().to_numpy()\n",
    "\n",
    "train_features_student_exercise = student_exercise[student_exercise['uid'].isin(train_user)]\n",
    "train_features_student_exercise=train_features_student_exercise.drop(['uid'],axis=1)\n",
    "train_features_student_exercise=train_features_student_exercise.T.describe().to_numpy()\n"
   ]
  },
  {
   "cell_type": "code",
   "execution_count": 19,
   "id": "continent-arbitration",
   "metadata": {
    "execution": {
     "iopub.execute_input": "2021-06-06T09:46:43.707768Z",
     "iopub.status.busy": "2021-06-06T09:46:43.707097Z",
     "iopub.status.idle": "2021-06-06T09:46:44.074879Z",
     "shell.execute_reply": "2021-06-06T09:46:44.075356Z",
     "shell.execute_reply.started": "2021-06-06T09:03:17.292713Z"
    },
    "papermill": {
     "duration": 0.419407,
     "end_time": "2021-06-06T09:46:44.075556",
     "exception": false,
     "start_time": "2021-06-06T09:46:43.656149",
     "status": "completed"
    },
    "tags": []
   },
   "outputs": [],
   "source": [
    "# test셋에 대한 feature를 추출하시오.\n",
    "\n",
    "################################################################\n",
    "\n",
    "# 1. test_user에 해당하는 데이터만 파싱한다. \n",
    "# 2. pandas의 describe 함수를 이용해 feature를 추출한다.\n",
    "    \n",
    "################################################################\n",
    "\n",
    "# Hint 1) \n",
    "# A[A['uid'].isin(test_user)]\n",
    "# Hint 2)\n",
    "# A.T.describe().to_numpy()\n",
    "\n",
    "\n",
    "test_features_student_sleep = student_sleep[student_sleep['uid'].isin(test_user)]# id에 해당하는 값을 찾은 후\n",
    "test_features_student_sleep=test_features_student_sleep.drop(['uid'],axis=1) #id를 drop해주고 \n",
    "test_features_student_sleep=test_features_student_sleep.T.describe().to_numpy() #행렬의 축을 바꾼 후에 요약-> 데이터 추출\n",
    "\n",
    "test_features_student_sleep_rate = student_sleep_rate[student_sleep_rate['uid'].isin(test_user)]\n",
    "test_features_student_sleep_rate=test_features_student_sleep_rate.drop(['uid'],axis=1)\n",
    "test_features_student_sleep_rate=test_features_student_sleep_rate.T.describe().to_numpy()\n",
    "\n",
    "test_features_student_contact = student_contact[student_contact['uid'].isin(test_user)]\n",
    "test_features_student_contact = test_features_student_contact.drop(['uid'],axis=1)\n",
    "test_features_student_contact = test_features_student_contact.T.describe().to_numpy()\n",
    "\n",
    "test_features_student_working_alone = student_working_alone[student_working_alone['uid'].isin(test_user)]\n",
    "test_features_student_working_alone = test_features_student_working_alone.drop(['uid'],axis=1)\n",
    "test_features_student_working_alone =test_features_student_working_alone.T.describe().to_numpy()\n",
    "\n",
    "test_features_student_working_other = student_working_other[student_working_other['uid'].isin(test_user)]\n",
    "test_features_student_working_other = test_features_student_working_other.drop(['uid'],axis=1)\n",
    "test_features_student_working_other = test_features_student_working_other.T.describe().to_numpy()\n",
    "\n",
    "test_features_student_relaxing_alone =student_relaxing_alone[student_relaxing_alone['uid'].isin(test_user)]\n",
    "test_features_student_relaxing_alone =test_features_student_relaxing_alone.drop(['uid'],axis=1)\n",
    "test_features_student_relaxing_alone =test_features_student_relaxing_alone.T.describe().to_numpy()\n",
    "\n",
    "test_features_student_relaxing_other =student_relaxing_other[student_relaxing_other['uid'].isin(test_user)]\n",
    "test_features_student_relaxing_other =test_features_student_relaxing_other.drop(['uid'],axis=1)\n",
    "test_features_student_relaxing_other =test_features_student_relaxing_other.T.describe().to_numpy()\n"
   ]
  },
  {
   "cell_type": "code",
   "execution_count": 20,
   "id": "dominican-tours",
   "metadata": {
    "execution": {
     "iopub.execute_input": "2021-06-06T09:46:44.212922Z",
     "iopub.status.busy": "2021-06-06T09:46:44.211973Z",
     "iopub.status.idle": "2021-06-06T09:46:44.375220Z",
     "shell.execute_reply": "2021-06-06T09:46:44.374707Z",
     "shell.execute_reply.started": "2021-06-06T09:03:17.584165Z"
    },
    "papermill": {
     "duration": 0.249933,
     "end_time": "2021-06-06T09:46:44.375363",
     "exception": false,
     "start_time": "2021-06-06T09:46:44.125430",
     "status": "completed"
    },
    "tags": []
   },
   "outputs": [],
   "source": [
    "# 추가 해준 데이터에도 같은 작업을 해준다.\n",
    "test_features_student_sleep_social = student_sleep_social[student_sleep_social['uid'].isin(test_user)]\n",
    "test_features_student_sleep_social = test_features_student_sleep_social.drop(['uid'],axis=1)\n",
    "test_features_student_sleep_social = test_features_student_sleep_social.T.describe().to_numpy()\n",
    "\n",
    "test_features_student_stress = student_stress[student_stress['uid'].isin(test_user)]\n",
    "test_features_student_stress=test_features_student_stress.drop(['uid'],axis=1)\n",
    "test_features_student_stress=test_features_student_stress.T.describe().to_numpy()\n",
    "\n",
    "test_features_student_exercise = student_exercise[student_exercise['uid'].isin(test_user)]\n",
    "test_features_student_exercise=test_features_student_exercise.drop(['uid'],axis=1)\n",
    "test_features_student_exercise=test_features_student_exercise.T.describe().to_numpy()\n"
   ]
  },
  {
   "cell_type": "markdown",
   "id": "tender-freight",
   "metadata": {
    "papermill": {
     "duration": 0.049795,
     "end_time": "2021-06-06T09:46:44.477182",
     "exception": false,
     "start_time": "2021-06-06T09:46:44.427387",
     "status": "completed"
    },
    "tags": []
   },
   "source": [
    "# [Empty Module #2-2] Feature에서 Nan값 처리하기\n",
    "\n",
    "- 데이터에 NaN값을 Imputer를 통해서 채운다. 하지만 우울증의 경우 소수의 데이터를 제외한 나머지를 NaN으로 채우면 실제 일부 우울증 패턴이 없어질 수 있다. 따라서 describe를 통해 추출한 Feature에 대해서 Nan에 값이 있을 경우에 Imputer를 통해 NaN을 채운다."
   ]
  },
  {
   "cell_type": "code",
   "execution_count": 21,
   "id": "commercial-regulation",
   "metadata": {
    "execution": {
     "iopub.execute_input": "2021-06-06T09:46:44.587228Z",
     "iopub.status.busy": "2021-06-06T09:46:44.586549Z",
     "iopub.status.idle": "2021-06-06T09:46:46.090596Z",
     "shell.execute_reply": "2021-06-06T09:46:46.090041Z",
     "shell.execute_reply.started": "2021-06-06T09:03:17.713584Z"
    },
    "papermill": {
     "duration": 1.563347,
     "end_time": "2021-06-06T09:46:46.090743",
     "exception": false,
     "start_time": "2021-06-06T09:46:44.527396",
     "status": "completed"
    },
    "tags": []
   },
   "outputs": [],
   "source": [
    "# Imputer를 이용해 Nan 데이터 평균값으로 채우기\n",
    "\n",
    "################################################################\n",
    "\n",
    "# Hint 1) \n",
    "# imp_mean = SimpleImputer(missing_values=np.nan, strategy='mean')\n",
    "# imp_mean.fit(A)\n",
    "# A = imp_mean.transform(A)\n",
    "# B = imp_mean.transform(B)\n",
    "from sklearn.impute import SimpleImputer\n",
    "imp_mean = SimpleImputer(missing_values=np.nan, strategy='mean') #nan값을 nan값이 아닌 데이터들의 평균으로 대체해준다.\n",
    "\n",
    "imp_mean.fit(train_features_student_sleep)\n",
    "train_features_student_sleep = imp_mean.transform(train_features_student_sleep)\n",
    "test_features_student_sleep = imp_mean.transform(test_features_student_sleep)\n",
    "\n",
    "imp_mean.fit(train_features_student_sleep_rate)\n",
    "train_features_student_sleep_rate = imp_mean.transform(train_features_student_sleep_rate)\n",
    "test_features_student_sleep_rate = imp_mean.transform(test_features_student_sleep_rate)\n",
    "\n",
    "imp_mean.fit(train_features_student_contact)\n",
    "train_features_student_contact = imp_mean.transform(train_features_student_contact)\n",
    "test_features_student_contact = imp_mean.transform(test_features_student_contact)\n",
    "\n",
    "imp_mean.fit(train_features_student_working_alone)\n",
    "train_features_student_working_alone = imp_mean.transform(train_features_student_working_alone)\n",
    "test_features_student_working_alone = imp_mean.transform(test_features_student_working_alone)\n",
    "\n",
    "imp_mean.fit(train_features_student_working_other)\n",
    "train_features_student_working_other = imp_mean.transform(train_features_student_working_other)\n",
    "test_features_student_working_other = imp_mean.transform(test_features_student_working_other)\n",
    "\n",
    "imp_mean.fit(train_features_student_relaxing_alone)\n",
    "train_features_student_relaxing_alone = imp_mean.transform(train_features_student_relaxing_alone)\n",
    "test_features_student_relaxing_alone = imp_mean.transform(test_features_student_relaxing_alone)\n",
    "\n",
    "imp_mean.fit(train_features_student_relaxing_other)\n",
    "train_features_student_relaxing_other = imp_mean.transform(train_features_student_relaxing_other)\n",
    "test_features_student_relaxing_other = imp_mean.transform(test_features_student_relaxing_other)\n",
    "\n",
    "################################################################"
   ]
  },
  {
   "cell_type": "code",
   "execution_count": 22,
   "id": "planned-ecology",
   "metadata": {
    "execution": {
     "iopub.execute_input": "2021-06-06T09:46:46.219208Z",
     "iopub.status.busy": "2021-06-06T09:46:46.218436Z",
     "iopub.status.idle": "2021-06-06T09:46:46.221643Z",
     "shell.execute_reply": "2021-06-06T09:46:46.221046Z",
     "shell.execute_reply.started": "2021-06-06T09:03:18.908848Z"
    },
    "papermill": {
     "duration": 0.07843,
     "end_time": "2021-06-06T09:46:46.221808",
     "exception": false,
     "start_time": "2021-06-06T09:46:46.143378",
     "status": "completed"
    },
    "tags": []
   },
   "outputs": [],
   "source": [
    "imp_mean = SimpleImputer(missing_values=np.nan, strategy='mean')#nan값을 nan값이 아닌 데이터들의 평균으로 대체해준다.\n",
    "imp_mean.fit(train_features_student_sleep_social)\n",
    "train_features_student_sleep_social = imp_mean.transform(train_features_student_sleep_social)\n",
    "test_features_student_sleep_social = imp_mean.transform(test_features_student_sleep_social)\n",
    "\n",
    "\n",
    "imp_mean.fit(train_features_student_exercise)\n",
    "train_features_student_exercise = imp_mean.transform(train_features_student_exercise)\n",
    "test_features_student_exercise = imp_mean.transform(test_features_student_exercise)\n",
    "\n",
    "imp_mean.fit(train_features_student_stress)\n",
    "train_features_student_stress = imp_mean.transform(train_features_student_stress)\n",
    "test_features_student_stress = imp_mean.transform(test_features_student_stress)"
   ]
  },
  {
   "cell_type": "markdown",
   "id": "hairy-january",
   "metadata": {
    "papermill": {
     "duration": 0.049378,
     "end_time": "2021-06-06T09:46:46.322203",
     "exception": false,
     "start_time": "2021-06-06T09:46:46.272825",
     "status": "completed"
    },
    "tags": []
   },
   "source": [
    "# [Empty Module #3-1] Sleep feature만 이용하여 우울증 예측하기\n",
    "\n",
    "- 6주차 실습문제에서 우리는 수면시간에 따른 우울증 예측을 수행하였다. 그리고 앞선 과정이 실제 해당 실습문제에서 제공된 Feature 가공 방법이다. 이를 확인하기위해 앞에서 구축한 Feature 중 sleep과 관련된 feature만을 사용하여 우울증을 예측한다.\n",
    "- 분류에는 SVM을 사용하며 주어진 파라미터를 이용하여 분류를 수행한다."
   ]
  },
  {
   "cell_type": "code",
   "execution_count": 23,
   "id": "significant-april",
   "metadata": {
    "execution": {
     "iopub.execute_input": "2021-06-06T09:46:46.433286Z",
     "iopub.status.busy": "2021-06-06T09:46:46.431985Z",
     "iopub.status.idle": "2021-06-06T09:46:46.436243Z",
     "shell.execute_reply": "2021-06-06T09:46:46.435764Z",
     "shell.execute_reply.started": "2021-06-06T09:39:29.669471Z"
    },
    "papermill": {
     "duration": 0.065322,
     "end_time": "2021-06-06T09:46:46.436380",
     "exception": false,
     "start_time": "2021-06-06T09:46:46.371058",
     "status": "completed"
    },
    "tags": []
   },
   "outputs": [],
   "source": [
    "# Sleep feature만 이용해 우울증을 예측한다. \n",
    "\n",
    "#######################################################################\n",
    "\n",
    "# 1. describe에서 제공하는 통계적 feature 중 count는 제외한 나머지를 사용한다. \n",
    "\n",
    "# Hint 1) 아래 feature를 사용하시오\n",
    "\n",
    "# train\n",
    "# train_features_student_sleep\n",
    "# train_features_student_sleep_rate\n",
    "\n",
    "# test\n",
    "# test_features_student_sleep\n",
    "# test_features_student_sleep_rate\n",
    "\n",
    "# Hint 2) 예시코드\n",
    "\n",
    "#  tmp_x = list()\n",
    "#  tmp_x.append(train_features_student_sleep[1:8,i])\n",
    "#  tmp_x.append(train_features_student_sleep_rate[1:8,i])\n",
    "#  X_train.append(tmp_x)\n",
    "\n",
    "#######################################################################\n",
    "\n",
    "X_train = list() #sleep데이터 속의 데이터들로만 예측을 해봤을 때\n",
    "\n",
    "for i in range(train_features_student_sleep.shape[1]) : \n",
    "  \n",
    "    ##############################################\n",
    "    # 해당 부분을 채우시오.\n",
    "    tmp_x = list() \n",
    "    tmp_x.append(train_features_student_sleep[1:8,i])#문제의 조건대로 count를 뺀 mean, std, min, 25%, 50%, 75%, max로만 예측한다.\n",
    "    tmp_x.append(train_features_student_sleep_rate[1:8,i]) # 그래서 [1:8]\n",
    "    X_train.append(tmp_x)\n",
    "    ##############################################\n",
    "\n",
    "X_train = np.array(X_train)\n",
    "X_train = X_train.reshape(train_features_student_sleep.shape[1],-1)\n",
    "\n",
    "X_test = list()\n",
    "\n",
    "for i in range(test_features_student_sleep.shape[1]) : \n",
    "  \n",
    "    ##############################################\n",
    "    # 해당 부분을 채우시오.\n",
    "    tmp_x = list()\n",
    "    tmp_x.append(test_features_student_sleep[1:8,i])\n",
    "    tmp_x.append(test_features_student_sleep_rate[1:8,i])\n",
    "    X_test.append(tmp_x)\n",
    "    ##############################################\n",
    "\n",
    "X_test = np.array(X_test)\n",
    "X_test = X_test.reshape(test_features_student_sleep.shape[1],-1)"
   ]
  },
  {
   "cell_type": "code",
   "execution_count": 24,
   "id": "fluid-cooper",
   "metadata": {
    "execution": {
     "iopub.execute_input": "2021-06-06T09:46:46.544352Z",
     "iopub.status.busy": "2021-06-06T09:46:46.543624Z",
     "iopub.status.idle": "2021-06-06T09:46:46.551807Z",
     "shell.execute_reply": "2021-06-06T09:46:46.551131Z",
     "shell.execute_reply.started": "2021-06-06T09:39:31.064488Z"
    },
    "papermill": {
     "duration": 0.067193,
     "end_time": "2021-06-06T09:46:46.551953",
     "exception": false,
     "start_time": "2021-06-06T09:46:46.484760",
     "status": "completed"
    },
    "tags": []
   },
   "outputs": [
    {
     "name": "stdout",
     "output_type": "stream",
     "text": [
      "0.9130434782608695\n"
     ]
    }
   ],
   "source": [
    "# SVM을 이용해 이진분류 수행하기 \n",
    "from sklearn.svm import SVC\n",
    "#######################################################################\n",
    "\n",
    "# Hint 1)\n",
    "# tuned_parameters = [{'kernel': ['linear'], 'C': [1, 10, 100, 1000]}]\n",
    "\n",
    "#######################################################################\n",
    "# Sleep feature를 이용한 분류결과 확인하기 \n",
    "clf = SVC(C=1,kernel='linear')\n",
    "clf.fit(X_train, y_train)\n",
    "print(clf.score(X_train, y_train))\n",
    "y_pred=clf.predict(X_test)\n",
    "submit['label'] = y_pred #예측값을 저장후\n",
    "submit.to_csv(\"/kaggle/working/submit_SVC_sleep_features.csv\", index=False) #csv로 만들기"
   ]
  },
  {
   "cell_type": "markdown",
   "id": "automatic-library",
   "metadata": {
    "papermill": {
     "duration": 0.048096,
     "end_time": "2021-06-06T09:46:46.648699",
     "exception": false,
     "start_time": "2021-06-06T09:46:46.600603",
     "status": "completed"
    },
    "tags": []
   },
   "source": [
    "# [Empty Module #3-2] Social feature만 이용하여 우울증 예측하기\n",
    "\n",
    "- 앞서 수면과 관련된 EMA 데이터를 이용해 우울증을 에측해 성능을 확인했다면, 이제는 Activity관련 feature를 이용해 우울증 예측을 진행한다.\n",
    "- 분류에는 SVM을 사용하며 주어진 파라미터를 이용하여 분류를 수행한다."
   ]
  },
  {
   "cell_type": "code",
   "execution_count": 25,
   "id": "pleased-memorial",
   "metadata": {
    "execution": {
     "iopub.execute_input": "2021-06-06T09:46:46.759514Z",
     "iopub.status.busy": "2021-06-06T09:46:46.758528Z",
     "iopub.status.idle": "2021-06-06T09:46:46.761922Z",
     "shell.execute_reply": "2021-06-06T09:46:46.761386Z",
     "shell.execute_reply.started": "2021-06-06T09:36:23.889369Z"
    },
    "papermill": {
     "duration": 0.061117,
     "end_time": "2021-06-06T09:46:46.762061",
     "exception": false,
     "start_time": "2021-06-06T09:46:46.700944",
     "status": "completed"
    },
    "tags": []
   },
   "outputs": [],
   "source": [
    "# Social feature만 이용해 우울증을 예측한다. \n",
    "\n",
    "#######################################################################\n",
    "\n",
    "# 1. describe에서 제공하는 통계적 feature 중 count는 제외한 나머지를 사용한다. \n",
    "\n",
    "# Hint 1) 아래 feature를 사용하시오\n",
    "\n",
    "# train\n",
    "# train_features_student_contact\n",
    "\n",
    "# test\n",
    "# test_features_student_contact\n",
    "    \n",
    "#######################################################################\n",
    "\n",
    "X_train = list()\n",
    "\n",
    "for i in range(train_features_student_contact.shape[1]) : \n",
    "  \n",
    "    ##############################################\n",
    "    # 해당 부분을 채우시오.\n",
    "    tmp_x = list() #train데이터\n",
    "    tmp_x.append(train_features_student_contact[1:8,i])#문제의 조건대로 count를 뺀 mean, std, min, 25%, 50%, 75%, max로만 예측한다.\n",
    "    X_train.append(tmp_x)\n",
    "    ##############################################\n",
    "\n",
    "X_train = np.array(X_train)\n",
    "X_train = X_train.reshape(train_features_student_contact.shape[1],-1)\n",
    "\n",
    "X_test = list()\n",
    "\n",
    "for i in range(test_features_student_contact.shape[1]) : \n",
    "  \n",
    "    ##############################################\n",
    "    # 해당 부분을 채우시오.\n",
    "    tmp_x = list() #test데이터\n",
    "    tmp_x.append(test_features_student_contact[1:8,i]) \n",
    "    X_test.append(tmp_x)\n",
    "    ##############################################\n",
    "\n",
    "X_test = np.array(X_test)\n",
    "X_test = X_test.reshape(test_features_student_contact.shape[1],-1)"
   ]
  },
  {
   "cell_type": "code",
   "execution_count": 26,
   "id": "sensitive-newspaper",
   "metadata": {
    "execution": {
     "iopub.execute_input": "2021-06-06T09:46:46.864860Z",
     "iopub.status.busy": "2021-06-06T09:46:46.863966Z",
     "iopub.status.idle": "2021-06-06T09:46:46.874737Z",
     "shell.execute_reply": "2021-06-06T09:46:46.874082Z",
     "shell.execute_reply.started": "2021-06-06T09:36:24.399332Z"
    },
    "papermill": {
     "duration": 0.064752,
     "end_time": "2021-06-06T09:46:46.874877",
     "exception": false,
     "start_time": "2021-06-06T09:46:46.810125",
     "status": "completed"
    },
    "tags": []
   },
   "outputs": [
    {
     "name": "stdout",
     "output_type": "stream",
     "text": [
      "0.7391304347826086\n"
     ]
    }
   ],
   "source": [
    "# SVM을 이용해 이진분류 수행하기 \n",
    "\n",
    "#######################################################################\n",
    "\n",
    "# Hint 1)\n",
    "# tuned_parameters = [{'kernel': ['linear'], 'C': [1, 10, 100, 1000]}]\n",
    "clf = SVC(C=1,kernel='linear') \n",
    "clf.fit(X_train, y_train)\n",
    "print(clf.score(X_train, y_train))\n",
    "y_pred=clf.predict(X_test)\n",
    "submit['label'] = y_pred\n",
    "#######################################################################\n",
    "\n",
    "# Activity feature를 이용한 분류결과 확인하기 \n",
    "\n",
    "submit['label'] = y_pred\n",
    "submit.to_csv(\"/kaggle/working/submit_SVC_social_features.csv\", index=False)"
   ]
  },
  {
   "cell_type": "markdown",
   "id": "desirable-place",
   "metadata": {
    "papermill": {
     "duration": 0.048831,
     "end_time": "2021-06-06T09:46:46.971906",
     "exception": false,
     "start_time": "2021-06-06T09:46:46.923075",
     "status": "completed"
    },
    "tags": []
   },
   "source": [
    "# [Empty Module #3-3] Activity feature만 이용하여 우울증 예측하기\n",
    "\n",
    "- 앞서 수면, 활동과 관련된 EMA 데이터를 이용해 우울증을 에측해 성능을 확인했다면, 이제는 Social과 관련 feature를 이용해 우울증 예측을 진행한다.\n",
    "- 분류에는 SVM을 사용하며 주어진 파라미터를 이용하여 분류를 수행한다."
   ]
  },
  {
   "cell_type": "code",
   "execution_count": 27,
   "id": "small-criticism",
   "metadata": {
    "execution": {
     "iopub.execute_input": "2021-06-06T09:46:47.081227Z",
     "iopub.status.busy": "2021-06-06T09:46:47.080520Z",
     "iopub.status.idle": "2021-06-06T09:46:47.084528Z",
     "shell.execute_reply": "2021-06-06T09:46:47.084034Z",
     "shell.execute_reply.started": "2021-06-06T09:44:52.387591Z"
    },
    "papermill": {
     "duration": 0.063365,
     "end_time": "2021-06-06T09:46:47.084669",
     "exception": false,
     "start_time": "2021-06-06T09:46:47.021304",
     "status": "completed"
    },
    "tags": []
   },
   "outputs": [],
   "source": [
    "# Activity feature만 이용해 우울증을 예측한다. \n",
    "\n",
    "#######################################################################\n",
    "\n",
    "# 1. describe에서 제공하는 통계적 feature 중 count는 제외한 나머지를 사용한다. \n",
    "\n",
    "# Hint 1) 아래 feature를 사용하시오\n",
    "\n",
    "# train\n",
    "# train_features_student_working_alone\n",
    "# train_features_student_working_other\n",
    "# train_features_student_relaxing_alone\n",
    "# train_features_student_relaxing_other\n",
    "\n",
    "# test\n",
    "# test_features_student_working_alone\n",
    "# test_features_student_working_other\n",
    "# test_features_student_relaxing_alone\n",
    "# test_features_student_relaxing_other\n",
    "    \n",
    "#######################################################################\n",
    "\n",
    "X_train = list()\n",
    "\n",
    "for i in range(train_features_student_sleep.shape[1]) : \n",
    "  \n",
    "    ##############################################\n",
    "    # 해당 부분을 채우시오.\n",
    "    tmp_x = list()\n",
    "    tmp_x.append(train_features_student_working_alone[1:8,i]) #문제의 조건대로 count를 뺀 mean, std, min, 25%, 50%, 75%, max로만 예측한다.\n",
    "    tmp_x.append(train_features_student_working_other[1:8,i]) #그래서 [1:8]\n",
    "    tmp_x.append(train_features_student_relaxing_alone[1:8,i])\n",
    "    tmp_x.append(train_features_student_relaxing_other[1:8,i])\n",
    "    X_train.append(tmp_x)\n",
    "    ##############################################\n",
    "\n",
    "X_train = np.array(X_train)\n",
    "X_train = X_train.reshape(train_features_student_sleep.shape[1],-1)\n",
    "\n",
    "X_test = list()\n",
    "\n",
    "for i in range(test_features_student_sleep.shape[1]) : \n",
    "  \n",
    "    ##############################################\n",
    "    # 해당 부분을 채우시오.\n",
    "    tmp_x = list()\n",
    "    tmp_x.append(test_features_student_working_alone[1:8,i])\n",
    "    tmp_x.append(test_features_student_working_other[1:8,i])\n",
    "    tmp_x.append(test_features_student_relaxing_alone[1:8,i])\n",
    "    tmp_x.append(test_features_student_relaxing_other[1:8,i])\n",
    "    X_test.append(tmp_x)\n",
    "    ##############################################\n",
    "\n",
    "X_test = np.array(X_test)\n",
    "X_test = X_test.reshape(test_features_student_sleep.shape[1],-1)"
   ]
  },
  {
   "cell_type": "code",
   "execution_count": 28,
   "id": "numerical-metabolism",
   "metadata": {
    "execution": {
     "iopub.execute_input": "2021-06-06T09:46:47.190613Z",
     "iopub.status.busy": "2021-06-06T09:46:47.188345Z",
     "iopub.status.idle": "2021-06-06T09:46:47.195820Z",
     "shell.execute_reply": "2021-06-06T09:46:47.195266Z",
     "shell.execute_reply.started": "2021-06-06T09:44:52.834773Z"
    },
    "papermill": {
     "duration": 0.062302,
     "end_time": "2021-06-06T09:46:47.195971",
     "exception": false,
     "start_time": "2021-06-06T09:46:47.133669",
     "status": "completed"
    },
    "tags": []
   },
   "outputs": [
    {
     "name": "stdout",
     "output_type": "stream",
     "text": [
      "0.7391304347826086\n"
     ]
    }
   ],
   "source": [
    "# SVM을 이용해 이진분류 수행하기 \n",
    "\n",
    "#######################################################################\n",
    "\n",
    "# Hint 1)\n",
    "# tuned_parameters = [{'kernel': ['linear'], 'C': [1, 10, 100, 1000]}]\n",
    "clf = SVC(C=1,kernel='linear')\n",
    "clf.fit(X_train, y_train)\n",
    "y_pred=clf.predict(X_test)\n",
    "print(clf.score(X_train, y_train))\n",
    "#######################################################################\n",
    "\n",
    "# Social feature를 이용한 분류결과 확인하기 \n",
    "\n",
    "submit['label'] = y_pred\n",
    "submit.to_csv(\"/kaggle/working/submit_SVC_activity_features.csv\", index=False)"
   ]
  },
  {
   "cell_type": "markdown",
   "id": "short-seeking",
   "metadata": {
    "papermill": {
     "duration": 0.048332,
     "end_time": "2021-06-06T09:46:47.293075",
     "exception": false,
     "start_time": "2021-06-06T09:46:47.244743",
     "status": "completed"
    },
    "tags": []
   },
   "source": [
    "# [Empty Module #3-4] 모든 feature를 이용하여 우울증 예측하기\n",
    "\n",
    "- 앞서 수면, 활동, 사회성과 관련된 EMA 데이터에서 추출한 feature 각각을 이용해 우울증을 분류하였다면, 모든 feautre를 통합하여 분류를 수행한다.\n",
    "- 분류에는 SVM을 사용하며 주어진 파라미터를 이용하여 분류를 수행한다."
   ]
  },
  {
   "cell_type": "code",
   "execution_count": 29,
   "id": "mexican-worship",
   "metadata": {
    "execution": {
     "iopub.execute_input": "2021-06-06T09:46:47.405084Z",
     "iopub.status.busy": "2021-06-06T09:46:47.404029Z",
     "iopub.status.idle": "2021-06-06T09:46:47.408419Z",
     "shell.execute_reply": "2021-06-06T09:46:47.407923Z",
     "shell.execute_reply.started": "2021-06-06T09:03:19.030815Z"
    },
    "papermill": {
     "duration": 0.066605,
     "end_time": "2021-06-06T09:46:47.408580",
     "exception": false,
     "start_time": "2021-06-06T09:46:47.341975",
     "status": "completed"
    },
    "tags": []
   },
   "outputs": [],
   "source": [
    "# Social feature만 이용해 우울증을 예측한다. \n",
    "\n",
    "#######################################################################\n",
    "\n",
    "# 1. describe에서 제공하는 통계적 feature 중 count는 제외한 나머지를 사용한다. \n",
    "\n",
    "# Hint 1) 아래 feature를 사용하시오\n",
    "\n",
    "# train\n",
    "# train_features_student_sleep\n",
    "# train_features_student_sleep_rate\n",
    "# train_features_student_contact\n",
    "# train_features_student_working_alone\n",
    "# train_features_student_working_other\n",
    "# train_features_student_relaxing_alone\n",
    "# train_features_student_relaxing_other\n",
    "\n",
    "# test\n",
    "# test_features_student_sleep\n",
    "# test_features_student_sleep_rate\n",
    "# test_features_student_contact\n",
    "# test_features_student_working_alone\n",
    "# test_features_student_working_other\n",
    "# test_features_student_relaxing_alone\n",
    "# test_features_student_relaxing_other\n",
    "    \n",
    "#######################################################################\n",
    "\n",
    "X_train = list() \n",
    "\n",
    "for i in range(train_features_student_working_alone.shape[1]) : \n",
    "  \n",
    "    ##############################################\n",
    "    # 해당 부분을 채우시오.\n",
    "    tmp_x = list() # ALL부분에 sleep데이터 속 social을 추가 하였다.\n",
    "    tmp_x.append(train_features_student_sleep[1:8,i]) #문제의 조건대로 count를 뺀 mean, std, min, 25%, 50%, 75%, max로만 예측한다.\n",
    "    tmp_x.append(train_features_student_sleep_rate[1:8,i]) #그래서 [1:8]\n",
    "    tmp_x.append(train_features_student_contact[1:8,i])\n",
    "    tmp_x.append(train_features_student_working_alone[1:8,i])\n",
    "    tmp_x.append(train_features_student_working_other[1:8,i])\n",
    "    tmp_x.append(train_features_student_relaxing_alone[1:8,i])\n",
    "    tmp_x.append(train_features_student_relaxing_other[1:8,i])\n",
    "    #tmp_x.append(train_features_student_sleep_social[1:8,i])\n",
    "    #tmp_x.append(train_features_student_exercise[1:8,i]) #오히려 성능이 떨어졌다.\n",
    "    #tmp_x.append(train_features_student_stress[1:8,i])\n",
    "    #tmp_x.append(train_features_student_walk[1:8,i])\n",
    "    \n",
    "    X_train.append(tmp_x)\n",
    "    ##############################################\n",
    "\n",
    "X_train = np.array(X_train)\n",
    "X_train = X_train.reshape(train_features_student_working_alone.shape[1],-1)\n",
    "\n",
    "X_test = list()\n",
    "\n",
    "for i in range(test_features_student_working_alone.shape[1]) : \n",
    "  \n",
    "    ##############################################\n",
    "    # 해당 부분을 채우시오.\n",
    "    tmp_x = list()\n",
    "    tmp_x.append(test_features_student_sleep[1:8,i])\n",
    "    tmp_x.append(test_features_student_sleep_rate[1:8,i])\n",
    "    tmp_x.append(test_features_student_contact[1:8,i])\n",
    "    tmp_x.append(test_features_student_working_alone[1:8,i])\n",
    "    tmp_x.append(test_features_student_working_other[1:8,i])\n",
    "    tmp_x.append(test_features_student_relaxing_alone[1:8,i])\n",
    "    tmp_x.append(test_features_student_relaxing_other[1:8,i])\n",
    "    #tmp_x.append(test_features_student_sleep_social[1:8,i])\n",
    "    #tmp_x.append(test_features_student_exercise[1:8,i])\n",
    "    #tmp_x.append(test_features_student_stress[1:8,i])\n",
    "    #tmp_x.append(test_features_student_walk[1:8,i])\n",
    "    X_test.append(tmp_x)\n",
    "    ##############################################\n",
    "\n",
    "X_test = np.array(X_test)\n",
    "X_test = X_test.reshape(test_features_student_working_alone.shape[1],-1)"
   ]
  },
  {
   "cell_type": "code",
   "execution_count": 30,
   "id": "weird-agreement",
   "metadata": {
    "execution": {
     "iopub.execute_input": "2021-06-06T09:46:47.513933Z",
     "iopub.status.busy": "2021-06-06T09:46:47.513161Z",
     "iopub.status.idle": "2021-06-06T09:46:47.524015Z",
     "shell.execute_reply": "2021-06-06T09:46:47.524488Z",
     "shell.execute_reply.started": "2021-06-06T09:03:19.045350Z"
    },
    "papermill": {
     "duration": 0.067284,
     "end_time": "2021-06-06T09:46:47.524672",
     "exception": false,
     "start_time": "2021-06-06T09:46:47.457388",
     "status": "completed"
    },
    "tags": []
   },
   "outputs": [
    {
     "name": "stdout",
     "output_type": "stream",
     "text": [
      "0.9130434782608695\n"
     ]
    }
   ],
   "source": [
    "# SVM을 이용해 이진분류 수행하기 \n",
    "\n",
    "#######################################################################\n",
    "\n",
    "# Hint 1)\n",
    "# tuned_parameters = [{'kernel': ['linear'], 'C': [1, 10, 100, 1000]}]\n",
    "\n",
    "#######################################################################\n",
    "\n",
    "clf = SVC(C=1,kernel='linear',class_weight='balanced') #결과적으로 성능에 가장 효과 있었떤 파라미터\n",
    "clf.fit(X_train, y_train) \n",
    "y_pred=clf.predict(X_test) #X_test로 예측해주기\n",
    "print(clf.score(X_train, y_train)) #train데이터의 예측 점수 보기\n",
    "\n",
    "\n",
    "# Sleep+Activity+Social feature를 이용한 분류결과 확인하기 \n",
    "\n",
    "submit['label'] = y_pred\n",
    "submit.to_csv(\"/kaggle/working/submit_SVC_All_features.csv\", index=False)"
   ]
  },
  {
   "cell_type": "code",
   "execution_count": 31,
   "id": "respected-sailing",
   "metadata": {
    "execution": {
     "iopub.execute_input": "2021-06-06T09:46:47.629942Z",
     "iopub.status.busy": "2021-06-06T09:46:47.629026Z",
     "iopub.status.idle": "2021-06-06T09:46:47.643700Z",
     "shell.execute_reply": "2021-06-06T09:46:47.643150Z",
     "shell.execute_reply.started": "2021-06-06T09:03:19.069693Z"
    },
    "papermill": {
     "duration": 0.070039,
     "end_time": "2021-06-06T09:46:47.643850",
     "exception": false,
     "start_time": "2021-06-06T09:46:47.573811",
     "status": "completed"
    },
    "tags": []
   },
   "outputs": [
    {
     "data": {
      "text/html": [
       "<div>\n",
       "<style scoped>\n",
       "    .dataframe tbody tr th:only-of-type {\n",
       "        vertical-align: middle;\n",
       "    }\n",
       "\n",
       "    .dataframe tbody tr th {\n",
       "        vertical-align: top;\n",
       "    }\n",
       "\n",
       "    .dataframe thead th {\n",
       "        text-align: right;\n",
       "    }\n",
       "</style>\n",
       "<table border=\"1\" class=\"dataframe\">\n",
       "  <thead>\n",
       "    <tr style=\"text-align: right;\">\n",
       "      <th></th>\n",
       "      <th>user</th>\n",
       "      <th>label</th>\n",
       "    </tr>\n",
       "  </thead>\n",
       "  <tbody>\n",
       "    <tr>\n",
       "      <th>0</th>\n",
       "      <td>u02</td>\n",
       "      <td>1</td>\n",
       "    </tr>\n",
       "    <tr>\n",
       "      <th>1</th>\n",
       "      <td>u04</td>\n",
       "      <td>1</td>\n",
       "    </tr>\n",
       "    <tr>\n",
       "      <th>2</th>\n",
       "      <td>u09</td>\n",
       "      <td>0</td>\n",
       "    </tr>\n",
       "    <tr>\n",
       "      <th>3</th>\n",
       "      <td>u12</td>\n",
       "      <td>0</td>\n",
       "    </tr>\n",
       "    <tr>\n",
       "      <th>4</th>\n",
       "      <td>u13</td>\n",
       "      <td>0</td>\n",
       "    </tr>\n",
       "    <tr>\n",
       "      <th>5</th>\n",
       "      <td>u15</td>\n",
       "      <td>0</td>\n",
       "    </tr>\n",
       "    <tr>\n",
       "      <th>6</th>\n",
       "      <td>u17</td>\n",
       "      <td>1</td>\n",
       "    </tr>\n",
       "    <tr>\n",
       "      <th>7</th>\n",
       "      <td>u18</td>\n",
       "      <td>1</td>\n",
       "    </tr>\n",
       "    <tr>\n",
       "      <th>8</th>\n",
       "      <td>u20</td>\n",
       "      <td>1</td>\n",
       "    </tr>\n",
       "    <tr>\n",
       "      <th>9</th>\n",
       "      <td>u23</td>\n",
       "      <td>1</td>\n",
       "    </tr>\n",
       "    <tr>\n",
       "      <th>10</th>\n",
       "      <td>u27</td>\n",
       "      <td>0</td>\n",
       "    </tr>\n",
       "    <tr>\n",
       "      <th>11</th>\n",
       "      <td>u32</td>\n",
       "      <td>0</td>\n",
       "    </tr>\n",
       "    <tr>\n",
       "      <th>12</th>\n",
       "      <td>u34</td>\n",
       "      <td>0</td>\n",
       "    </tr>\n",
       "    <tr>\n",
       "      <th>13</th>\n",
       "      <td>u35</td>\n",
       "      <td>1</td>\n",
       "    </tr>\n",
       "    <tr>\n",
       "      <th>14</th>\n",
       "      <td>u36</td>\n",
       "      <td>1</td>\n",
       "    </tr>\n",
       "    <tr>\n",
       "      <th>15</th>\n",
       "      <td>u39</td>\n",
       "      <td>1</td>\n",
       "    </tr>\n",
       "    <tr>\n",
       "      <th>16</th>\n",
       "      <td>u42</td>\n",
       "      <td>0</td>\n",
       "    </tr>\n",
       "    <tr>\n",
       "      <th>17</th>\n",
       "      <td>u43</td>\n",
       "      <td>1</td>\n",
       "    </tr>\n",
       "    <tr>\n",
       "      <th>18</th>\n",
       "      <td>u50</td>\n",
       "      <td>1</td>\n",
       "    </tr>\n",
       "    <tr>\n",
       "      <th>19</th>\n",
       "      <td>u52</td>\n",
       "      <td>1</td>\n",
       "    </tr>\n",
       "    <tr>\n",
       "      <th>20</th>\n",
       "      <td>u53</td>\n",
       "      <td>0</td>\n",
       "    </tr>\n",
       "    <tr>\n",
       "      <th>21</th>\n",
       "      <td>u56</td>\n",
       "      <td>0</td>\n",
       "    </tr>\n",
       "    <tr>\n",
       "      <th>22</th>\n",
       "      <td>u59</td>\n",
       "      <td>0</td>\n",
       "    </tr>\n",
       "  </tbody>\n",
       "</table>\n",
       "</div>"
      ],
      "text/plain": [
       "   user  label\n",
       "0   u02      1\n",
       "1   u04      1\n",
       "2   u09      0\n",
       "3   u12      0\n",
       "4   u13      0\n",
       "5   u15      0\n",
       "6   u17      1\n",
       "7   u18      1\n",
       "8   u20      1\n",
       "9   u23      1\n",
       "10  u27      0\n",
       "11  u32      0\n",
       "12  u34      0\n",
       "13  u35      1\n",
       "14  u36      1\n",
       "15  u39      1\n",
       "16  u42      0\n",
       "17  u43      1\n",
       "18  u50      1\n",
       "19  u52      1\n",
       "20  u53      0\n",
       "21  u56      0\n",
       "22  u59      0"
      ]
     },
     "execution_count": 31,
     "metadata": {},
     "output_type": "execute_result"
    }
   ],
   "source": [
    "submit"
   ]
  },
  {
   "cell_type": "markdown",
   "id": "voluntary-facial",
   "metadata": {
    "papermill": {
     "duration": 0.049891,
     "end_time": "2021-06-06T09:46:47.743936",
     "exception": false,
     "start_time": "2021-06-06T09:46:47.694045",
     "status": "completed"
    },
    "tags": []
   },
   "source": [
    "# 결론\n",
    "\n",
    "- 다양한 EMA 데이터를 통해 추출한 Feature를 융합해서 사용하면 더 좋은 성능으로 우울증 분류가 가능함을 확인할 수 있다. 이를 통해서 실제 Feature representation에 따른 성능차이를 확인할 수 있다.\n",
    "\n",
    "## 추가실험\n",
    "\n",
    "- 해당 데이터셋은 데이터 imbalnce 문제가 심각하다. 따라서 이를 해결하기 위한 방법을 추가적으로 사용하여 성능을 향상시킬 수 있다.\n",
    "- 현재 스켈레톤 코드에서는 사용하지 않는 'Stress', 'Exercise'에 대한 EMA 데이터도 제공한다. 이를 추가적으로 이용하여 성능응 향상시킬 수 있다.\n",
    "\n"
   ]
  },
  {
   "attachments": {
    "65ea9b4e-dab5-43b3-a5f4-51c045049d3a.png": {
     "image/png": "[encoded data removed]"
    }
   },
   "cell_type": "markdown",
   "id": "ceramic-lesson",
   "metadata": {
    "papermill": {
     "duration": 0.049767,
     "end_time": "2021-06-06T09:46:47.843918",
     "exception": false,
     "start_time": "2021-06-06T09:46:47.794151",
     "status": "completed"
    },
    "tags": []
   },
   "source": [
    "![image.png](attachment:65ea9b4e-dab5-43b3-a5f4-51c045049d3a.png)"
   ]
  }
 ],
 "metadata": {
  "kernelspec": {
   "display_name": "Python 3",
   "language": "python",
   "name": "python3"
  },
  "language_info": {
   "codemirror_mode": {
    "name": "ipython",
    "version": 3
   },
   "file_extension": ".py",
   "mimetype": "text/x-python",
   "name": "python",
   "nbconvert_exporter": "python",
   "pygments_lexer": "ipython3",
   "version": "3.7.9"
  },
  "papermill": {
   "default_parameters": {},
   "duration": 16.431196,
   "end_time": "2021-06-06T09:46:48.603729",
   "environment_variables": {},
   "exception": null,
   "input_path": "__notebook__.ipynb",
   "output_path": "__notebook__.ipynb",
   "parameters": {},
   "start_time": "2021-06-06T09:46:32.172533",
   "version": "2.3.2"
  }
 },
 "nbformat": 4,
 "nbformat_minor": 5
}
