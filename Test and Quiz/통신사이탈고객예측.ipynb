{
 "cells": [
  {
   "cell_type": "code",
   "execution_count": 1,
   "id": "laden-corpus",
   "metadata": {
    "_cell_guid": "b1076dfc-b9ad-4769-8c92-a6c4dae69d19",
    "_uuid": "8f2839f25d086af736a60e9eeb907d3b93b6e0e5",
    "execution": {
     "iopub.execute_input": "2021-06-13T21:43:51.499928Z",
     "iopub.status.busy": "2021-06-13T21:43:51.499357Z",
     "iopub.status.idle": "2021-06-13T21:43:51.505174Z",
     "shell.execute_reply": "2021-06-13T21:43:51.504426Z",
     "shell.execute_reply.started": "2021-06-13T21:41:50.783226Z"
    },
    "papermill": {
     "duration": 0.023875,
     "end_time": "2021-06-13T21:43:51.505343",
     "exception": false,
     "start_time": "2021-06-13T21:43:51.481468",
     "status": "completed"
    },
    "tags": []
   },
   "outputs": [
    {
     "name": "stdout",
     "output_type": "stream",
     "text": [
      "/kaggle/input/2021-ml-quiz2-3/train.csv\n",
      "/kaggle/input/2021-ml-quiz2-3/test.csv\n",
      "/kaggle/input/2021-ml-quiz2-3/sample_submit.csv\n"
     ]
    }
   ],
   "source": [
    "# This Python 3 environment comes with many helpful analytics libraries installed\n",
    "# It is defined by the kaggle/python Docker image: https://github.com/kaggle/docker-python\n",
    "# For example, here's several helpful packages to load\n",
    "\n",
    "import numpy as np # linear algebra\n",
    "import pandas as pd # data processing, CSV file I/O (e.g. pd.read_csv)\n",
    "\n",
    "# Input data files are available in the read-only \"../input/\" directory\n",
    "# For example, running this (by clicking run or pressing Shift+Enter) will list all files under the input directory\n",
    "\n",
    "import os\n",
    "for dirname, _, filenames in os.walk('/kaggle/input'):\n",
    "    for filename in filenames:\n",
    "        print(os.path.join(dirname, filename))\n",
    "\n",
    "# You can write up to 20GB to the current directory (/kaggle/working/) that gets preserved as output when you create a version using \"Save & Run All\" \n",
    "# You can also write temporary files to /kaggle/temp/, but they won't be saved outside of the current session"
   ]
  },
  {
   "cell_type": "code",
   "execution_count": 2,
   "id": "south-uniform",
   "metadata": {
    "execution": {
     "iopub.execute_input": "2021-06-13T21:43:51.528063Z",
     "iopub.status.busy": "2021-06-13T21:43:51.527538Z",
     "iopub.status.idle": "2021-06-13T21:43:51.590803Z",
     "shell.execute_reply": "2021-06-13T21:43:51.590307Z",
     "shell.execute_reply.started": "2021-06-13T21:41:50.794678Z"
    },
    "papermill": {
     "duration": 0.075978,
     "end_time": "2021-06-13T21:43:51.590949",
     "exception": false,
     "start_time": "2021-06-13T21:43:51.514971",
     "status": "completed"
    },
    "tags": []
   },
   "outputs": [],
   "source": [
    "train=pd.read_csv(\"/kaggle/input/2021-ml-quiz2-3/train.csv\")\n",
    "test=pd.read_csv(\"/kaggle/input/2021-ml-quiz2-3/test.csv\")\n",
    "submit=pd.read_csv(\"/kaggle/input/2021-ml-quiz2-3/sample_submit.csv\")"
   ]
  },
  {
   "cell_type": "code",
   "execution_count": 3,
   "id": "spatial-workstation",
   "metadata": {
    "execution": {
     "iopub.execute_input": "2021-06-13T21:43:51.621321Z",
     "iopub.status.busy": "2021-06-13T21:43:51.620640Z",
     "iopub.status.idle": "2021-06-13T21:43:51.626860Z",
     "shell.execute_reply": "2021-06-13T21:43:51.626371Z",
     "shell.execute_reply.started": "2021-06-13T21:41:50.850365Z"
    },
    "papermill": {
     "duration": 0.027095,
     "end_time": "2021-06-13T21:43:51.626998",
     "exception": false,
     "start_time": "2021-06-13T21:43:51.599903",
     "status": "completed"
    },
    "tags": []
   },
   "outputs": [],
   "source": [
    "x_train=train.drop([\"index\",\"Unnamed: 0\",\"customerID\",\"Churn\"],axis=1)\n",
    "y_train=train[\"Churn\"]\n",
    "test=test.drop([\"index\",\"Unnamed: 0\",\"customerID\"],axis=1)"
   ]
  },
  {
   "cell_type": "code",
   "execution_count": 4,
   "id": "ignored-universal",
   "metadata": {
    "execution": {
     "iopub.execute_input": "2021-06-13T21:43:51.665381Z",
     "iopub.status.busy": "2021-06-13T21:43:51.664774Z",
     "iopub.status.idle": "2021-06-13T21:43:51.668416Z",
     "shell.execute_reply": "2021-06-13T21:43:51.667849Z",
     "shell.execute_reply.started": "2021-06-13T21:41:50.862418Z"
    },
    "papermill": {
     "duration": 0.032199,
     "end_time": "2021-06-13T21:43:51.668548",
     "exception": false,
     "start_time": "2021-06-13T21:43:51.636349",
     "status": "completed"
    },
    "tags": []
   },
   "outputs": [
    {
     "name": "stdout",
     "output_type": "stream",
     "text": [
      "<class 'pandas.core.frame.DataFrame'>\n",
      "RangeIndex: 1198 entries, 0 to 1197\n",
      "Data columns (total 19 columns):\n",
      " #   Column            Non-Null Count  Dtype  \n",
      "---  ------            --------------  -----  \n",
      " 0   gender            1198 non-null   object \n",
      " 1   SeniorCitizen     1198 non-null   int64  \n",
      " 2   Partner           1198 non-null   object \n",
      " 3   Dependents        1198 non-null   object \n",
      " 4   tenure            1198 non-null   int64  \n",
      " 5   PhoneService      1198 non-null   object \n",
      " 6   MultipleLines     1198 non-null   object \n",
      " 7   InternetService   1198 non-null   object \n",
      " 8   OnlineSecurity    1198 non-null   object \n",
      " 9   OnlineBackup      1198 non-null   object \n",
      " 10  DeviceProtection  1198 non-null   object \n",
      " 11  TechSupport       1198 non-null   object \n",
      " 12  StreamingTV       1198 non-null   object \n",
      " 13  StreamingMovies   1198 non-null   object \n",
      " 14  Contract          1198 non-null   object \n",
      " 15  PaperlessBilling  1198 non-null   object \n",
      " 16  PaymentMethod     1198 non-null   object \n",
      " 17  MonthlyCharges    1198 non-null   float64\n",
      " 18  TotalCharges      1198 non-null   float64\n",
      "dtypes: float64(2), int64(2), object(15)\n",
      "memory usage: 178.0+ KB\n"
     ]
    }
   ],
   "source": [
    "test.info()"
   ]
  },
  {
   "cell_type": "code",
   "execution_count": 5,
   "id": "aggressive-communication",
   "metadata": {
    "execution": {
     "iopub.execute_input": "2021-06-13T21:43:51.693540Z",
     "iopub.status.busy": "2021-06-13T21:43:51.692690Z",
     "iopub.status.idle": "2021-06-13T21:43:51.696115Z",
     "shell.execute_reply": "2021-06-13T21:43:51.696514Z",
     "shell.execute_reply.started": "2021-06-13T21:41:50.888510Z"
    },
    "papermill": {
     "duration": 0.019056,
     "end_time": "2021-06-13T21:43:51.696661",
     "exception": false,
     "start_time": "2021-06-13T21:43:51.677605",
     "status": "completed"
    },
    "tags": []
   },
   "outputs": [
    {
     "data": {
      "text/plain": [
       "Index(['gender', 'SeniorCitizen', 'Partner', 'Dependents', 'tenure',\n",
       "       'PhoneService', 'MultipleLines', 'InternetService', 'OnlineSecurity',\n",
       "       'OnlineBackup', 'DeviceProtection', 'TechSupport', 'StreamingTV',\n",
       "       'StreamingMovies', 'Contract', 'PaperlessBilling', 'PaymentMethod',\n",
       "       'MonthlyCharges', 'TotalCharges'],\n",
       "      dtype='object')"
      ]
     },
     "execution_count": 5,
     "metadata": {},
     "output_type": "execute_result"
    }
   ],
   "source": [
    "x_train.columns"
   ]
  },
  {
   "cell_type": "code",
   "execution_count": 6,
   "id": "official-tension",
   "metadata": {
    "execution": {
     "iopub.execute_input": "2021-06-13T21:43:51.720055Z",
     "iopub.status.busy": "2021-06-13T21:43:51.719521Z",
     "iopub.status.idle": "2021-06-13T21:43:52.519801Z",
     "shell.execute_reply": "2021-06-13T21:43:52.519214Z",
     "shell.execute_reply.started": "2021-06-13T21:41:50.901892Z"
    },
    "papermill": {
     "duration": 0.81409,
     "end_time": "2021-06-13T21:43:52.519934",
     "exception": false,
     "start_time": "2021-06-13T21:43:51.705844",
     "status": "completed"
    },
    "tags": []
   },
   "outputs": [],
   "source": [
    "from sklearn import preprocessing\n",
    "index=['gender',  'Partner', 'Dependents', 'PhoneService', 'MultipleLines', 'InternetService', 'OnlineSecurity',\n",
    "       'OnlineBackup', 'DeviceProtection', 'TechSupport', 'StreamingTV','StreamingMovies', 'Contract', 'PaperlessBilling', 'PaymentMethod']\n",
    "for i in index:\n",
    "    le = preprocessing.LabelEncoder()\n",
    "    le.fit(x_train[i])\n",
    "    x_train[i]=le.transform(x_train[i])\n",
    "    test[i]=le.transform(test[i])"
   ]
  },
  {
   "cell_type": "code",
   "execution_count": 7,
   "id": "searching-separation",
   "metadata": {
    "execution": {
     "iopub.execute_input": "2021-06-13T21:43:52.543520Z",
     "iopub.status.busy": "2021-06-13T21:43:52.542872Z",
     "iopub.status.idle": "2021-06-13T21:43:52.546892Z",
     "shell.execute_reply": "2021-06-13T21:43:52.546482Z",
     "shell.execute_reply.started": "2021-06-13T21:41:50.962784Z"
    },
    "papermill": {
     "duration": 0.017755,
     "end_time": "2021-06-13T21:43:52.547018",
     "exception": false,
     "start_time": "2021-06-13T21:43:52.529263",
     "status": "completed"
    },
    "tags": []
   },
   "outputs": [],
   "source": [
    "remove_index=x_train[x_train[\"TotalCharges\"]==' '].index"
   ]
  },
  {
   "cell_type": "code",
   "execution_count": 8,
   "id": "harmful-floor",
   "metadata": {
    "execution": {
     "iopub.execute_input": "2021-06-13T21:43:52.570247Z",
     "iopub.status.busy": "2021-06-13T21:43:52.569657Z",
     "iopub.status.idle": "2021-06-13T21:43:52.573915Z",
     "shell.execute_reply": "2021-06-13T21:43:52.573383Z",
     "shell.execute_reply.started": "2021-06-13T21:41:50.973812Z"
    },
    "papermill": {
     "duration": 0.017627,
     "end_time": "2021-06-13T21:43:52.574036",
     "exception": false,
     "start_time": "2021-06-13T21:43:52.556409",
     "status": "completed"
    },
    "tags": []
   },
   "outputs": [],
   "source": [
    "x_train=x_train.drop(remove_index)\n",
    "y_train=y_train.drop(remove_index)"
   ]
  },
  {
   "cell_type": "code",
   "execution_count": 9,
   "id": "prerequisite-belarus",
   "metadata": {
    "execution": {
     "iopub.execute_input": "2021-06-13T21:43:52.603323Z",
     "iopub.status.busy": "2021-06-13T21:43:52.598526Z",
     "iopub.status.idle": "2021-06-13T21:43:52.626320Z",
     "shell.execute_reply": "2021-06-13T21:43:52.625828Z",
     "shell.execute_reply.started": "2021-06-13T21:41:50.987448Z"
    },
    "papermill": {
     "duration": 0.043144,
     "end_time": "2021-06-13T21:43:52.626449",
     "exception": false,
     "start_time": "2021-06-13T21:43:52.583305",
     "status": "completed"
    },
    "tags": []
   },
   "outputs": [],
   "source": [
    "from sklearn.preprocessing import RobustScaler\n",
    "transformer = RobustScaler().fit(x_train)\n",
    "x_train=transformer.transform(x_train)\n",
    "test=transformer.transform(test)"
   ]
  },
  {
   "cell_type": "code",
   "execution_count": 10,
   "id": "thorough-compensation",
   "metadata": {
    "execution": {
     "iopub.execute_input": "2021-06-13T21:43:52.649386Z",
     "iopub.status.busy": "2021-06-13T21:43:52.648822Z",
     "iopub.status.idle": "2021-06-13T21:43:53.623336Z",
     "shell.execute_reply": "2021-06-13T21:43:53.622790Z",
     "shell.execute_reply.started": "2021-06-13T21:41:51.041076Z"
    },
    "papermill": {
     "duration": 0.987583,
     "end_time": "2021-06-13T21:43:53.623477",
     "exception": false,
     "start_time": "2021-06-13T21:43:52.635894",
     "status": "completed"
    },
    "tags": []
   },
   "outputs": [],
   "source": [
    "from sklearn.ensemble import GradientBoostingClassifier\n",
    "clf = GradientBoostingClassifier(random_state=1)\n",
    "clf.fit(x_train, y_train)\n",
    "y_pred=clf.predict(test)\n",
    "submit[\"Churn\"]=y_pred"
   ]
  },
  {
   "cell_type": "code",
   "execution_count": 11,
   "id": "bottom-country",
   "metadata": {
    "execution": {
     "iopub.execute_input": "2021-06-13T21:43:53.646808Z",
     "iopub.status.busy": "2021-06-13T21:43:53.646275Z",
     "iopub.status.idle": "2021-06-13T21:43:53.649407Z",
     "shell.execute_reply": "2021-06-13T21:43:53.648923Z",
     "shell.execute_reply.started": "2021-06-13T21:41:51.691138Z"
    },
    "papermill": {
     "duration": 0.016588,
     "end_time": "2021-06-13T21:43:53.649538",
     "exception": false,
     "start_time": "2021-06-13T21:43:53.632950",
     "status": "completed"
    },
    "tags": []
   },
   "outputs": [],
   "source": [
    "def con(data):\n",
    "    if data.lower()=='no':\n",
    "        return 0\n",
    "    else:\n",
    "        return 1"
   ]
  },
  {
   "cell_type": "code",
   "execution_count": 12,
   "id": "russian-disability",
   "metadata": {
    "execution": {
     "iopub.execute_input": "2021-06-13T21:43:53.673994Z",
     "iopub.status.busy": "2021-06-13T21:43:53.673446Z",
     "iopub.status.idle": "2021-06-13T21:43:53.682143Z",
     "shell.execute_reply": "2021-06-13T21:43:53.681635Z",
     "shell.execute_reply.started": "2021-06-13T21:41:51.697336Z"
    },
    "papermill": {
     "duration": 0.023407,
     "end_time": "2021-06-13T21:43:53.682299",
     "exception": false,
     "start_time": "2021-06-13T21:43:53.658892",
     "status": "completed"
    },
    "tags": []
   },
   "outputs": [],
   "source": [
    "submit[\"Churn\"]=submit[\"Churn\"].apply(con)\n",
    "submit.to_csv(\"submit.csv\",index=False)"
   ]
  },
  {
   "cell_type": "code",
   "execution_count": null,
   "id": "secure-mineral",
   "metadata": {
    "papermill": {
     "duration": 0.009376,
     "end_time": "2021-06-13T21:43:53.701750",
     "exception": false,
     "start_time": "2021-06-13T21:43:53.692374",
     "status": "completed"
    },
    "tags": []
   },
   "outputs": [],
   "source": []
  }
 ],
 "metadata": {
  "kernelspec": {
   "display_name": "Python 3",
   "language": "python",
   "name": "python3"
  },
  "language_info": {
   "codemirror_mode": {
    "name": "ipython",
    "version": 3
   },
   "file_extension": ".py",
   "mimetype": "text/x-python",
   "name": "python",
   "nbconvert_exporter": "python",
   "pygments_lexer": "ipython3",
   "version": "3.7.10"
  },
  "papermill": {
   "default_parameters": {},
   "duration": 9.645005,
   "end_time": "2021-06-13T21:43:54.421017",
   "environment_variables": {},
   "exception": null,
   "input_path": "__notebook__.ipynb",
   "output_path": "__notebook__.ipynb",
   "parameters": {},
   "start_time": "2021-06-13T21:43:44.776012",
   "version": "2.3.3"
  }
 },
 "nbformat": 4,
 "nbformat_minor": 5
}
