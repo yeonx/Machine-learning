{
 "cells": [
  {
   "cell_type": "code",
   "execution_count": 1,
   "id": "numerous-sandwich",
   "metadata": {
    "_cell_guid": "b1076dfc-b9ad-4769-8c92-a6c4dae69d19",
    "_uuid": "8f2839f25d086af736a60e9eeb907d3b93b6e0e5",
    "execution": {
     "iopub.execute_input": "2021-06-09T11:30:40.095441Z",
     "iopub.status.busy": "2021-06-09T11:30:40.092425Z",
     "iopub.status.idle": "2021-06-09T11:30:40.101370Z",
     "shell.execute_reply": "2021-06-09T11:30:40.100705Z",
     "shell.execute_reply.started": "2021-06-09T11:30:19.138771Z"
    },
    "papermill": {
     "duration": 0.026604,
     "end_time": "2021-06-09T11:30:40.101546",
     "exception": false,
     "start_time": "2021-06-09T11:30:40.074942",
     "status": "completed"
    },
    "tags": []
   },
   "outputs": [
    {
     "name": "stdout",
     "output_type": "stream",
     "text": [
      "/kaggle/input/2021-ml-quiz2-4/train.csv\n",
      "/kaggle/input/2021-ml-quiz2-4/test.csv\n",
      "/kaggle/input/2021-ml-quiz2-4/sample_submit.csv\n"
     ]
    }
   ],
   "source": [
    "# This Python 3 environment comes with many helpful analytics libraries installed\n",
    "# It is defined by the kaggle/python Docker image: https://github.com/kaggle/docker-python\n",
    "# For example, here's several helpful packages to load\n",
    "\n",
    "import numpy as np # linear algebra\n",
    "import pandas as pd # data processing, CSV file I/O (e.g. pd.read_csv)\n",
    "\n",
    "# Input data files are available in the read-only \"../input/\" directory\n",
    "# For example, running this (by clicking run or pressing Shift+Enter) will list all files under the input directory\n",
    "\n",
    "import os\n",
    "for dirname, _, filenames in os.walk('/kaggle/input'):\n",
    "    for filename in filenames:\n",
    "        print(os.path.join(dirname, filename))\n",
    "\n",
    "# You can write up to 20GB to the current directory (/kaggle/working/) that gets preserved as output when you create a version using \"Save & Run All\" \n",
    "# You can also write temporary files to /kaggle/temp/, but they won't be saved outside of the current session"
   ]
  },
  {
   "cell_type": "code",
   "execution_count": 2,
   "id": "christian-medicare",
   "metadata": {
    "execution": {
     "iopub.execute_input": "2021-06-09T11:30:40.122301Z",
     "iopub.status.busy": "2021-06-09T11:30:40.121543Z",
     "iopub.status.idle": "2021-06-09T11:30:40.151866Z",
     "shell.execute_reply": "2021-06-09T11:30:40.152379Z",
     "shell.execute_reply.started": "2021-06-09T11:30:19.151699Z"
    },
    "papermill": {
     "duration": 0.043053,
     "end_time": "2021-06-09T11:30:40.152570",
     "exception": false,
     "start_time": "2021-06-09T11:30:40.109517",
     "status": "completed"
    },
    "tags": []
   },
   "outputs": [],
   "source": [
    "#데이터 불러오기\n",
    "train=pd.read_csv(\"/kaggle/input/2021-ml-quiz2-4/train.csv\")\n",
    "test=pd.read_csv(\"/kaggle/input/2021-ml-quiz2-4/test.csv\")\n",
    "submit=pd.read_csv(\"/kaggle/input/2021-ml-quiz2-4/sample_submit.csv\")"
   ]
  },
  {
   "cell_type": "code",
   "execution_count": 3,
   "id": "historical-imperial",
   "metadata": {
    "execution": {
     "iopub.execute_input": "2021-06-09T11:30:40.184900Z",
     "iopub.status.busy": "2021-06-09T11:30:40.184149Z",
     "iopub.status.idle": "2021-06-09T11:30:40.187601Z",
     "shell.execute_reply": "2021-06-09T11:30:40.187064Z",
     "shell.execute_reply.started": "2021-06-09T11:30:19.175232Z"
    },
    "papermill": {
     "duration": 0.027419,
     "end_time": "2021-06-09T11:30:40.187800",
     "exception": false,
     "start_time": "2021-06-09T11:30:40.160381",
     "status": "completed"
    },
    "tags": []
   },
   "outputs": [],
   "source": [
    "#데이터 나눔 (indus를 제거하면 성능이 더 오름)\n",
    "x_train=train.drop([\"index\",\"Price\",\"INDUS\"],axis=1)\n",
    "test=test.drop([\"index\",\"INDUS\"],axis=1)\n",
    "y_train=train[\"Price\"]"
   ]
  },
  {
   "cell_type": "code",
   "execution_count": 4,
   "id": "invisible-asian",
   "metadata": {
    "execution": {
     "iopub.execute_input": "2021-06-09T11:30:40.208190Z",
     "iopub.status.busy": "2021-06-09T11:30:40.207415Z",
     "iopub.status.idle": "2021-06-09T11:30:41.119288Z",
     "shell.execute_reply": "2021-06-09T11:30:41.118549Z",
     "shell.execute_reply.started": "2021-06-09T11:30:19.184137Z"
    },
    "papermill": {
     "duration": 0.924176,
     "end_time": "2021-06-09T11:30:41.119433",
     "exception": false,
     "start_time": "2021-06-09T11:30:40.195257",
     "status": "completed"
    },
    "tags": []
   },
   "outputs": [],
   "source": [
    "#데이터 전처리작업\n",
    "from sklearn.preprocessing import RobustScaler\n",
    "transformer = RobustScaler().fit(x_train)\n",
    "x_train=transformer.transform(x_train)\n",
    "test=transformer.transform(test)"
   ]
  },
  {
   "cell_type": "code",
   "execution_count": 5,
   "id": "small-student",
   "metadata": {
    "execution": {
     "iopub.execute_input": "2021-06-09T11:30:41.141357Z",
     "iopub.status.busy": "2021-06-09T11:30:41.140578Z",
     "iopub.status.idle": "2021-06-09T11:30:41.352207Z",
     "shell.execute_reply": "2021-06-09T11:30:41.350874Z",
     "shell.execute_reply.started": "2021-06-09T11:30:19.208043Z"
    },
    "papermill": {
     "duration": 0.224989,
     "end_time": "2021-06-09T11:30:41.352383",
     "exception": false,
     "start_time": "2021-06-09T11:30:41.127394",
     "status": "completed"
    },
    "tags": []
   },
   "outputs": [
    {
     "name": "stdout",
     "output_type": "stream",
     "text": [
      "0.887865762629608\n"
     ]
    }
   ],
   "source": [
    "#회귀문제고 SVR사용해줌\n",
    "from sklearn.svm import SVR\n",
    "regr = SVR(C=100)\n",
    "regr.fit(x_train,y_train)\n",
    "y_pred=regr.predict(test)\n",
    "print(regr.score(x_train,y_train))"
   ]
  },
  {
   "cell_type": "code",
   "execution_count": 6,
   "id": "opposite-radio",
   "metadata": {
    "execution": {
     "iopub.execute_input": "2021-06-09T11:30:41.374864Z",
     "iopub.status.busy": "2021-06-09T11:30:41.373792Z",
     "iopub.status.idle": "2021-06-09T11:30:41.381912Z",
     "shell.execute_reply": "2021-06-09T11:30:41.381095Z",
     "shell.execute_reply.started": "2021-06-09T11:30:19.257844Z"
    },
    "papermill": {
     "duration": 0.021602,
     "end_time": "2021-06-09T11:30:41.382070",
     "exception": false,
     "start_time": "2021-06-09T11:30:41.360468",
     "status": "completed"
    },
    "tags": []
   },
   "outputs": [],
   "source": [
    "#출력파일 생성\n",
    "submit[\"price\"]=y_pred\n",
    "submit.to_csv(\"submit_4번.csv\",index=False)"
   ]
  },
  {
   "cell_type": "code",
   "execution_count": 7,
   "id": "classical-auckland",
   "metadata": {
    "execution": {
     "iopub.execute_input": "2021-06-09T11:30:41.402118Z",
     "iopub.status.busy": "2021-06-09T11:30:41.401480Z",
     "iopub.status.idle": "2021-06-09T11:30:41.404142Z",
     "shell.execute_reply": "2021-06-09T11:30:41.404632Z",
     "shell.execute_reply.started": "2021-06-09T11:30:19.265334Z"
    },
    "papermill": {
     "duration": 0.014695,
     "end_time": "2021-06-09T11:30:41.404815",
     "exception": false,
     "start_time": "2021-06-09T11:30:41.390120",
     "status": "completed"
    },
    "tags": []
   },
   "outputs": [],
   "source": [
    "#이 문제는 회귀문제로 가장 성능이 좋았던 SVR을 사용했고 indus를 제거하면 성능이 더 높아졌기 때문에 제거해 주었다.\n",
    "#C값은 100으로 했을 때 가장 높은 성능을 보였다"
   ]
  }
 ],
 "metadata": {
  "kernelspec": {
   "display_name": "Python 3",
   "language": "python",
   "name": "python3"
  },
  "language_info": {
   "codemirror_mode": {
    "name": "ipython",
    "version": 3
   },
   "file_extension": ".py",
   "mimetype": "text/x-python",
   "name": "python",
   "nbconvert_exporter": "python",
   "pygments_lexer": "ipython3",
   "version": "3.7.10"
  },
  "papermill": {
   "default_parameters": {},
   "duration": 10.893494,
   "end_time": "2021-06-09T11:30:42.755653",
   "environment_variables": {},
   "exception": null,
   "input_path": "__notebook__.ipynb",
   "output_path": "__notebook__.ipynb",
   "parameters": {},
   "start_time": "2021-06-09T11:30:31.862159",
   "version": "2.3.3"
  }
 },
 "nbformat": 4,
 "nbformat_minor": 5
}
