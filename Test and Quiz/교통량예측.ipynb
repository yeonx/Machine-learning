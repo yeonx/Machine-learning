{
 "cells": [
  {
   "cell_type": "code",
   "execution_count": 1,
   "id": "arabic-emphasis",
   "metadata": {
    "_cell_guid": "b1076dfc-b9ad-4769-8c92-a6c4dae69d19",
    "_uuid": "8f2839f25d086af736a60e9eeb907d3b93b6e0e5",
    "execution": {
     "iopub.execute_input": "2021-06-09T11:50:29.115417Z",
     "iopub.status.busy": "2021-06-09T11:50:29.113864Z",
     "iopub.status.idle": "2021-06-09T11:50:29.126433Z",
     "shell.execute_reply": "2021-06-09T11:50:29.125556Z",
     "shell.execute_reply.started": "2021-06-09T11:50:08.070791Z"
    },
    "papermill": {
     "duration": 0.022523,
     "end_time": "2021-06-09T11:50:29.126633",
     "exception": false,
     "start_time": "2021-06-09T11:50:29.104110",
     "status": "completed"
    },
    "tags": []
   },
   "outputs": [
    {
     "name": "stdout",
     "output_type": "stream",
     "text": [
      "/kaggle/input/2021-ml-quiz2-2/train.csv\n",
      "/kaggle/input/2021-ml-quiz2-2/test.csv\n",
      "/kaggle/input/2021-ml-quiz2-2/sample_submit.csv\n"
     ]
    }
   ],
   "source": [
    "# This Python 3 environment comes with many helpful analytics libraries installed\n",
    "# It is defined by the kaggle/python Docker image: https://github.com/kaggle/docker-python\n",
    "# For example, here's several helpful packages to load\n",
    "\n",
    "import numpy as np # linear algebra\n",
    "import pandas as pd # data processing, CSV file I/O (e.g. pd.read_csv)\n",
    "\n",
    "# Input data files are available in the read-only \"../input/\" directory\n",
    "# For example, running this (by clicking run or pressing Shift+Enter) will list all files under the input directory\n",
    "\n",
    "import os\n",
    "for dirname, _, filenames in os.walk('/kaggle/input'):\n",
    "    for filename in filenames:\n",
    "        print(os.path.join(dirname, filename))\n",
    "\n",
    "# You can write up to 20GB to the current directory (/kaggle/working/) that gets preserved as output when you create a version using \"Save & Run All\" \n",
    "# You can also write temporary files to /kaggle/temp/, but they won't be saved outside of the current session"
   ]
  },
  {
   "cell_type": "code",
   "execution_count": 2,
   "id": "raising-facing",
   "metadata": {
    "execution": {
     "iopub.execute_input": "2021-06-09T11:50:29.142980Z",
     "iopub.status.busy": "2021-06-09T11:50:29.142422Z",
     "iopub.status.idle": "2021-06-09T11:50:29.528134Z",
     "shell.execute_reply": "2021-06-09T11:50:29.527305Z",
     "shell.execute_reply.started": "2021-06-09T11:50:08.083689Z"
    },
    "papermill": {
     "duration": 0.395256,
     "end_time": "2021-06-09T11:50:29.528266",
     "exception": false,
     "start_time": "2021-06-09T11:50:29.133010",
     "status": "completed"
    },
    "tags": []
   },
   "outputs": [],
   "source": [
    "#데이터 불러오기\n",
    "train = pd.read_csv(\"/kaggle/input/2021-ml-quiz2-2/train.csv\", engine='python',encoding='CP949')\n",
    "test = pd.read_csv(\"/kaggle/input/2021-ml-quiz2-2/test.csv\", engine='python',encoding='CP949')\n",
    "submit = pd.read_csv(\"/kaggle/input/2021-ml-quiz2-2/sample_submit.csv\", engine='python',encoding='CP949')"
   ]
  },
  {
   "cell_type": "code",
   "execution_count": 3,
   "id": "terminal-jewel",
   "metadata": {
    "execution": {
     "iopub.execute_input": "2021-06-09T11:50:29.552575Z",
     "iopub.status.busy": "2021-06-09T11:50:29.550784Z",
     "iopub.status.idle": "2021-06-09T11:50:29.553238Z",
     "shell.execute_reply": "2021-06-09T11:50:29.553652Z",
     "shell.execute_reply.started": "2021-06-09T11:50:08.815433Z"
    },
    "papermill": {
     "duration": 0.020357,
     "end_time": "2021-06-09T11:50:29.553833",
     "exception": false,
     "start_time": "2021-06-09T11:50:29.533476",
     "status": "completed"
    },
    "tags": []
   },
   "outputs": [],
   "source": [
    "#train의 y과 x나눔\n",
    "x_train=train.drop(\"교통량\",axis=1)\n",
    "y_train=train[\"교통량\"]"
   ]
  },
  {
   "cell_type": "code",
   "execution_count": 4,
   "id": "hawaiian-surrey",
   "metadata": {
    "execution": {
     "iopub.execute_input": "2021-06-09T11:50:29.569014Z",
     "iopub.status.busy": "2021-06-09T11:50:29.568407Z",
     "iopub.status.idle": "2021-06-09T11:50:30.457708Z",
     "shell.execute_reply": "2021-06-09T11:50:30.457234Z",
     "shell.execute_reply.started": "2021-06-09T11:50:08.824929Z"
    },
    "papermill": {
     "duration": 0.898746,
     "end_time": "2021-06-09T11:50:30.457849",
     "exception": false,
     "start_time": "2021-06-09T11:50:29.559103",
     "status": "completed"
    },
    "tags": []
   },
   "outputs": [],
   "source": [
    "#데이터 전처리 해주기-> 성능이 더 높아짐\n",
    "from sklearn.preprocessing import MinMaxScaler\n",
    "transformer =MinMaxScaler().fit(x_train)\n",
    "x_train=transformer.transform(x_train)\n",
    "test=transformer.transform(test)"
   ]
  },
  {
   "cell_type": "code",
   "execution_count": 5,
   "id": "enormous-union",
   "metadata": {
    "execution": {
     "iopub.execute_input": "2021-06-09T11:50:30.472222Z",
     "iopub.status.busy": "2021-06-09T11:50:30.471651Z",
     "iopub.status.idle": "2021-06-09T11:50:48.436358Z",
     "shell.execute_reply": "2021-06-09T11:50:48.435726Z"
    },
    "papermill": {
     "duration": 17.973578,
     "end_time": "2021-06-09T11:50:48.436534",
     "exception": false,
     "start_time": "2021-06-09T11:50:30.462956",
     "status": "completed"
    },
    "tags": []
   },
   "outputs": [
    {
     "name": "stdout",
     "output_type": "stream",
     "text": [
      "0.9966788823479306\n"
     ]
    }
   ],
   "source": [
    "#회귀문제로 랜덤포레스트의 regressor이용\n",
    "from sklearn.ensemble import RandomForestRegressor\n",
    "regr = RandomForestRegressor(random_state=0)\n",
    "regr.fit(x_train, y_train)\n",
    "y_pred=regr.predict(test)\n",
    "print(regr.score(x_train,y_train))"
   ]
  },
  {
   "cell_type": "code",
   "execution_count": 6,
   "id": "subsequent-assets",
   "metadata": {
    "execution": {
     "iopub.execute_input": "2021-06-09T11:50:48.452013Z",
     "iopub.status.busy": "2021-06-09T11:50:48.451284Z",
     "iopub.status.idle": "2021-06-09T11:50:48.478528Z",
     "shell.execute_reply": "2021-06-09T11:50:48.478050Z"
    },
    "papermill": {
     "duration": 0.036385,
     "end_time": "2021-06-09T11:50:48.478648",
     "exception": false,
     "start_time": "2021-06-09T11:50:48.442263",
     "status": "completed"
    },
    "tags": []
   },
   "outputs": [],
   "source": [
    "#출력파일 생성\n",
    "submit[\"predict\"]=y_pred\n",
    "submit.to_csv(\"submit.csv\",index=False)"
   ]
  },
  {
   "cell_type": "code",
   "execution_count": 7,
   "id": "funded-polish",
   "metadata": {
    "execution": {
     "iopub.execute_input": "2021-06-09T11:50:48.491661Z",
     "iopub.status.busy": "2021-06-09T11:50:48.491186Z",
     "iopub.status.idle": "2021-06-09T11:50:48.495106Z",
     "shell.execute_reply": "2021-06-09T11:50:48.494645Z"
    },
    "papermill": {
     "duration": 0.011108,
     "end_time": "2021-06-09T11:50:48.495228",
     "exception": false,
     "start_time": "2021-06-09T11:50:48.484120",
     "status": "completed"
    },
    "tags": []
   },
   "outputs": [],
   "source": [
    "#회귀문제로 그 이유는  RandomForestRegressor과 knn을 사용해 보았을 때 RandomForestRegressor의 성능이 더 높았기 때문이다\n",
    "#전처리할때 MinMaxScaler를 사용한 이유는 RobustScaler과 사용을 하지 않은 경우에 비해 성능이 높았기 때문이다."
   ]
  }
 ],
 "metadata": {
  "kernelspec": {
   "display_name": "Python 3",
   "language": "python",
   "name": "python3"
  },
  "language_info": {
   "codemirror_mode": {
    "name": "ipython",
    "version": 3
   },
   "file_extension": ".py",
   "mimetype": "text/x-python",
   "name": "python",
   "nbconvert_exporter": "python",
   "pygments_lexer": "ipython3",
   "version": "3.7.10"
  },
  "papermill": {
   "default_parameters": {},
   "duration": 26.58295,
   "end_time": "2021-06-09T11:50:49.209084",
   "environment_variables": {},
   "exception": null,
   "input_path": "__notebook__.ipynb",
   "output_path": "__notebook__.ipynb",
   "parameters": {},
   "start_time": "2021-06-09T11:50:22.626134",
   "version": "2.3.3"
  }
 },
 "nbformat": 4,
 "nbformat_minor": 5
}
