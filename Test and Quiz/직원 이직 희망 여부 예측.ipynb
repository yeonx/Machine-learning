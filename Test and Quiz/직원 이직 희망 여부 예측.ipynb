{
 "cells": [
  {
   "cell_type": "code",
   "execution_count": 1,
   "id": "tender-syria",
   "metadata": {
    "_cell_guid": "b1076dfc-b9ad-4769-8c92-a6c4dae69d19",
    "_uuid": "8f2839f25d086af736a60e9eeb907d3b93b6e0e5",
    "execution": {
     "iopub.execute_input": "2021-06-09T11:37:36.250430Z",
     "iopub.status.busy": "2021-06-09T11:37:36.249119Z",
     "iopub.status.idle": "2021-06-09T11:37:36.266799Z",
     "shell.execute_reply": "2021-06-09T11:37:36.267619Z",
     "shell.execute_reply.started": "2021-06-09T11:37:11.766773Z"
    },
    "papermill": {
     "duration": 0.032535,
     "end_time": "2021-06-09T11:37:36.268038",
     "exception": false,
     "start_time": "2021-06-09T11:37:36.235503",
     "status": "completed"
    },
    "tags": []
   },
   "outputs": [
    {
     "name": "stdout",
     "output_type": "stream",
     "text": [
      "/kaggle/input/2021-ml-quiz2-5/train.csv\n",
      "/kaggle/input/2021-ml-quiz2-5/test.csv\n",
      "/kaggle/input/2021-ml-quiz2-5/sample_submit.csv\n"
     ]
    }
   ],
   "source": [
    "# This Python 3 environment comes with many helpful analytics libraries installed\n",
    "# It is defined by the kaggle/python Docker image: https://github.com/kaggle/docker-python\n",
    "# For example, here's several helpful packages to load\n",
    "\n",
    "import numpy as np # linear algebra\n",
    "import pandas as pd # data processing, CSV file I/O (e.g. pd.read_csv)\n",
    "\n",
    "# Input data files are available in the read-only \"../input/\" directory\n",
    "# For example, running this (by clicking run or pressing Shift+Enter) will list all files under the input directory\n",
    "\n",
    "import os\n",
    "for dirname, _, filenames in os.walk('/kaggle/input'):\n",
    "    for filename in filenames:\n",
    "        print(os.path.join(dirname, filename))\n",
    "\n",
    "# You can write up to 20GB to the current directory (/kaggle/working/) that gets preserved as output when you create a version using \"Save & Run All\" \n",
    "# You can also write temporary files to /kaggle/temp/, but they won't be saved outside of the current session"
   ]
  },
  {
   "cell_type": "code",
   "execution_count": 2,
   "id": "close-subdivision",
   "metadata": {
    "execution": {
     "iopub.execute_input": "2021-06-09T11:37:36.299803Z",
     "iopub.status.busy": "2021-06-09T11:37:36.298873Z",
     "iopub.status.idle": "2021-06-09T11:37:36.423779Z",
     "shell.execute_reply": "2021-06-09T11:37:36.422612Z",
     "shell.execute_reply.started": "2021-06-09T11:37:11.838079Z"
    },
    "papermill": {
     "duration": 0.141701,
     "end_time": "2021-06-09T11:37:36.423946",
     "exception": false,
     "start_time": "2021-06-09T11:37:36.282245",
     "status": "completed"
    },
    "tags": []
   },
   "outputs": [],
   "source": [
    "#데이터 불러오기\n",
    "train=pd.read_csv(\"/kaggle/input/2021-ml-quiz2-5/train.csv\")\n",
    "test=pd.read_csv(\"/kaggle/input/2021-ml-quiz2-5/test.csv\")\n",
    "submit=pd.read_csv(\"/kaggle/input/2021-ml-quiz2-5/sample_submit.csv\")"
   ]
  },
  {
   "cell_type": "code",
   "execution_count": 3,
   "id": "outer-applicant",
   "metadata": {
    "execution": {
     "iopub.execute_input": "2021-06-09T11:37:36.449776Z",
     "iopub.status.busy": "2021-06-09T11:37:36.448735Z",
     "iopub.status.idle": "2021-06-09T11:37:36.469395Z",
     "shell.execute_reply": "2021-06-09T11:37:36.469952Z",
     "shell.execute_reply.started": "2021-06-09T11:37:11.915439Z"
    },
    "papermill": {
     "duration": 0.035486,
     "end_time": "2021-06-09T11:37:36.470136",
     "exception": false,
     "start_time": "2021-06-09T11:37:36.434650",
     "status": "completed"
    },
    "tags": []
   },
   "outputs": [],
   "source": [
    "#데이터 나누기 (필요없는 것들 제거)\n",
    "x_train=train.drop([\"index\",\"enrollee_id\",\"target\"],axis=1)\n",
    "y_train=train[\"target\"]\n",
    "test=test.drop([\"index\",\"enrollee_id\"],axis=1)"
   ]
  },
  {
   "cell_type": "code",
   "execution_count": 4,
   "id": "knowing-trinidad",
   "metadata": {
    "execution": {
     "iopub.execute_input": "2021-06-09T11:37:36.490905Z",
     "iopub.status.busy": "2021-06-09T11:37:36.489927Z",
     "iopub.status.idle": "2021-06-09T11:37:37.518254Z",
     "shell.execute_reply": "2021-06-09T11:37:37.518847Z",
     "shell.execute_reply.started": "2021-06-09T11:37:11.928392Z"
    },
    "papermill": {
     "duration": 1.040303,
     "end_time": "2021-06-09T11:37:37.519041",
     "exception": false,
     "start_time": "2021-06-09T11:37:36.478738",
     "status": "completed"
    },
    "tags": []
   },
   "outputs": [],
   "source": [
    "#city에 train에 포함되어있지 않은 데이터가 있다 그걸 위한 합치기\n",
    "x=pd.concat([x_train,test],axis=0)\n",
    "from sklearn import preprocessing\n",
    "le = preprocessing.LabelEncoder()\n",
    "le.fit(x[\"city\"])\n",
    "x_train[\"city\"]=le.transform(x_train[\"city\"])\n",
    "test[\"city\"]=le.transform(test[\"city\"])"
   ]
  },
  {
   "cell_type": "code",
   "execution_count": 5,
   "id": "associate-setting",
   "metadata": {
    "execution": {
     "iopub.execute_input": "2021-06-09T11:37:37.539905Z",
     "iopub.status.busy": "2021-06-09T11:37:37.538906Z",
     "iopub.status.idle": "2021-06-09T11:37:37.614838Z",
     "shell.execute_reply": "2021-06-09T11:37:37.615399Z",
     "shell.execute_reply.started": "2021-06-09T11:37:11.958898Z"
    },
    "papermill": {
     "duration": 0.087708,
     "end_time": "2021-06-09T11:37:37.615582",
     "exception": false,
     "start_time": "2021-06-09T11:37:37.527874",
     "status": "completed"
    },
    "tags": []
   },
   "outputs": [],
   "source": [
    "#숫자로 만들어주는 작업 진행\n",
    "index=['gender', 'relevent_experience',\n",
    "       'enrolled_university', 'education_level', 'major_discipline',\n",
    "       'experience', 'company_size', 'company_type', 'last_new_job']\n",
    "for i in index:\n",
    "    le = preprocessing.LabelEncoder()\n",
    "    le.fit(x_train[i])\n",
    "    x_train[i]=le.transform(x_train[i])\n",
    "    test[i]=le.transform(test[i])"
   ]
  },
  {
   "cell_type": "code",
   "execution_count": 6,
   "id": "official-tobacco",
   "metadata": {
    "execution": {
     "iopub.execute_input": "2021-06-09T11:37:37.636921Z",
     "iopub.status.busy": "2021-06-09T11:37:37.635918Z",
     "iopub.status.idle": "2021-06-09T11:37:39.417481Z",
     "shell.execute_reply": "2021-06-09T11:37:39.418057Z",
     "shell.execute_reply.started": "2021-06-09T11:37:12.049146Z"
    },
    "papermill": {
     "duration": 1.793691,
     "end_time": "2021-06-09T11:37:39.418264",
     "exception": false,
     "start_time": "2021-06-09T11:37:37.624573",
     "status": "completed"
    },
    "tags": []
   },
   "outputs": [],
   "source": [
    "#강의에서 auto _ ML에 가장 높은 성능이 나타난다고 한 분류기 사용\n",
    "from sklearn.ensemble import GradientBoostingClassifier\n",
    "clf=GradientBoostingClassifier(random_state=0).fit(x_train,y_train)\n",
    "y_pred=clf.predict(test)"
   ]
  },
  {
   "cell_type": "code",
   "execution_count": 7,
   "id": "sweet-apparatus",
   "metadata": {
    "execution": {
     "iopub.execute_input": "2021-06-09T11:37:39.438662Z",
     "iopub.status.busy": "2021-06-09T11:37:39.437690Z",
     "iopub.status.idle": "2021-06-09T11:37:39.455465Z",
     "shell.execute_reply": "2021-06-09T11:37:39.455986Z",
     "shell.execute_reply.started": "2021-06-09T11:37:13.480000Z"
    },
    "papermill": {
     "duration": 0.029471,
     "end_time": "2021-06-09T11:37:39.456180",
     "exception": false,
     "start_time": "2021-06-09T11:37:39.426709",
     "status": "completed"
    },
    "tags": []
   },
   "outputs": [],
   "source": [
    "#출력 파일 생성\n",
    "submit[\"target\"]=y_pred\n",
    "submit.to_csv(\"submit_5번.csv\",index=False)"
   ]
  },
  {
   "cell_type": "code",
   "execution_count": 8,
   "id": "arctic-belief",
   "metadata": {
    "execution": {
     "iopub.execute_input": "2021-06-09T11:37:39.476616Z",
     "iopub.status.busy": "2021-06-09T11:37:39.475709Z",
     "iopub.status.idle": "2021-06-09T11:37:39.479025Z",
     "shell.execute_reply": "2021-06-09T11:37:39.479480Z",
     "shell.execute_reply.started": "2021-06-09T11:37:13.496685Z"
    },
    "papermill": {
     "duration": 0.015094,
     "end_time": "2021-06-09T11:37:39.479655",
     "exception": false,
     "start_time": "2021-06-09T11:37:39.464561",
     "status": "completed"
    },
    "tags": []
   },
   "outputs": [],
   "source": [
    "#GradientBoostingClassifier을 통해 분류 작업을 해주었다. 이는 앙상블 모델안에 들어있던 것 중 하나의 분류기였다.\n",
    "#city엔 train에 포함되어있지 않았던 것이 있어서 x라는 데이터에 트레인과 테스트를 합쳐서 그 city부분의 라벨인코더 부분에 사용했다."
   ]
  }
 ],
 "metadata": {
  "kernelspec": {
   "display_name": "Python 3",
   "language": "python",
   "name": "python3"
  },
  "language_info": {
   "codemirror_mode": {
    "name": "ipython",
    "version": 3
   },
   "file_extension": ".py",
   "mimetype": "text/x-python",
   "name": "python",
   "nbconvert_exporter": "python",
   "pygments_lexer": "ipython3",
   "version": "3.7.10"
  },
  "papermill": {
   "default_parameters": {},
   "duration": 13.924126,
   "end_time": "2021-06-09T11:37:41.284063",
   "environment_variables": {},
   "exception": null,
   "input_path": "__notebook__.ipynb",
   "output_path": "__notebook__.ipynb",
   "parameters": {},
   "start_time": "2021-06-09T11:37:27.359937",
   "version": "2.3.3"
  }
 },
 "nbformat": 4,
 "nbformat_minor": 5
}
