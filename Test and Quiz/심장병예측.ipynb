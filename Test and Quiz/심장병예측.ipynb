{
 "cells": [
  {
   "cell_type": "code",
   "execution_count": 1,
   "id": "furnished-liquid",
   "metadata": {
    "_cell_guid": "b1076dfc-b9ad-4769-8c92-a6c4dae69d19",
    "_uuid": "8f2839f25d086af736a60e9eeb907d3b93b6e0e5",
    "execution": {
     "iopub.execute_input": "2021-06-14T03:43:00.492686Z",
     "iopub.status.busy": "2021-06-14T03:43:00.492025Z",
     "iopub.status.idle": "2021-06-14T03:43:00.496421Z",
     "shell.execute_reply": "2021-06-14T03:43:00.496866Z",
     "shell.execute_reply.started": "2021-06-14T03:38:17.623245Z"
    },
    "papermill": {
     "duration": 0.023447,
     "end_time": "2021-06-14T03:43:00.497091",
     "exception": false,
     "start_time": "2021-06-14T03:43:00.473644",
     "status": "completed"
    },
    "tags": []
   },
   "outputs": [
    {
     "name": "stdout",
     "output_type": "stream",
     "text": [
      "/kaggle/input/2021-ml-midterm-p1/train.csv\n",
      "/kaggle/input/2021-ml-midterm-p1/test.csv\n",
      "/kaggle/input/2021-ml-midterm-p1/sample_submit.csv\n"
     ]
    }
   ],
   "source": [
    "# This Python 3 environment comes with many helpful analytics libraries installed\n",
    "# It is defined by the kaggle/python Docker image: https://github.com/kaggle/docker-python\n",
    "# For example, here's several helpful packages to load\n",
    "\n",
    "import numpy as np # linear algebra\n",
    "import pandas as pd # data processing, CSV file I/O (e.g. pd.read_csv)\n",
    "\n",
    "# Input data files are available in the read-only \"../input/\" directory\n",
    "# For example, running this (by clicking run or pressing Shift+Enter) will list all files under the input directory\n",
    "\n",
    "import os\n",
    "for dirname, _, filenames in os.walk('/kaggle/input'):\n",
    "    for filename in filenames:\n",
    "        print(os.path.join(dirname, filename))\n",
    "\n",
    "# You can write up to 20GB to the current directory (/kaggle/working/) that gets preserved as output when you create a version using \"Save & Run All\" \n",
    "# You can also write temporary files to /kaggle/temp/, but they won't be saved outside of the current session"
   ]
  },
  {
   "cell_type": "code",
   "execution_count": 2,
   "id": "brown-phase",
   "metadata": {
    "execution": {
     "iopub.execute_input": "2021-06-14T03:43:00.513098Z",
     "iopub.status.busy": "2021-06-14T03:43:00.512645Z",
     "iopub.status.idle": "2021-06-14T03:43:00.545791Z",
     "shell.execute_reply": "2021-06-14T03:43:00.546188Z",
     "shell.execute_reply.started": "2021-06-14T03:38:17.633646Z"
    },
    "papermill": {
     "duration": 0.042497,
     "end_time": "2021-06-14T03:43:00.546345",
     "exception": false,
     "start_time": "2021-06-14T03:43:00.503848",
     "status": "completed"
    },
    "tags": []
   },
   "outputs": [],
   "source": [
    "train=pd.read_csv(\"/kaggle/input/2021-ml-midterm-p1/train.csv\")\n",
    "test=pd.read_csv(\"/kaggle/input/2021-ml-midterm-p1/test.csv\")\n",
    "submit=pd.read_csv(\"/kaggle/input/2021-ml-midterm-p1/sample_submit.csv\")"
   ]
  },
  {
   "cell_type": "code",
   "execution_count": 3,
   "id": "entitled-artist",
   "metadata": {
    "execution": {
     "iopub.execute_input": "2021-06-14T03:43:00.575391Z",
     "iopub.status.busy": "2021-06-14T03:43:00.568650Z",
     "iopub.status.idle": "2021-06-14T03:43:00.579484Z",
     "shell.execute_reply": "2021-06-14T03:43:00.578984Z",
     "shell.execute_reply.started": "2021-06-14T03:38:17.691743Z"
    },
    "papermill": {
     "duration": 0.026798,
     "end_time": "2021-06-14T03:43:00.579600",
     "exception": false,
     "start_time": "2021-06-14T03:43:00.552802",
     "status": "completed"
    },
    "tags": []
   },
   "outputs": [],
   "source": [
    "x_train=train.drop([\"index\",\"target\"],axis=1)\n",
    "test=test.drop([\"index\"],axis=1)\n",
    "y_train=train[\"target\"]"
   ]
  },
  {
   "cell_type": "code",
   "execution_count": 4,
   "id": "royal-spouse",
   "metadata": {
    "execution": {
     "iopub.execute_input": "2021-06-14T03:43:00.595271Z",
     "iopub.status.busy": "2021-06-14T03:43:00.594751Z",
     "iopub.status.idle": "2021-06-14T03:43:00.598219Z",
     "shell.execute_reply": "2021-06-14T03:43:00.598611Z",
     "shell.execute_reply.started": "2021-06-14T03:38:17.706806Z"
    },
    "papermill": {
     "duration": 0.012712,
     "end_time": "2021-06-14T03:43:00.598760",
     "exception": false,
     "start_time": "2021-06-14T03:43:00.586048",
     "status": "completed"
    },
    "tags": []
   },
   "outputs": [],
   "source": [
    "y_train=y_train.to_numpy()\n",
    "test=test.to_numpy()\n",
    "x_train=x_train.to_numpy()\n",
    "y_train[y_train>0]=1"
   ]
  },
  {
   "cell_type": "code",
   "execution_count": 5,
   "id": "suspended-bangkok",
   "metadata": {
    "execution": {
     "iopub.execute_input": "2021-06-14T03:43:00.615018Z",
     "iopub.status.busy": "2021-06-14T03:43:00.613690Z",
     "iopub.status.idle": "2021-06-14T03:43:01.921233Z",
     "shell.execute_reply": "2021-06-14T03:43:01.921644Z",
     "shell.execute_reply.started": "2021-06-14T03:38:17.721862Z"
    },
    "papermill": {
     "duration": 1.316672,
     "end_time": "2021-06-14T03:43:01.921798",
     "exception": false,
     "start_time": "2021-06-14T03:43:00.605126",
     "status": "completed"
    },
    "tags": []
   },
   "outputs": [],
   "source": [
    "from sklearn.impute import SimpleImputer\n",
    "imp_mean = SimpleImputer(missing_values='?', strategy='constant',fill_value=-1)\n",
    "x_train=imp_mean.fit_transform(x_train)\n",
    "test=imp_mean.transform(test)"
   ]
  },
  {
   "cell_type": "code",
   "execution_count": 6,
   "id": "better-velvet",
   "metadata": {
    "execution": {
     "iopub.execute_input": "2021-06-14T03:43:01.938301Z",
     "iopub.status.busy": "2021-06-14T03:43:01.937645Z",
     "iopub.status.idle": "2021-06-14T03:43:02.428146Z",
     "shell.execute_reply": "2021-06-14T03:43:02.427650Z",
     "shell.execute_reply.started": "2021-06-14T03:38:17.736203Z"
    },
    "papermill": {
     "duration": 0.499511,
     "end_time": "2021-06-14T03:43:02.428255",
     "exception": false,
     "start_time": "2021-06-14T03:43:01.928744",
     "status": "completed"
    },
    "tags": []
   },
   "outputs": [
    {
     "name": "stdout",
     "output_type": "stream",
     "text": [
      "1.0\n"
     ]
    }
   ],
   "source": [
    "from sklearn.ensemble import RandomForestClassifier\n",
    "clf = RandomForestClassifier(n_estimators=200,random_state=1)\n",
    "clf.fit(x_train, y_train)\n",
    "print(clf.score(x_train,y_train))"
   ]
  },
  {
   "cell_type": "code",
   "execution_count": 7,
   "id": "shaped-factor",
   "metadata": {
    "execution": {
     "iopub.execute_input": "2021-06-14T03:43:02.455979Z",
     "iopub.status.busy": "2021-06-14T03:43:02.452225Z",
     "iopub.status.idle": "2021-06-14T03:43:02.475714Z",
     "shell.execute_reply": "2021-06-14T03:43:02.475157Z",
     "shell.execute_reply.started": "2021-06-14T03:38:18.073901Z"
    },
    "papermill": {
     "duration": 0.041069,
     "end_time": "2021-06-14T03:43:02.475825",
     "exception": false,
     "start_time": "2021-06-14T03:43:02.434756",
     "status": "completed"
    },
    "tags": []
   },
   "outputs": [],
   "source": [
    "submit[\"target\"]=clf.predict(test)\n",
    "submit.to_csv(\"submit.csv\",index=False)"
   ]
  },
  {
   "cell_type": "code",
   "execution_count": null,
   "id": "caring-memory",
   "metadata": {
    "papermill": {
     "duration": 0.006573,
     "end_time": "2021-06-14T03:43:02.489325",
     "exception": false,
     "start_time": "2021-06-14T03:43:02.482752",
     "status": "completed"
    },
    "tags": []
   },
   "outputs": [],
   "source": []
  }
 ],
 "metadata": {
  "kernelspec": {
   "display_name": "Python 3",
   "language": "python",
   "name": "python3"
  },
  "language_info": {
   "codemirror_mode": {
    "name": "ipython",
    "version": 3
   },
   "file_extension": ".py",
   "mimetype": "text/x-python",
   "name": "python",
   "nbconvert_exporter": "python",
   "pygments_lexer": "ipython3",
   "version": "3.7.10"
  },
  "papermill": {
   "default_parameters": {},
   "duration": 11.77553,
   "end_time": "2021-06-14T03:43:03.407637",
   "environment_variables": {},
   "exception": null,
   "input_path": "__notebook__.ipynb",
   "output_path": "__notebook__.ipynb",
   "parameters": {},
   "start_time": "2021-06-14T03:42:51.632107",
   "version": "2.3.3"
  }
 },
 "nbformat": 4,
 "nbformat_minor": 5
}
