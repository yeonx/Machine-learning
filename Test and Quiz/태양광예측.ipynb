{
 "cells": [
  {
   "cell_type": "code",
   "execution_count": 1,
   "id": "early-memorial",
   "metadata": {
    "_cell_guid": "b1076dfc-b9ad-4769-8c92-a6c4dae69d19",
    "_uuid": "8f2839f25d086af736a60e9eeb907d3b93b6e0e5",
    "execution": {
     "iopub.execute_input": "2021-06-09T11:23:07.909245Z",
     "iopub.status.busy": "2021-06-09T11:23:07.907933Z",
     "iopub.status.idle": "2021-06-09T11:23:07.923014Z",
     "shell.execute_reply": "2021-06-09T11:23:07.922022Z",
     "shell.execute_reply.started": "2021-06-09T11:22:04.664699Z"
    },
    "papermill": {
     "duration": 0.027013,
     "end_time": "2021-06-09T11:23:07.923270",
     "exception": false,
     "start_time": "2021-06-09T11:23:07.896257",
     "status": "completed"
    },
    "tags": []
   },
   "outputs": [
    {
     "name": "stdout",
     "output_type": "stream",
     "text": [
      "/kaggle/input/2021-ml-quiz2-1/train.csv\n",
      "/kaggle/input/2021-ml-quiz2-1/test.csv\n",
      "/kaggle/input/2021-ml-quiz2-1/sample_submit.csv\n"
     ]
    }
   ],
   "source": [
    "# This Python 3 environment comes with many helpful analytics libraries installed\n",
    "# It is defined by the kaggle/python Docker image: https://github.com/kaggle/docker-python\n",
    "# For example, here's several helpful packages to load\n",
    "\n",
    "import numpy as np # linear algebra\n",
    "import pandas as pd # data processing, CSV file I/O (e.g. pd.read_csv)\n",
    "\n",
    "# Input data files are available in the read-only \"../input/\" directory\n",
    "# For example, running this (by clicking run or pressing Shift+Enter) will list all files under the input directory\n",
    "\n",
    "import os\n",
    "for dirname, _, filenames in os.walk('/kaggle/input'):\n",
    "    for filename in filenames:\n",
    "        print(os.path.join(dirname, filename))\n",
    "\n",
    "# You can write up to 20GB to the current directory (/kaggle/working/) that gets preserved as output when you create a version using \"Save & Run All\" \n",
    "# You can also write temporary files to /kaggle/temp/, but they won't be saved outside of the current session"
   ]
  },
  {
   "cell_type": "code",
   "execution_count": 2,
   "id": "healthy-project",
   "metadata": {
    "execution": {
     "iopub.execute_input": "2021-06-09T11:23:07.946526Z",
     "iopub.status.busy": "2021-06-09T11:23:07.945345Z",
     "iopub.status.idle": "2021-06-09T11:23:07.993165Z",
     "shell.execute_reply": "2021-06-09T11:23:07.991941Z",
     "shell.execute_reply.started": "2021-06-09T11:22:04.678122Z"
    },
    "papermill": {
     "duration": 0.061376,
     "end_time": "2021-06-09T11:23:07.993358",
     "exception": false,
     "start_time": "2021-06-09T11:23:07.931982",
     "status": "completed"
    },
    "tags": []
   },
   "outputs": [],
   "source": [
    "#데이터 불러오기\n",
    "train=pd.read_csv(\"/kaggle/input/2021-ml-quiz2-1/train.csv\")\n",
    "test=pd.read_csv(\"/kaggle/input/2021-ml-quiz2-1/test.csv\")\n",
    "submit=pd.read_csv(\"/kaggle/input/2021-ml-quiz2-1/sample_submit.csv\")"
   ]
  },
  {
   "cell_type": "code",
   "execution_count": 3,
   "id": "recent-magic",
   "metadata": {
    "execution": {
     "iopub.execute_input": "2021-06-09T11:23:08.026951Z",
     "iopub.status.busy": "2021-06-09T11:23:08.025804Z",
     "iopub.status.idle": "2021-06-09T11:23:08.029548Z",
     "shell.execute_reply": "2021-06-09T11:23:08.028388Z",
     "shell.execute_reply.started": "2021-06-09T11:22:04.713794Z"
    },
    "papermill": {
     "duration": 0.028435,
     "end_time": "2021-06-09T11:23:08.029763",
     "exception": false,
     "start_time": "2021-06-09T11:23:08.001328",
     "status": "completed"
    },
    "tags": []
   },
   "outputs": [],
   "source": [
    "#필요없는 거 drop, 데이터 나누기\n",
    "x_train=train.drop([\"Unnamed: 0\",\"TARGET\"],axis=1)\n",
    "y_train=train[\"TARGET\"]\n",
    "test=test.drop(\"Unnamed: 0\",axis=1)"
   ]
  },
  {
   "cell_type": "code",
   "execution_count": 4,
   "id": "negative-morris",
   "metadata": {
    "execution": {
     "iopub.execute_input": "2021-06-09T11:23:08.051349Z",
     "iopub.status.busy": "2021-06-09T11:23:08.050488Z",
     "iopub.status.idle": "2021-06-09T11:23:13.839767Z",
     "shell.execute_reply": "2021-06-09T11:23:13.840289Z",
     "shell.execute_reply.started": "2021-06-09T11:22:04.722408Z"
    },
    "papermill": {
     "duration": 5.803243,
     "end_time": "2021-06-09T11:23:13.840485",
     "exception": false,
     "start_time": "2021-06-09T11:23:08.037242",
     "status": "completed"
    },
    "tags": []
   },
   "outputs": [
    {
     "name": "stdout",
     "output_type": "stream",
     "text": [
      "0.9997114513323978\n"
     ]
    }
   ],
   "source": [
    "#RandomForestRegressor사용\n",
    "from sklearn.ensemble import RandomForestRegressor\n",
    "regr = RandomForestRegressor(random_state=0,n_estimators=200)\n",
    "regr.fit(x_train, y_train)\n",
    "y_pred=regr.predict(test)\n",
    "print(regr.score(x_train,y_train))"
   ]
  },
  {
   "cell_type": "code",
   "execution_count": 5,
   "id": "varying-contrary",
   "metadata": {
    "execution": {
     "iopub.execute_input": "2021-06-09T11:23:13.862551Z",
     "iopub.status.busy": "2021-06-09T11:23:13.861834Z",
     "iopub.status.idle": "2021-06-09T11:23:13.871319Z",
     "shell.execute_reply": "2021-06-09T11:23:13.871853Z",
     "shell.execute_reply.started": "2021-06-09T11:22:09.115883Z"
    },
    "papermill": {
     "duration": 0.023841,
     "end_time": "2021-06-09T11:23:13.872060",
     "exception": false,
     "start_time": "2021-06-09T11:23:13.848219",
     "status": "completed"
    },
    "tags": []
   },
   "outputs": [],
   "source": [
    "#출력파일 만들기\n",
    "submit[\"TARGET\"]=y_pred\n",
    "submit.to_csv(\"submit.csv\",index=False)"
   ]
  },
  {
   "cell_type": "code",
   "execution_count": 6,
   "id": "portuguese-labor",
   "metadata": {
    "execution": {
     "iopub.execute_input": "2021-06-09T11:23:13.891583Z",
     "iopub.status.busy": "2021-06-09T11:23:13.890899Z",
     "iopub.status.idle": "2021-06-09T11:23:13.894379Z",
     "shell.execute_reply": "2021-06-09T11:23:13.894926Z",
     "shell.execute_reply.started": "2021-06-09T11:22:09.128053Z"
    },
    "papermill": {
     "duration": 0.0147,
     "end_time": "2021-06-09T11:23:13.895114",
     "exception": false,
     "start_time": "2021-06-09T11:23:13.880414",
     "status": "completed"
    },
    "tags": []
   },
   "outputs": [],
   "source": [
    "#회귀문제로 RandomForestRegressor 사용해주었고 그 이유는 SVR과 비교해보았을 때 더 높은 성능을 보였기 때문이다\n",
    "#표준화해주는 작업을 하지 않은 경우의 성능이 더 높아서 하지 않았다."
   ]
  },
  {
   "cell_type": "code",
   "execution_count": null,
   "id": "coral-oxygen",
   "metadata": {
    "papermill": {
     "duration": 0.007331,
     "end_time": "2021-06-09T11:23:13.910239",
     "exception": false,
     "start_time": "2021-06-09T11:23:13.902908",
     "status": "completed"
    },
    "tags": []
   },
   "outputs": [],
   "source": []
  }
 ],
 "metadata": {
  "kernelspec": {
   "display_name": "Python 3",
   "language": "python",
   "name": "python3"
  },
  "language_info": {
   "codemirror_mode": {
    "name": "ipython",
    "version": 3
   },
   "file_extension": ".py",
   "mimetype": "text/x-python",
   "name": "python",
   "nbconvert_exporter": "python",
   "pygments_lexer": "ipython3",
   "version": "3.7.10"
  },
  "papermill": {
   "default_parameters": {},
   "duration": 15.866701,
   "end_time": "2021-06-09T11:23:15.191950",
   "environment_variables": {},
   "exception": null,
   "input_path": "__notebook__.ipynb",
   "output_path": "__notebook__.ipynb",
   "parameters": {},
   "start_time": "2021-06-09T11:22:59.325249",
   "version": "2.3.3"
  }
 },
 "nbformat": 4,
 "nbformat_minor": 5
}
