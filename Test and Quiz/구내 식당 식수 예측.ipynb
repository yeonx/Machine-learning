{
 "cells": [
  {
   "cell_type": "code",
   "execution_count": 1,
   "id": "dependent-power",
   "metadata": {
    "execution": {
     "iopub.execute_input": "2021-06-14T12:50:16.463314Z",
     "iopub.status.busy": "2021-06-14T12:50:16.462556Z",
     "iopub.status.idle": "2021-06-14T12:50:16.476174Z",
     "shell.execute_reply": "2021-06-14T12:50:16.475193Z",
     "shell.execute_reply.started": "2021-06-14T12:45:30.296590Z"
    },
    "papermill": {
     "duration": 0.037372,
     "end_time": "2021-06-14T12:50:16.476411",
     "exception": false,
     "start_time": "2021-06-14T12:50:16.439039",
     "status": "completed"
    },
    "tags": []
   },
   "outputs": [
    {
     "name": "stdout",
     "output_type": "stream",
     "text": [
      "/kaggle/input/2021mlfinalexamp3/train.csv\n",
      "/kaggle/input/2021mlfinalexamp3/test.csv\n",
      "/kaggle/input/2021mlfinalexamp3/sample_submit.csv\n"
     ]
    }
   ],
   "source": [
    "# This Python 3 environment comes with many helpful analytics libraries installed\n",
    "# It is defined by the kaggle/python Docker image: https://github.com/kaggle/docker-python\n",
    "# For example, here's several helpful packages to load\n",
    "\n",
    "import numpy as np # linear algebra\n",
    "import pandas as pd # data processing, CSV file I/O (e.g. pd.read_csv)\n",
    "\n",
    "# Input data files are available in the read-only \"../input/\" directory\n",
    "# For example, running this (by clicking run or pressing Shift+Enter) will list all files under the input directory\n",
    "\n",
    "import os\n",
    "for dirname, _, filenames in os.walk('/kaggle/input'):\n",
    "    for filename in filenames:\n",
    "        print(os.path.join(dirname, filename))\n",
    "\n",
    "# You can write up to 20GB to the current directory (/kaggle/working/) that gets preserved as output when you create a version using \"Save & Run All\" \n",
    "# You can also write temporary files to /kaggle/temp/, but they won't be saved outside of the current session"
   ]
  },
  {
   "cell_type": "code",
   "execution_count": 2,
   "id": "standard-laptop",
   "metadata": {
    "execution": {
     "iopub.execute_input": "2021-06-14T12:50:16.504451Z",
     "iopub.status.busy": "2021-06-14T12:50:16.503657Z",
     "iopub.status.idle": "2021-06-14T12:50:16.590899Z",
     "shell.execute_reply": "2021-06-14T12:50:16.590080Z",
     "shell.execute_reply.started": "2021-06-14T12:45:30.309069Z"
    },
    "papermill": {
     "duration": 0.103307,
     "end_time": "2021-06-14T12:50:16.591063",
     "exception": false,
     "start_time": "2021-06-14T12:50:16.487756",
     "status": "completed"
    },
    "tags": []
   },
   "outputs": [],
   "source": [
    "#데이터 불러오기\n",
    "train=pd.read_csv(\"/kaggle/input/2021mlfinalexamp3/train.csv\")\n",
    "test=pd.read_csv(\"/kaggle/input/2021mlfinalexamp3/test.csv\")\n",
    "submit=pd.read_csv(\"/kaggle/input/2021mlfinalexamp3/sample_submit.csv\")"
   ]
  },
  {
   "cell_type": "code",
   "execution_count": 3,
   "id": "silver-introduction",
   "metadata": {
    "execution": {
     "iopub.execute_input": "2021-06-14T12:50:16.633544Z",
     "iopub.status.busy": "2021-06-14T12:50:16.628778Z",
     "iopub.status.idle": "2021-06-14T12:50:16.637684Z",
     "shell.execute_reply": "2021-06-14T12:50:16.637004Z",
     "shell.execute_reply.started": "2021-06-14T12:45:30.347552Z"
    },
    "papermill": {
     "duration": 0.035911,
     "end_time": "2021-06-14T12:50:16.637848",
     "exception": false,
     "start_time": "2021-06-14T12:50:16.601937",
     "status": "completed"
    },
    "tags": []
   },
   "outputs": [],
   "source": [
    "#데이터 나누어주기\n",
    "x_train=train.drop([\"Unnamed: 0\",\"중식계\",\"일자\",\"조식메뉴\",\"중식메뉴\",\"석식메뉴\"],axis=1)\n",
    "y_train=train[\"중식계\"]\n",
    "test=test.drop([\"Unnamed: 0\",\"일자\",\"조식메뉴\",\"중식메뉴\",\"석식메뉴\"],axis=1)"
   ]
  },
  {
   "cell_type": "code",
   "execution_count": 4,
   "id": "level-discipline",
   "metadata": {
    "execution": {
     "iopub.execute_input": "2021-06-14T12:50:16.664078Z",
     "iopub.status.busy": "2021-06-14T12:50:16.663349Z",
     "iopub.status.idle": "2021-06-14T12:50:16.667166Z",
     "shell.execute_reply": "2021-06-14T12:50:16.666588Z",
     "shell.execute_reply.started": "2021-06-14T12:45:30.357195Z"
    },
    "papermill": {
     "duration": 0.019067,
     "end_time": "2021-06-14T12:50:16.667330",
     "exception": false,
     "start_time": "2021-06-14T12:50:16.648263",
     "status": "completed"
    },
    "tags": []
   },
   "outputs": [],
   "source": [
    "#index=[\"조식메뉴\",\"중식메뉴\",\"석식메뉴\"]"
   ]
  },
  {
   "cell_type": "code",
   "execution_count": 5,
   "id": "focal-going",
   "metadata": {
    "execution": {
     "iopub.execute_input": "2021-06-14T12:50:16.693033Z",
     "iopub.status.busy": "2021-06-14T12:50:16.692292Z",
     "iopub.status.idle": "2021-06-14T12:50:16.695593Z",
     "shell.execute_reply": "2021-06-14T12:50:16.696062Z",
     "shell.execute_reply.started": "2021-06-14T12:45:30.371124Z"
    },
    "papermill": {
     "duration": 0.018322,
     "end_time": "2021-06-14T12:50:16.696279",
     "exception": false,
     "start_time": "2021-06-14T12:50:16.677957",
     "status": "completed"
    },
    "tags": []
   },
   "outputs": [],
   "source": [
    "#from sklearn.feature_extraction.text import CountVectorizer\n",
    "#for i in index:\n",
    "#   vectorizer = CountVectorizer(decode_error='ignore',lowercase=False)\n",
    "#   T = vectorizer.fit_transform(x_train[i])\n",
    "#   x_train.append(T)\n",
    "#   S = vectorizer.transform(test[i])\n",
    "#   test=test.append(S)"
   ]
  },
  {
   "cell_type": "code",
   "execution_count": 6,
   "id": "closing-chemistry",
   "metadata": {
    "execution": {
     "iopub.execute_input": "2021-06-14T12:50:16.722644Z",
     "iopub.status.busy": "2021-06-14T12:50:16.721911Z",
     "iopub.status.idle": "2021-06-14T12:50:17.841404Z",
     "shell.execute_reply": "2021-06-14T12:50:17.840627Z",
     "shell.execute_reply.started": "2021-06-14T12:45:30.379600Z"
    },
    "papermill": {
     "duration": 1.135138,
     "end_time": "2021-06-14T12:50:17.841584",
     "exception": false,
     "start_time": "2021-06-14T12:50:16.706446",
     "status": "completed"
    },
    "tags": []
   },
   "outputs": [],
   "source": [
    "#요일 전처리해주기\n",
    "from sklearn import preprocessing\n",
    "le = preprocessing.LabelEncoder()\n",
    "le.fit(x_train[\"요일\"])\n",
    "x_train[\"요일\"]=le.transform(x_train[\"요일\"])\n",
    "test[\"요일\"]=le.transform(test[\"요일\"])"
   ]
  },
  {
   "cell_type": "code",
   "execution_count": 7,
   "id": "million-family",
   "metadata": {
    "execution": {
     "iopub.execute_input": "2021-06-14T12:50:17.875078Z",
     "iopub.status.busy": "2021-06-14T12:50:17.874340Z",
     "iopub.status.idle": "2021-06-14T12:50:17.898149Z",
     "shell.execute_reply": "2021-06-14T12:50:17.897551Z",
     "shell.execute_reply.started": "2021-06-14T12:45:30.392491Z"
    },
    "papermill": {
     "duration": 0.045489,
     "end_time": "2021-06-14T12:50:17.898320",
     "exception": false,
     "start_time": "2021-06-14T12:50:17.852831",
     "status": "completed"
    },
    "tags": []
   },
   "outputs": [
    {
     "data": {
      "text/html": [
       "<div>\n",
       "<style scoped>\n",
       "    .dataframe tbody tr th:only-of-type {\n",
       "        vertical-align: middle;\n",
       "    }\n",
       "\n",
       "    .dataframe tbody tr th {\n",
       "        vertical-align: top;\n",
       "    }\n",
       "\n",
       "    .dataframe thead th {\n",
       "        text-align: right;\n",
       "    }\n",
       "</style>\n",
       "<table border=\"1\" class=\"dataframe\">\n",
       "  <thead>\n",
       "    <tr style=\"text-align: right;\">\n",
       "      <th></th>\n",
       "      <th>요일</th>\n",
       "      <th>본사정원수</th>\n",
       "      <th>본사휴가자수</th>\n",
       "      <th>본사출장자수</th>\n",
       "      <th>본사시간외근무명령서승인건수</th>\n",
       "      <th>현본사소속재택근무자수</th>\n",
       "    </tr>\n",
       "  </thead>\n",
       "  <tbody>\n",
       "    <tr>\n",
       "      <th>0</th>\n",
       "      <td>3</td>\n",
       "      <td>2601</td>\n",
       "      <td>50</td>\n",
       "      <td>150</td>\n",
       "      <td>238</td>\n",
       "      <td>0.0</td>\n",
       "    </tr>\n",
       "    <tr>\n",
       "      <th>1</th>\n",
       "      <td>4</td>\n",
       "      <td>2601</td>\n",
       "      <td>50</td>\n",
       "      <td>173</td>\n",
       "      <td>319</td>\n",
       "      <td>0.0</td>\n",
       "    </tr>\n",
       "    <tr>\n",
       "      <th>2</th>\n",
       "      <td>2</td>\n",
       "      <td>2601</td>\n",
       "      <td>56</td>\n",
       "      <td>180</td>\n",
       "      <td>111</td>\n",
       "      <td>0.0</td>\n",
       "    </tr>\n",
       "    <tr>\n",
       "      <th>3</th>\n",
       "      <td>1</td>\n",
       "      <td>2601</td>\n",
       "      <td>104</td>\n",
       "      <td>220</td>\n",
       "      <td>355</td>\n",
       "      <td>0.0</td>\n",
       "    </tr>\n",
       "    <tr>\n",
       "      <th>4</th>\n",
       "      <td>0</td>\n",
       "      <td>2601</td>\n",
       "      <td>278</td>\n",
       "      <td>181</td>\n",
       "      <td>34</td>\n",
       "      <td>0.0</td>\n",
       "    </tr>\n",
       "    <tr>\n",
       "      <th>...</th>\n",
       "      <td>...</td>\n",
       "      <td>...</td>\n",
       "      <td>...</td>\n",
       "      <td>...</td>\n",
       "      <td>...</td>\n",
       "      <td>...</td>\n",
       "    </tr>\n",
       "    <tr>\n",
       "      <th>838</th>\n",
       "      <td>2</td>\n",
       "      <td>2760</td>\n",
       "      <td>123</td>\n",
       "      <td>286</td>\n",
       "      <td>0</td>\n",
       "      <td>0.0</td>\n",
       "    </tr>\n",
       "    <tr>\n",
       "      <th>839</th>\n",
       "      <td>1</td>\n",
       "      <td>2760</td>\n",
       "      <td>102</td>\n",
       "      <td>301</td>\n",
       "      <td>371</td>\n",
       "      <td>0.0</td>\n",
       "    </tr>\n",
       "    <tr>\n",
       "      <th>840</th>\n",
       "      <td>0</td>\n",
       "      <td>2760</td>\n",
       "      <td>244</td>\n",
       "      <td>306</td>\n",
       "      <td>0</td>\n",
       "      <td>0.0</td>\n",
       "    </tr>\n",
       "    <tr>\n",
       "      <th>841</th>\n",
       "      <td>3</td>\n",
       "      <td>2760</td>\n",
       "      <td>144</td>\n",
       "      <td>232</td>\n",
       "      <td>396</td>\n",
       "      <td>0.0</td>\n",
       "    </tr>\n",
       "    <tr>\n",
       "      <th>842</th>\n",
       "      <td>4</td>\n",
       "      <td>2760</td>\n",
       "      <td>100</td>\n",
       "      <td>227</td>\n",
       "      <td>426</td>\n",
       "      <td>0.0</td>\n",
       "    </tr>\n",
       "  </tbody>\n",
       "</table>\n",
       "<p>843 rows × 6 columns</p>\n",
       "</div>"
      ],
      "text/plain": [
       "     요일  본사정원수  본사휴가자수  본사출장자수  본사시간외근무명령서승인건수  현본사소속재택근무자수\n",
       "0     3   2601      50     150             238          0.0\n",
       "1     4   2601      50     173             319          0.0\n",
       "2     2   2601      56     180             111          0.0\n",
       "3     1   2601     104     220             355          0.0\n",
       "4     0   2601     278     181              34          0.0\n",
       "..   ..    ...     ...     ...             ...          ...\n",
       "838   2   2760     123     286               0          0.0\n",
       "839   1   2760     102     301             371          0.0\n",
       "840   0   2760     244     306               0          0.0\n",
       "841   3   2760     144     232             396          0.0\n",
       "842   4   2760     100     227             426          0.0\n",
       "\n",
       "[843 rows x 6 columns]"
      ]
     },
     "execution_count": 7,
     "metadata": {},
     "output_type": "execute_result"
    }
   ],
   "source": [
    "#전처리 잘 됐나 확인\n",
    "x_train"
   ]
  },
  {
   "cell_type": "code",
   "execution_count": 8,
   "id": "peaceful-comedy",
   "metadata": {
    "execution": {
     "iopub.execute_input": "2021-06-14T12:50:17.925917Z",
     "iopub.status.busy": "2021-06-14T12:50:17.925176Z",
     "iopub.status.idle": "2021-06-14T12:50:18.688314Z",
     "shell.execute_reply": "2021-06-14T12:50:18.687442Z",
     "shell.execute_reply.started": "2021-06-14T12:45:30.411228Z"
    },
    "papermill": {
     "duration": 0.779476,
     "end_time": "2021-06-14T12:50:18.688531",
     "exception": false,
     "start_time": "2021-06-14T12:50:17.909055",
     "status": "completed"
    },
    "tags": []
   },
   "outputs": [
    {
     "name": "stdout",
     "output_type": "stream",
     "text": [
      "0.967350599213642\n"
     ]
    }
   ],
   "source": [
    "#회귀문제로 늘쓰던 랜덤 포레스트를 사용\n",
    "from sklearn.ensemble import RandomForestRegressor\n",
    "regr =RandomForestRegressor(random_state=777,n_estimators=100)\n",
    "regr.fit(x_train, y_train)\n",
    "y_pred=regr.predict(test)\n",
    "print(regr.score(x_train,y_train))"
   ]
  },
  {
   "cell_type": "code",
   "execution_count": 9,
   "id": "computational-freeware",
   "metadata": {
    "execution": {
     "iopub.execute_input": "2021-06-14T12:50:18.717513Z",
     "iopub.status.busy": "2021-06-14T12:50:18.716785Z",
     "iopub.status.idle": "2021-06-14T12:50:18.725518Z",
     "shell.execute_reply": "2021-06-14T12:50:18.724801Z",
     "shell.execute_reply.started": "2021-06-14T12:45:30.740582Z"
    },
    "papermill": {
     "duration": 0.025489,
     "end_time": "2021-06-14T12:50:18.725672",
     "exception": false,
     "start_time": "2021-06-14T12:50:18.700183",
     "status": "completed"
    },
    "tags": []
   },
   "outputs": [],
   "source": [
    "#출력파일 생성\n",
    "submit[\"중식계\"]=y_pred\n",
    "submit.to_csv(\"submit_3번.csv\",index=False)"
   ]
  },
  {
   "cell_type": "code",
   "execution_count": 10,
   "id": "collaborative-canon",
   "metadata": {
    "execution": {
     "iopub.execute_input": "2021-06-14T12:50:18.752691Z",
     "iopub.status.busy": "2021-06-14T12:50:18.751911Z",
     "iopub.status.idle": "2021-06-14T12:50:18.756046Z",
     "shell.execute_reply": "2021-06-14T12:50:18.755437Z",
     "shell.execute_reply.started": "2021-06-14T12:45:30.747622Z"
    },
    "papermill": {
     "duration": 0.019531,
     "end_time": "2021-06-14T12:50:18.756201",
     "exception": false,
     "start_time": "2021-06-14T12:50:18.736670",
     "status": "completed"
    },
    "tags": []
   },
   "outputs": [],
   "source": [
    "#중식계를 예측하는 문제로 랜덤포레스트를 사용했다. 시간이 없어서 랜덤포레스트만 사용해보았다.\n",
    "#그 이유는 표준화를 해주지 않아도 돼서 부담이 덜하기 때문이다. 그리고 랜덤스테이트 777에서 높은 성능을 보여서 그렇게 설정했다."
   ]
  }
 ],
 "metadata": {
  "kernelspec": {
   "display_name": "Python 3",
   "language": "python",
   "name": "python3"
  },
  "language_info": {
   "codemirror_mode": {
    "name": "ipython",
    "version": 3
   },
   "file_extension": ".py",
   "mimetype": "text/x-python",
   "name": "python",
   "nbconvert_exporter": "python",
   "pygments_lexer": "ipython3",
   "version": "3.7.10"
  },
  "papermill": {
   "default_parameters": {},
   "duration": 15.001979,
   "end_time": "2021-06-14T12:50:20.306784",
   "environment_variables": {},
   "exception": null,
   "input_path": "__notebook__.ipynb",
   "output_path": "__notebook__.ipynb",
   "parameters": {},
   "start_time": "2021-06-14T12:50:05.304805",
   "version": "2.3.3"
  }
 },
 "nbformat": 4,
 "nbformat_minor": 5
}
