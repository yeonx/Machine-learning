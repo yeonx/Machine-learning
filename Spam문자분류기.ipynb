{
 "cells": [
  {
   "cell_type": "markdown",
   "id": "domestic-patent",
   "metadata": {
    "papermill": {
     "duration": 0.014207,
     "end_time": "2021-06-06T13:47:30.233139",
     "exception": false,
     "start_time": "2021-06-06T13:47:30.218932",
     "status": "completed"
    },
    "tags": []
   },
   "source": [
    "# 반드시 처음부터 끝까지 스켈레톤 코드를 살펴보고 구현하기 시작하길 바란다\n",
    "\n",
    "## 1. 스켈레톤 코드를 [복사 및 편집] 하여 사용한다.\n",
    "## 2. 아래의 [Empty Module 3개]를 직접 구현한다.\n"
   ]
  },
  {
   "cell_type": "code",
   "execution_count": 1,
   "id": "spectacular-training",
   "metadata": {
    "execution": {
     "iopub.execute_input": "2021-06-06T13:47:30.269855Z",
     "iopub.status.busy": "2021-06-06T13:47:30.267472Z",
     "iopub.status.idle": "2021-06-06T13:47:30.277637Z",
     "shell.execute_reply": "2021-06-06T13:47:30.278214Z",
     "shell.execute_reply.started": "2021-06-06T13:23:13.562696Z"
    },
    "papermill": {
     "duration": 0.032123,
     "end_time": "2021-06-06T13:47:30.278513",
     "exception": false,
     "start_time": "2021-06-06T13:47:30.246390",
     "status": "completed"
    },
    "tags": []
   },
   "outputs": [
    {
     "name": "stdout",
     "output_type": "stream",
     "text": [
      "/kaggle/input/2021-ml-tp2-spam/train.csv\n",
      "/kaggle/input/2021-ml-tp2-spam/test.csv\n",
      "/kaggle/input/2021-ml-tp2-spam/sample_submit.csv\n"
     ]
    }
   ],
   "source": [
    "# This Python 3 environment comes with many helpful analytics libraries installed\n",
    "# It is defined by the kaggle/python Docker image: https://github.com/kaggle/docker-python\n",
    "# For example, here's several helpful packages to load\n",
    "\n",
    "import numpy as np # linear algebra\n",
    "import pandas as pd # data processing, CSV file I/O (e.g. pd.read_csv)\n",
    "\n",
    "# Input data files are available in the read-only \"../input/\" directory\n",
    "# For example, running this (by clicking run or pressing Shift+Enter) will list all files under the input directory\n",
    "\n",
    "import os\n",
    "for dirname, _, filenames in os.walk('/kaggle/input'):\n",
    "    for filename in filenames:\n",
    "        print(os.path.join(dirname, filename))\n",
    "\n",
    "# You can write up to 20GB to the current directory (/kaggle/working/) that gets preserved as output when you create a version using \"Save & Run All\" \n",
    "# You can also write temporary files to /kaggle/temp/, but they won't be saved outside of the current session"
   ]
  },
  {
   "cell_type": "code",
   "execution_count": 2,
   "id": "ranging-vacuum",
   "metadata": {
    "execution": {
     "iopub.execute_input": "2021-06-06T13:47:30.311468Z",
     "iopub.status.busy": "2021-06-06T13:47:30.310727Z",
     "iopub.status.idle": "2021-06-06T13:47:31.837322Z",
     "shell.execute_reply": "2021-06-06T13:47:31.837870Z",
     "shell.execute_reply.started": "2021-06-06T13:23:13.577217Z"
    },
    "papermill": {
     "duration": 1.545469,
     "end_time": "2021-06-06T13:47:31.838075",
     "exception": false,
     "start_time": "2021-06-06T13:47:30.292606",
     "status": "completed"
    },
    "tags": []
   },
   "outputs": [],
   "source": [
    "import numpy as np # linear algebra\n",
    "import pandas as pd # data processing, CSV file I/O (e.g. pd.read_csv)\n",
    "import re\n",
    "import nltk\n",
    "from nltk.tokenize import word_tokenize\n",
    "from nltk.corpus import stopwords"
   ]
  },
  {
   "cell_type": "markdown",
   "id": "posted-indication",
   "metadata": {
    "papermill": {
     "duration": 0.013127,
     "end_time": "2021-06-06T13:47:31.864917",
     "exception": false,
     "start_time": "2021-06-06T13:47:31.851790",
     "status": "completed"
    },
    "tags": []
   },
   "source": [
    "- nltk 라이브러리에서 punkt 데이터를 다운 받음, 이 데이터는 영화 리뷰와 같은 문서 데이터로 문자의 tokeninizer를 위해서 필요하다\n",
    "- nltk 라이브러리를 이용해서 불용어를 다운 받음"
   ]
  },
  {
   "cell_type": "code",
   "execution_count": 3,
   "id": "asian-flashing",
   "metadata": {
    "execution": {
     "iopub.execute_input": "2021-06-06T13:47:31.894991Z",
     "iopub.status.busy": "2021-06-06T13:47:31.894300Z",
     "iopub.status.idle": "2021-06-06T13:47:32.120589Z",
     "shell.execute_reply": "2021-06-06T13:47:32.120039Z",
     "shell.execute_reply.started": "2021-06-06T13:23:15.085835Z"
    },
    "papermill": {
     "duration": 0.242364,
     "end_time": "2021-06-06T13:47:32.120738",
     "exception": false,
     "start_time": "2021-06-06T13:47:31.878374",
     "status": "completed"
    },
    "tags": []
   },
   "outputs": [
    {
     "name": "stdout",
     "output_type": "stream",
     "text": [
      "[nltk_data] Downloading package punkt to /usr/share/nltk_data...\n",
      "[nltk_data]   Package punkt is already up-to-date!\n",
      "[nltk_data] Downloading package stopwords to /usr/share/nltk_data...\n",
      "[nltk_data]   Package stopwords is already up-to-date!\n"
     ]
    },
    {
     "data": {
      "text/plain": [
       "True"
      ]
     },
     "execution_count": 3,
     "metadata": {},
     "output_type": "execute_result"
    }
   ],
   "source": [
    "nltk.download('punkt') #문자의 토큰을 위해 다운로드 \n",
    "nltk.download('stopwords') #불용어를 다운로드"
   ]
  },
  {
   "cell_type": "code",
   "execution_count": 4,
   "id": "large-ensemble",
   "metadata": {
    "execution": {
     "iopub.execute_input": "2021-06-06T13:47:32.155004Z",
     "iopub.status.busy": "2021-06-06T13:47:32.153962Z",
     "iopub.status.idle": "2021-06-06T13:47:32.193781Z",
     "shell.execute_reply": "2021-06-06T13:47:32.193208Z",
     "shell.execute_reply.started": "2021-06-06T13:23:15.265510Z"
    },
    "papermill": {
     "duration": 0.058908,
     "end_time": "2021-06-06T13:47:32.193937",
     "exception": false,
     "start_time": "2021-06-06T13:47:32.135029",
     "status": "completed"
    },
    "tags": []
   },
   "outputs": [],
   "source": [
    "#df_train = pd.read_csv(\"/kaggle/input/https-www-kaggle-com-c-2021-ml-tp2-spam/train.csv\",encoding=\"latin-1\")\n",
    "#df_test = pd.read_csv(\"/kaggle/input/https-www-kaggle-com-c-2021-ml-tp2-spam/test.csv\",encoding=\"latin-1\")\n",
    "df_train = pd.read_csv(\"/kaggle/input/2021-ml-tp2-spam/train.csv\",encoding=\"latin-1\") #train과 test에 해당하는 파일 불러오기\n",
    "df_test = pd.read_csv(\"/kaggle/input/2021-ml-tp2-spam/test.csv\",encoding=\"latin-1\")"
   ]
  },
  {
   "cell_type": "code",
   "execution_count": 5,
   "id": "internal-postcard",
   "metadata": {
    "execution": {
     "iopub.execute_input": "2021-06-06T13:47:32.234156Z",
     "iopub.status.busy": "2021-06-06T13:47:32.231424Z",
     "iopub.status.idle": "2021-06-06T13:47:32.237668Z",
     "shell.execute_reply": "2021-06-06T13:47:32.237131Z",
     "shell.execute_reply.started": "2021-06-06T13:23:15.301458Z"
    },
    "papermill": {
     "duration": 0.029537,
     "end_time": "2021-06-06T13:47:32.237829",
     "exception": false,
     "start_time": "2021-06-06T13:47:32.208292",
     "status": "completed"
    },
    "tags": []
   },
   "outputs": [],
   "source": [
    "X_train = df_train[\"Data\"] #x_train에 Data에 해당하는 것 저장\n",
    "y_train=df_train[\"Class\"] #y_train에 class저장\n",
    "X_test=df_test[\"Data\"] #x_test에 Data에 해당하는 것 저장"
   ]
  },
  {
   "cell_type": "markdown",
   "id": "variable-cycle",
   "metadata": {
    "papermill": {
     "duration": 0.013859,
     "end_time": "2021-06-06T13:47:32.266020",
     "exception": false,
     "start_time": "2021-06-06T13:47:32.252161",
     "status": "completed"
    },
    "tags": []
   },
   "source": [
    "# [Empty Module #1] 텍스트 데이터 전처리  \n",
    "\n",
    "목표: 텍스트 데이터를 처리하기 위한 여러 과정을 거쳐, 머신을 위한 데이터를 만든다. \n",
    "\n",
    "```\n",
    "[input]\n",
    "--------------\n",
    "- text: 텍스트 문장 데이터 \n",
    "\n",
    "[output]\n",
    "--------------\n",
    "- text: 전처리를 완료한 문장 데이터 \n",
    "    \n",
    "```"
   ]
  },
  {
   "cell_type": "code",
   "execution_count": 6,
   "id": "starting-venice",
   "metadata": {
    "execution": {
     "iopub.execute_input": "2021-06-06T13:47:32.298570Z",
     "iopub.status.busy": "2021-06-06T13:47:32.297454Z",
     "iopub.status.idle": "2021-06-06T13:47:32.306332Z",
     "shell.execute_reply": "2021-06-06T13:47:32.306869Z",
     "shell.execute_reply.started": "2021-06-06T13:23:15.315101Z"
    },
    "papermill": {
     "duration": 0.02682,
     "end_time": "2021-06-06T13:47:32.307049",
     "exception": false,
     "start_time": "2021-06-06T13:47:32.280229",
     "status": "completed"
    },
    "tags": []
   },
   "outputs": [],
   "source": [
    "# ------------------------------------------------\n",
    "# [Empty Module #1] 텍스트 데이터 전처리\n",
    "# ------------------------------------------------\n",
    "from nltk.corpus import stopwords \n",
    "from nltk.stem.porter import PorterStemmer\n",
    "\n",
    "def data_processing(text):\n",
    "    # ------------------------------------------------------------\n",
    "    # 구현 가이드라인 \n",
    "    # ------------------------------------------------------------\n",
    "    # [1] re.sub 사용해 text 속 '[^A-Za-z]' 외의 문자만을 찾아내 제거한후, pre_words 변수에 저장\n",
    "    #      1) pattern은 '[^A-Za-z]', repl=' ' 로 각각 설정.\n",
    "    #      2) 이모지나 숫자,점과 같은 문자외의 것들을 제거했다. (이모지는 감정 분석과 관련해서 몇가지 의미를 나타내지만 이 테스크에서는 이러한 의미도 제거함.)\n",
    "    #\n",
    "    # [2] pre_words의 lower 내장 함수를 이용해 대문자들은 소문자로 변경\n",
    "    #      1)  대, 소문자가 구분되어 있으면 \"Go\"와 \"go\" 와 같이 동일한 단어를 머신은 다른 단어로 취급한다. 따라서 대문자를 모두 소문자로 변경.\n",
    "    #\n",
    "    # [3] word_tokenize 함수를 이용해 pre_word 를 토큰화하여 word를 리스트화한 후 tokenized_words변수에 저장\n",
    "    #\n",
    "    # [4] nltk 라이브러리로 다운 받은 stopwords의 \"words\" 내장 함수를 이용해 english 불용어를 찾아서 stops 변수에 저장  \n",
    "    #      1) 불용어: 텍스트 분류에서 불용어는 텍스트의 중요도을 결정하는데 영향을 미치지 않는 단어임. \n",
    "    #                    (ex: the, we, a , will), 따라서 불필요한 단어가 예측 모델에 악영향을 끼칠 수 있기 때문에 제거.\n",
    "    #\n",
    "    # [5] [3] 에서 찾은 문자열 중 단어가 [4] 에서 찾은 불용어 속에 없을 경우, tokenized_words_remove 리스트에 append \n",
    "    #\n",
    "    # [6] PorterStemmer 속 stem 내장 함수를 이용해 동일 의미를 갖는 단어를 동일한 단어로 변경하는 과정을 거친 후 다시 저장.\n",
    "    #    \n",
    "    # ------------------------------------------------------------\n",
    "    ##############\n",
    "    \n",
    "    # [1]\n",
    "    pre_words = re.sub('[^A-Za-z]',' ',text) #문자가 아닌 것들을 제거\n",
    "    ##############\n",
    "   \n",
    "    # [2]\n",
    "    pre_words = pre_words.lower() #소문자로만 저장\n",
    "    ##############\n",
    "    \n",
    "    # [3]\n",
    "    \n",
    "    tokenized_words = word_tokenize(pre_words) #데이터 토큰화\n",
    "    ##############\n",
    "    \n",
    "    # [4]\n",
    "    stops =set(stopwords.words('english')) #불용어를 찾아서 저장\n",
    "\n",
    "    ##############\n",
    "    tokenized_words_remove=[]\n",
    "    \n",
    "    for w in tokenized_words: \n",
    "        # [5]\n",
    "        if w not in stops: \n",
    "            tokenized_words_remove.append(w) #불용어가 아닌 경우 리스트에 추가\n",
    "        ##############\n",
    "\n",
    "    stemmer = PorterStemmer()\n",
    "    for i in range(0,len(tokenized_words_remove)):\n",
    "        # [6]\n",
    "        tokenized_words_remove[i]=stemmer.stem(tokenized_words_remove[i]) #동일한 의미를 가지면 동일한 단어로 변경\n",
    "        ##############\n",
    "    \n",
    "    return ( \" \".join( tokenized_words_remove ))"
   ]
  },
  {
   "cell_type": "code",
   "execution_count": 7,
   "id": "revised-treaty",
   "metadata": {
    "execution": {
     "iopub.execute_input": "2021-06-06T13:47:32.339048Z",
     "iopub.status.busy": "2021-06-06T13:47:32.338013Z",
     "iopub.status.idle": "2021-06-06T13:47:36.011232Z",
     "shell.execute_reply": "2021-06-06T13:47:36.010662Z",
     "shell.execute_reply.started": "2021-06-06T13:23:15.326391Z"
    },
    "papermill": {
     "duration": 3.690358,
     "end_time": "2021-06-06T13:47:36.011372",
     "exception": false,
     "start_time": "2021-06-06T13:47:32.321014",
     "status": "completed"
    },
    "tags": []
   },
   "outputs": [],
   "source": [
    "X_train=[data_processing(i) for i in X_train] #train데이터,test데이터 저장\n",
    "X_test=[data_processing(i) for i in X_test]"
   ]
  },
  {
   "cell_type": "markdown",
   "id": "comfortable-yesterday",
   "metadata": {
    "papermill": {
     "duration": 0.013696,
     "end_time": "2021-06-06T13:47:36.039415",
     "exception": false,
     "start_time": "2021-06-06T13:47:36.025719",
     "status": "completed"
    },
    "tags": []
   },
   "source": [
    "# [Empty Module #2] Bag of Word \n",
    "\n",
    "목표: 문장 데이터를 머신을 학습하기 위한 실수화된 Feature로 변경하기로한다. \n",
    "\n",
    "- train 과 test 데이터 전부 type을 ('U')로 변경하여 Countvectorizer를 사용한다. \n",
    "- [설명 링크](https://scikit-learn.org/stable/modules/generated/sklearn.feature_extraction.text.CountVectorizer.html?highlight=countvectorizer#sklearn.feature_extraction.text.CountVectorizer)"
   ]
  },
  {
   "cell_type": "code",
   "execution_count": 8,
   "id": "removable-converter",
   "metadata": {
    "execution": {
     "iopub.execute_input": "2021-06-06T13:47:36.080673Z",
     "iopub.status.busy": "2021-06-06T13:47:36.079976Z",
     "iopub.status.idle": "2021-06-06T13:47:36.301941Z",
     "shell.execute_reply": "2021-06-06T13:47:36.301263Z",
     "shell.execute_reply.started": "2021-06-06T13:46:59.757691Z"
    },
    "papermill": {
     "duration": 0.248579,
     "end_time": "2021-06-06T13:47:36.302084",
     "exception": false,
     "start_time": "2021-06-06T13:47:36.053505",
     "status": "completed"
    },
    "tags": []
   },
   "outputs": [],
   "source": [
    "# ------------------------------------------------\n",
    "# [Empty Module #2] 텍스트 데이터 Bag of word  feature  화 \n",
    "# ------------------------------------------------\n",
    "from sklearn.feature_extraction.text import CountVectorizer\n",
    "from sklearn.feature_extraction.text import TfidfVectorizer\n",
    "from sklearn.feature_extraction.text import HashingVectorizer\n",
    "# ------------------------------------------------------------\n",
    "# 구현 가이드라인 \n",
    "# ------------------------------------------------------------\n",
    "# [1]  CountVectorizer를 정의 \n",
    "#           1) max_features를 100으로 지정 \n",
    "# [2] X_train 과 X_test를 numpy array로 변환 후 데이터 타입을 \"U\"로 변경해 저장\n",
    "#\n",
    "# [3] CountVectorizer를 이용해 X_train은 학습 및 변환을 하고, X_test는 변환을 진행. \n",
    "# ------------------------------------------------------------\n",
    "##########\n",
    "\n",
    "# [1]\n",
    "vectorizer = CountVectorizer(max_features=200,decode_error='replace')\n",
    "             \n",
    "# [2]\n",
    "X_train = np.array(X_train, dtype='U') #데이터 타입을 U로 저장\n",
    "X_test = np.array(X_test, dtype='U') #U의 의미는 유니코드 문자열\n",
    "\n",
    "# [3]\n",
    "X_train_features=vectorizer.fit_transform(X_train) #학습과 변환\n",
    "X_test_features=vectorizer.transform(X_test) #변환"
   ]
  },
  {
   "cell_type": "code",
   "execution_count": 9,
   "id": "waiting-review",
   "metadata": {
    "execution": {
     "iopub.execute_input": "2021-06-06T13:47:36.343976Z",
     "iopub.status.busy": "2021-06-06T13:47:36.343298Z",
     "iopub.status.idle": "2021-06-06T13:47:36.346502Z",
     "shell.execute_reply": "2021-06-06T13:47:36.346006Z",
     "shell.execute_reply.started": "2021-06-06T13:47:00.196306Z"
    },
    "papermill": {
     "duration": 0.030467,
     "end_time": "2021-06-06T13:47:36.346663",
     "exception": false,
     "start_time": "2021-06-06T13:47:36.316196",
     "status": "completed"
    },
    "tags": []
   },
   "outputs": [],
   "source": [
    "y_train[y_train==\"ham\"]=0 #ham은 0\n",
    "y_train[y_train==\"spam\"]=1 #spam은 1\n",
    "y_train=y_train.astype(\"uint8\") #데이터 타입 uint8로 저장"
   ]
  },
  {
   "cell_type": "markdown",
   "id": "processed-america",
   "metadata": {
    "papermill": {
     "duration": 0.013914,
     "end_time": "2021-06-06T13:47:36.374666",
     "exception": false,
     "start_time": "2021-06-06T13:47:36.360752",
     "status": "completed"
    },
    "tags": []
   },
   "source": [
    "## [Empty Module #3] SVM: classifier\n",
    "목표: SVC() 를 활용해 classification 을 진행\n",
    "\n",
    "- fit()으로 train 에 대한 머신러닝 학습\n",
    "- predict()으로 test 에 대한 정답을 추론 하여 반환"
   ]
  },
  {
   "cell_type": "code",
   "execution_count": 10,
   "id": "sought-politics",
   "metadata": {
    "execution": {
     "iopub.execute_input": "2021-06-06T13:47:36.408792Z",
     "iopub.status.busy": "2021-06-06T13:47:36.408100Z",
     "iopub.status.idle": "2021-06-06T13:47:36.750237Z",
     "shell.execute_reply": "2021-06-06T13:47:36.750792Z",
     "shell.execute_reply.started": "2021-06-06T13:47:01.851207Z"
    },
    "papermill": {
     "duration": 0.362149,
     "end_time": "2021-06-06T13:47:36.750975",
     "exception": false,
     "start_time": "2021-06-06T13:47:36.388826",
     "status": "completed"
    },
    "tags": []
   },
   "outputs": [
    {
     "name": "stdout",
     "output_type": "stream",
     "text": [
      "0.9928202827013687\n"
     ]
    }
   ],
   "source": [
    "# ------------------------------------------------\n",
    "# [Empty Module #3] 텍스트 데이터 Bag of word  feature  화 \n",
    "# ------------------------------------------------\n",
    "from sklearn.svm import SVC\n",
    "# ------------------------------------------------------------\n",
    "# 구현 가이드라인 \n",
    "# ------------------------------------------------------------\n",
    "# [1]  SVC 정의 \n",
    "#           1) gamma=\"auto\" 사용 \n",
    "# [2] X_train_features과 y_train으로 SVC 학습진행 후, X_test_features로 predict 진행\n",
    "#\n",
    "# ------------------------------------------------------------\n",
    "###########0.9928202827013687(140)gamma='auto',C=890\n",
    "# [1]\n",
    "\n",
    "svc=SVC(gamma='auto',C=1000) \n",
    "svc.fit(X_train_features, y_train) # train데이터로 학습\n",
    "# [2]\n",
    "print(svc.score(X_train_features, y_train)) #train 예측값 확인해보기\n",
    "y_pred=svc.predict(X_test_features) #test데이터로 예측"
   ]
  },
  {
   "cell_type": "markdown",
   "id": "continuous-armenia",
   "metadata": {
    "papermill": {
     "duration": 0.014209,
     "end_time": "2021-06-06T13:47:36.779720",
     "exception": false,
     "start_time": "2021-06-06T13:47:36.765511",
     "status": "completed"
    },
    "tags": []
   },
   "source": [
    "# Predict to CSV"
   ]
  },
  {
   "cell_type": "code",
   "execution_count": 11,
   "id": "grand-polls",
   "metadata": {
    "execution": {
     "iopub.execute_input": "2021-06-06T13:47:36.814998Z",
     "iopub.status.busy": "2021-06-06T13:47:36.814330Z",
     "iopub.status.idle": "2021-06-06T13:47:36.821984Z",
     "shell.execute_reply": "2021-06-06T13:47:36.822507Z",
     "shell.execute_reply.started": "2021-06-06T13:47:03.816111Z"
    },
    "papermill": {
     "duration": 0.028554,
     "end_time": "2021-06-06T13:47:36.822707",
     "exception": false,
     "start_time": "2021-06-06T13:47:36.794153",
     "status": "completed"
    },
    "tags": []
   },
   "outputs": [],
   "source": [
    "# 예측값을 csv로 저장하는 코드\n",
    "df_pred={\"ID\": range(np.array(y_pred).shape[0]),\"Class\":y_pred}\n",
    "df_pred=pd.DataFrame(df_pred)\n",
    "df_pred.to_csv(\"predict.csv\",index=False)"
   ]
  }
 ],
 "metadata": {
  "kernelspec": {
   "display_name": "Python 3",
   "language": "python",
   "name": "python3"
  },
  "language_info": {
   "codemirror_mode": {
    "name": "ipython",
    "version": 3
   },
   "file_extension": ".py",
   "mimetype": "text/x-python",
   "name": "python",
   "nbconvert_exporter": "python",
   "pygments_lexer": "ipython3",
   "version": "3.7.10"
  },
  "papermill": {
   "default_parameters": {},
   "duration": 15.782102,
   "end_time": "2021-06-06T13:47:38.157902",
   "environment_variables": {},
   "exception": null,
   "input_path": "__notebook__.ipynb",
   "output_path": "__notebook__.ipynb",
   "parameters": {},
   "start_time": "2021-06-06T13:47:22.375800",
   "version": "2.3.3"
  }
 },
 "nbformat": 4,
 "nbformat_minor": 5
}
